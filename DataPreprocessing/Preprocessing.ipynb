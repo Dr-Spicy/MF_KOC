{
  "cells": [
    {
      "cell_type": "code",
      "execution_count": 43,
      "metadata": {
        "id": "7NRI0YOOV7Oz"
      },
      "outputs": [],
      "source": [
        "import os\n",
        "import json\n",
        "import glob\n",
        "import pandas as pd\n",
        "import numpy as np"
      ]
    },
    {
      "cell_type": "code",
      "execution_count": 44,
      "metadata": {
        "id": "9JKKc3mCquHC"
      },
      "outputs": [],
      "source": [
        "RUN_ENV = 'PC' # 'PC' or 'COLAB'"
      ]
    },
    {
      "cell_type": "markdown",
      "metadata": {
        "id": "xCl7RnwX-LCw"
      },
      "source": [
        "# 0 Load Data by uploading json files maded by ning (need to repeat every time b4 u start)"
      ]
    },
    {
      "cell_type": "code",
      "execution_count": null,
      "metadata": {
        "colab": {
          "base_uri": "https://localhost:8080/",
          "height": 129
        },
        "id": "cMbdZwXnquHD",
        "outputId": "e005d149-a3ee-4e74-f1f5-8f161bfe46b0"
      },
      "outputs": [],
      "source": [
        "if RUN_ENV == 'COLAB':\n",
        "    from google.colab import files\n",
        "    #json文件，地址在github库MF_KOC\\Data\\raw\\, 导入上传文件为data frame格式\n",
        "    uploaded_creator = files.upload()\n",
        "    df_creator_0 = pd.read_json(next(iter(uploaded_creator)))\n",
        "    df_creator = df_creator_0.copy()\n",
        "    uploaded_content = files.upload()\n",
        "    df_contents_0 = pd.read_json(next(iter(uploaded_content)))\n",
        "    df_contents = df_contents_0.copy()\n",
        "elif RUN_ENV == 'PC':\n",
        "    #读取本地json文件\n",
        "    df_creator = pd.read_json(r'..\\Data\\raw\\creator_total.json')\n",
        "    df_contents = pd.read_json(r'..\\Data\\raw\\contents_total.json')\n",
        "    df_csv = pd.read_csv(r'..\\Data\\raw\\XHS_KOC_List - Sheet1.csv')"
      ]
    },
    {
      "cell_type": "code",
      "execution_count": 48,
      "metadata": {
        "colab": {
          "base_uri": "https://localhost:8080/"
        },
        "id": "uvTA74M7OWaA",
        "outputId": "e84e04ca-08f7-4726-9e2e-7aa4c38bc62c"
      },
      "outputs": [
        {
          "data": {
            "text/plain": [
              "(102, 11)"
            ]
          },
          "execution_count": 48,
          "metadata": {},
          "output_type": "execute_result"
        }
      ],
      "source": [
        "df_creator.shape"
      ]
    },
    {
      "cell_type": "code",
      "execution_count": 49,
      "metadata": {
        "colab": {
          "base_uri": "https://localhost:8080/"
        },
        "id": "szhEqBasOjao",
        "outputId": "4492470b-5453-4727-f60e-75c654db9ec4"
      },
      "outputs": [
        {
          "data": {
            "text/plain": [
              "(15941, 21)"
            ]
          },
          "execution_count": 49,
          "metadata": {},
          "output_type": "execute_result"
        }
      ],
      "source": [
        "df_contents.shape"
      ]
    },
    {
      "cell_type": "code",
      "execution_count": 50,
      "metadata": {
        "colab": {
          "base_uri": "https://localhost:8080/"
        },
        "id": "N-oWApJY9pE7",
        "outputId": "47f76826-aa35-4374-d2b6-43aa00f212e6"
      },
      "outputs": [
        {
          "data": {
            "text/plain": [
              "dtype('<M8[ns]')"
            ]
          },
          "execution_count": 50,
          "metadata": {},
          "output_type": "execute_result"
        }
      ],
      "source": [
        "df_contents['last_update_time'].dtype"
      ]
    },
    {
      "cell_type": "code",
      "execution_count": 51,
      "metadata": {
        "colab": {
          "base_uri": "https://localhost:8080/",
          "height": 949
        },
        "id": "wjeYZDsB9Cj_",
        "outputId": "bfad369d-af1c-4353-9974-c6373066f526"
      },
      "outputs": [
        {
          "data": {
            "text/html": [
              "<div>\n",
              "<style scoped>\n",
              "    .dataframe tbody tr th:only-of-type {\n",
              "        vertical-align: middle;\n",
              "    }\n",
              "\n",
              "    .dataframe tbody tr th {\n",
              "        vertical-align: top;\n",
              "    }\n",
              "\n",
              "    .dataframe thead th {\n",
              "        text-align: right;\n",
              "    }\n",
              "</style>\n",
              "<table border=\"1\" class=\"dataframe\">\n",
              "  <thead>\n",
              "    <tr style=\"text-align: right;\">\n",
              "      <th></th>\n",
              "      <th>note_id</th>\n",
              "      <th>type</th>\n",
              "      <th>title</th>\n",
              "      <th>desc</th>\n",
              "      <th>video_url</th>\n",
              "      <th>time</th>\n",
              "      <th>last_update_time</th>\n",
              "      <th>user_id</th>\n",
              "      <th>nickname</th>\n",
              "      <th>avatar</th>\n",
              "      <th>...</th>\n",
              "      <th>collected_count</th>\n",
              "      <th>comment_count</th>\n",
              "      <th>share_count</th>\n",
              "      <th>ip_location</th>\n",
              "      <th>image_list</th>\n",
              "      <th>tag_list</th>\n",
              "      <th>last_modify_ts</th>\n",
              "      <th>note_url</th>\n",
              "      <th>source_keyword</th>\n",
              "      <th>xsec_token</th>\n",
              "    </tr>\n",
              "  </thead>\n",
              "  <tbody>\n",
              "    <tr>\n",
              "      <th>0</th>\n",
              "      <td>67d0d605000000002903d86a</td>\n",
              "      <td>normal</td>\n",
              "      <td>有没有和我一样【吃茶三千】一喝一个不吱声的</td>\n",
              "      <td>连地址都不想写了[笑哭R]\\n虽然环境还不错，颜值也不错\\n但我感觉自己完全拔草了\\n尝了m...</td>\n",
              "      <td></td>\n",
              "      <td>1741739525000</td>\n",
              "      <td>2025-03-12 00:32:06</td>\n",
              "      <td>576d3bde82ec3952ff40c5e1</td>\n",
              "      <td>达拉斯小鸡腿</td>\n",
              "      <td>https://sns-avatar-qc.xhscdn.com/avatar/61df4c...</td>\n",
              "      <td>...</td>\n",
              "      <td>2</td>\n",
              "      <td>10</td>\n",
              "      <td>3</td>\n",
              "      <td>美国</td>\n",
              "      <td>http://sns-webpic-qc.xhscdn.com/202503120852/b...</td>\n",
              "      <td>达拉斯网红奶茶,达拉斯奶茶,达拉斯,达拉斯生活,达拉斯美食,达拉斯周边,达拉斯探店</td>\n",
              "      <td>1741740908175</td>\n",
              "      <td>https://www.xiaohongshu.com/explore/67d0d60500...</td>\n",
              "      <td></td>\n",
              "      <td>ABSpxxhbCOtTiDM1Z6Y5fFluSJE-UWXQzG6OX9Q9HAnE0=</td>\n",
              "    </tr>\n",
              "    <tr>\n",
              "      <th>1</th>\n",
              "      <td>67c8960f000000002503ff5f</td>\n",
              "      <td>normal</td>\n",
              "      <td>【达拉斯·玩】超治愈系手工体验！MUMU Garden</td>\n",
              "      <td>📍301 W Parker Rd #208[话题]#, Plano, TX 75023（快乐...</td>\n",
              "      <td></td>\n",
              "      <td>1741198863000</td>\n",
              "      <td>2025-03-05 18:21:04</td>\n",
              "      <td>576d3bde82ec3952ff40c5e1</td>\n",
              "      <td>达拉斯小鸡腿</td>\n",
              "      <td>https://sns-avatar-qc.xhscdn.com/avatar/61df4c...</td>\n",
              "      <td>...</td>\n",
              "      <td>23</td>\n",
              "      <td>7</td>\n",
              "      <td>37</td>\n",
              "      <td>美国</td>\n",
              "      <td>http://sns-webpic-qc.xhscdn.com/202503120852/7...</td>\n",
              "      <td>208,达拉斯生活,达拉斯探店,达拉斯,达拉斯吃喝玩乐,达拉斯手工,达拉斯周末,达拉斯周边,...</td>\n",
              "      <td>1741740908248</td>\n",
              "      <td>https://www.xiaohongshu.com/explore/67c8960f00...</td>\n",
              "      <td></td>\n",
              "      <td>AB3ke1aQNxQZscPaUXBq4LkbDVHt_mVF_w1f0UC8j-d40=</td>\n",
              "    </tr>\n",
              "    <tr>\n",
              "      <th>2</th>\n",
              "      <td>67b2c2f0000000002602e61d</td>\n",
              "      <td>normal</td>\n",
              "      <td>【达拉斯·吃】米其林推荐川菜主厨空降达拉斯？</td>\n",
              "      <td>📍2528 Old Denton Rd, Carrollton, TX 75006\\n听说米...</td>\n",
              "      <td></td>\n",
              "      <td>1739768560000</td>\n",
              "      <td>2025-02-17 15:09:01</td>\n",
              "      <td>576d3bde82ec3952ff40c5e1</td>\n",
              "      <td>达拉斯小鸡腿</td>\n",
              "      <td>https://sns-avatar-qc.xhscdn.com/avatar/61df4c...</td>\n",
              "      <td>...</td>\n",
              "      <td>80</td>\n",
              "      <td>38</td>\n",
              "      <td>155</td>\n",
              "      <td>美国</td>\n",
              "      <td>http://sns-webpic-qc.xhscdn.com/202503120852/f...</td>\n",
              "      <td>达拉斯美食,达拉斯生活,Texas,达拉斯,达拉斯周边美食,达拉斯探店,达拉斯川菜,carr...</td>\n",
              "      <td>1741740908264</td>\n",
              "      <td>https://www.xiaohongshu.com/explore/67b2c2f000...</td>\n",
              "      <td></td>\n",
              "      <td>ABG77tfdlwQLJhKRQTQZtoBD7ge1POM0Bh0jyYV3hPujo=</td>\n",
              "    </tr>\n",
              "    <tr>\n",
              "      <th>3</th>\n",
              "      <td>67a926770000000029011c49</td>\n",
              "      <td>normal</td>\n",
              "      <td>【达拉斯·吃】许留山这几碗糯唧唧绝了！</td>\n",
              "      <td>Hui Liu Shan\\n📍2540 Old Denton Rd Ste 310, Car...</td>\n",
              "      <td></td>\n",
              "      <td>1739138679000</td>\n",
              "      <td>2025-02-10 02:52:04</td>\n",
              "      <td>576d3bde82ec3952ff40c5e1</td>\n",
              "      <td>达拉斯小鸡腿</td>\n",
              "      <td>https://sns-avatar-qc.xhscdn.com/avatar/61df4c...</td>\n",
              "      <td>...</td>\n",
              "      <td>20</td>\n",
              "      <td>5</td>\n",
              "      <td>15</td>\n",
              "      <td>美国</td>\n",
              "      <td>http://sns-webpic-qc.xhscdn.com/202503120852/1...</td>\n",
              "      <td>达拉斯,德州,达拉斯美食,德州美食,达拉斯探店,达拉斯生活,许留山,达拉斯甜品,达拉斯网红甜...</td>\n",
              "      <td>1741740908290</td>\n",
              "      <td>https://www.xiaohongshu.com/explore/67a9267700...</td>\n",
              "      <td></td>\n",
              "      <td>ABtje6jsU3oGw8w-rSGTCria9hgCuQx2NWTEXz-ZMWbl8=</td>\n",
              "    </tr>\n",
              "    <tr>\n",
              "      <th>4</th>\n",
              "      <td>67a3d27600000000290360e3</td>\n",
              "      <td>normal</td>\n",
              "      <td>【达拉斯·喝】Frosty Fox奶茶礼盒开箱</td>\n",
              "      <td>大过年的没想到收到一个奶茶礼盒做开箱分享！新年快乐[大笑R]\\nFrosty Fox是一家从...</td>\n",
              "      <td></td>\n",
              "      <td>1738789494000</td>\n",
              "      <td>2025-02-06 00:57:09</td>\n",
              "      <td>576d3bde82ec3952ff40c5e1</td>\n",
              "      <td>达拉斯小鸡腿</td>\n",
              "      <td>https://sns-avatar-qc.xhscdn.com/avatar/61df4c...</td>\n",
              "      <td>...</td>\n",
              "      <td>4</td>\n",
              "      <td>4</td>\n",
              "      <td>2</td>\n",
              "      <td></td>\n",
              "      <td>http://sns-webpic-qc.xhscdn.com/202503120852/9...</td>\n",
              "      <td>达拉斯奶茶,达拉斯网红奶茶,达拉斯美食,德州美食,达拉斯生活,德州生活,frostyfox,...</td>\n",
              "      <td>1741740908312</td>\n",
              "      <td>https://www.xiaohongshu.com/explore/67a3d27600...</td>\n",
              "      <td></td>\n",
              "      <td>ABsKHG-EnljPoMxH2CQeHcuyEQPlnPONIeS2emRixO76o=</td>\n",
              "    </tr>\n",
              "  </tbody>\n",
              "</table>\n",
              "<p>5 rows × 21 columns</p>\n",
              "</div>"
            ],
            "text/plain": [
              "                    note_id    type                        title  \\\n",
              "0  67d0d605000000002903d86a  normal        有没有和我一样【吃茶三千】一喝一个不吱声的   \n",
              "1  67c8960f000000002503ff5f  normal  【达拉斯·玩】超治愈系手工体验！MUMU Garden   \n",
              "2  67b2c2f0000000002602e61d  normal       【达拉斯·吃】米其林推荐川菜主厨空降达拉斯？   \n",
              "3  67a926770000000029011c49  normal          【达拉斯·吃】许留山这几碗糯唧唧绝了！   \n",
              "4  67a3d27600000000290360e3  normal      【达拉斯·喝】Frosty Fox奶茶礼盒开箱   \n",
              "\n",
              "                                                desc video_url           time  \\\n",
              "0  连地址都不想写了[笑哭R]\\n虽然环境还不错，颜值也不错\\n但我感觉自己完全拔草了\\n尝了m...            1741739525000   \n",
              "1  📍301 W Parker Rd #208[话题]#, Plano, TX 75023（快乐...            1741198863000   \n",
              "2  📍2528 Old Denton Rd, Carrollton, TX 75006\\n听说米...            1739768560000   \n",
              "3  Hui Liu Shan\\n📍2540 Old Denton Rd Ste 310, Car...            1739138679000   \n",
              "4  大过年的没想到收到一个奶茶礼盒做开箱分享！新年快乐[大笑R]\\nFrosty Fox是一家从...            1738789494000   \n",
              "\n",
              "     last_update_time                   user_id nickname  \\\n",
              "0 2025-03-12 00:32:06  576d3bde82ec3952ff40c5e1   达拉斯小鸡腿   \n",
              "1 2025-03-05 18:21:04  576d3bde82ec3952ff40c5e1   达拉斯小鸡腿   \n",
              "2 2025-02-17 15:09:01  576d3bde82ec3952ff40c5e1   达拉斯小鸡腿   \n",
              "3 2025-02-10 02:52:04  576d3bde82ec3952ff40c5e1   达拉斯小鸡腿   \n",
              "4 2025-02-06 00:57:09  576d3bde82ec3952ff40c5e1   达拉斯小鸡腿   \n",
              "\n",
              "                                              avatar  ...  collected_count  \\\n",
              "0  https://sns-avatar-qc.xhscdn.com/avatar/61df4c...  ...                2   \n",
              "1  https://sns-avatar-qc.xhscdn.com/avatar/61df4c...  ...               23   \n",
              "2  https://sns-avatar-qc.xhscdn.com/avatar/61df4c...  ...               80   \n",
              "3  https://sns-avatar-qc.xhscdn.com/avatar/61df4c...  ...               20   \n",
              "4  https://sns-avatar-qc.xhscdn.com/avatar/61df4c...  ...                4   \n",
              "\n",
              "   comment_count  share_count  ip_location  \\\n",
              "0             10            3           美国   \n",
              "1              7           37           美国   \n",
              "2             38          155           美国   \n",
              "3              5           15           美国   \n",
              "4              4            2                \n",
              "\n",
              "                                          image_list  \\\n",
              "0  http://sns-webpic-qc.xhscdn.com/202503120852/b...   \n",
              "1  http://sns-webpic-qc.xhscdn.com/202503120852/7...   \n",
              "2  http://sns-webpic-qc.xhscdn.com/202503120852/f...   \n",
              "3  http://sns-webpic-qc.xhscdn.com/202503120852/1...   \n",
              "4  http://sns-webpic-qc.xhscdn.com/202503120852/9...   \n",
              "\n",
              "                                            tag_list last_modify_ts  \\\n",
              "0          达拉斯网红奶茶,达拉斯奶茶,达拉斯,达拉斯生活,达拉斯美食,达拉斯周边,达拉斯探店  1741740908175   \n",
              "1  208,达拉斯生活,达拉斯探店,达拉斯,达拉斯吃喝玩乐,达拉斯手工,达拉斯周末,达拉斯周边,...  1741740908248   \n",
              "2  达拉斯美食,达拉斯生活,Texas,达拉斯,达拉斯周边美食,达拉斯探店,达拉斯川菜,carr...  1741740908264   \n",
              "3  达拉斯,德州,达拉斯美食,德州美食,达拉斯探店,达拉斯生活,许留山,达拉斯甜品,达拉斯网红甜...  1741740908290   \n",
              "4  达拉斯奶茶,达拉斯网红奶茶,达拉斯美食,德州美食,达拉斯生活,德州生活,frostyfox,...  1741740908312   \n",
              "\n",
              "                                            note_url source_keyword  \\\n",
              "0  https://www.xiaohongshu.com/explore/67d0d60500...                  \n",
              "1  https://www.xiaohongshu.com/explore/67c8960f00...                  \n",
              "2  https://www.xiaohongshu.com/explore/67b2c2f000...                  \n",
              "3  https://www.xiaohongshu.com/explore/67a9267700...                  \n",
              "4  https://www.xiaohongshu.com/explore/67a3d27600...                  \n",
              "\n",
              "                                       xsec_token  \n",
              "0  ABSpxxhbCOtTiDM1Z6Y5fFluSJE-UWXQzG6OX9Q9HAnE0=  \n",
              "1  AB3ke1aQNxQZscPaUXBq4LkbDVHt_mVF_w1f0UC8j-d40=  \n",
              "2  ABG77tfdlwQLJhKRQTQZtoBD7ge1POM0Bh0jyYV3hPujo=  \n",
              "3  ABtje6jsU3oGw8w-rSGTCria9hgCuQx2NWTEXz-ZMWbl8=  \n",
              "4  ABsKHG-EnljPoMxH2CQeHcuyEQPlnPONIeS2emRixO76o=  \n",
              "\n",
              "[5 rows x 21 columns]"
            ]
          },
          "execution_count": 51,
          "metadata": {},
          "output_type": "execute_result"
        }
      ],
      "source": [
        "df_contents.head(5)"
      ]
    },
    {
      "cell_type": "code",
      "execution_count": 53,
      "metadata": {
        "colab": {
          "base_uri": "https://localhost:8080/",
          "height": 218
        },
        "id": "jnpC8bF3TMza",
        "outputId": "73c41d00-b6a2-4b02-c54a-df5867871b8a"
      },
      "outputs": [
        {
          "name": "stdout",
          "output_type": "stream",
          "text": [
            "(101, 14)\n"
          ]
        }
      ],
      "source": [
        "df_csv.drop(columns=['Scraped by', 'Name', 'URL', 'Bio(text)', '星座', 'Sex',\n",
        "       'following count', 'fans count', 'liked n collected', 'ip_location',\n",
        "       'tags(text)','红人健康等级', '活跃粉丝占比(仅>1K)',\n",
        "       '粉丝女性比例', '粉丝年龄<18', '粉丝年龄18-24', '粉丝年龄25-34', '粉丝年龄35-44', '粉丝年龄>44',\n",
        "       '粉丝兴趣标签', '粉丝地域分布', 'Unnamed: 25'], inplace=True)\n",
        "df_creator = pd.merge(\n",
        "df_creator,\n",
        "df_csv,\n",
        "on='user_id'\n",
        ")\n",
        "print(df_creator.shape)"
      ]
    },
    {
      "cell_type": "markdown",
      "metadata": {
        "id": "kp3gTOUj6gXL"
      },
      "source": [
        "# 1 Convert columns to the right dtype, and remove the irrelevant columns"
      ]
    },
    {
      "cell_type": "code",
      "execution_count": 54,
      "metadata": {
        "id": "O6qFoDL7quHF"
      },
      "outputs": [],
      "source": [
        "# Define the desired data types for each column of df_creator\n",
        "desired_dtypes = ['object']*6 + ['int32']*3 + ['object'] +  ['int64']\n",
        "df = df_creator\n",
        "# Assign the data types to the columns\n",
        "for col, dtype in zip(df.columns, desired_dtypes):\n",
        "    df[col] = df[col].astype(dtype)"
      ]
    },
    {
      "cell_type": "code",
      "execution_count": 55,
      "metadata": {
        "id": "TFgT2uHEquHF"
      },
      "outputs": [],
      "source": [
        "# Define the desired data types for each column of df_contents\n",
        "desired_dtypes = ['object']*5 +  ['int64'] + ['datetime64[s]'] + ['object']*3 +  ['int64']*4 + ['object']*3 + ['int64'] + ['object']*3\n",
        "df = df_contents\n",
        "# Assign the data types to the columns\n",
        "for col, dtype in zip(df.columns, desired_dtypes):\n",
        "    df[col] = df[col].astype(dtype)"
      ]
    },
    {
      "cell_type": "markdown",
      "metadata": {
        "id": "7l0MWJnPquHG"
      },
      "source": [
        "# 2 Treat the df_contents table"
      ]
    },
    {
      "cell_type": "markdown",
      "metadata": {
        "id": "467QoiqXquHG"
      },
      "source": [
        "### 7.2, 7.5, 7.6, 7.8, 7.9,"
      ]
    },
    {
      "cell_type": "code",
      "execution_count": 56,
      "metadata": {
        "id": "pSGyBjfSquHG"
      },
      "outputs": [],
      "source": [
        "# remove columns, ['video_url', 'nickname', 'avatar', 'ip_location', 'note_url', 'source_keyword', 'xsec_token']\n",
        "df_contents.drop(columns=['video_url', 'nickname', 'avatar', 'ip_location', 'note_url', 'source_keyword', 'xsec_token'], inplace=True)"
      ]
    },
    {
      "cell_type": "markdown",
      "metadata": {
        "id": "1_Rokt9uquHG"
      },
      "source": [
        "### 7.1 Type: change the normal to 0, video to 1"
      ]
    },
    {
      "cell_type": "code",
      "execution_count": 57,
      "metadata": {
        "colab": {
          "base_uri": "https://localhost:8080/",
          "height": 178
        },
        "id": "w9q8gEBnquHG",
        "outputId": "b86bcd58-acda-4c90-b52b-cfa4f406033f"
      },
      "outputs": [
        {
          "data": {
            "text/plain": [
              "type\n",
              "normal    12415\n",
              "video      3526\n",
              "Name: count, dtype: int64"
            ]
          },
          "execution_count": 57,
          "metadata": {},
          "output_type": "execute_result"
        }
      ],
      "source": [
        "df_contents['type'].value_counts()\n"
      ]
    },
    {
      "cell_type": "code",
      "execution_count": 58,
      "metadata": {
        "id": "OrDe0R4DquHH"
      },
      "outputs": [],
      "source": [
        "# Replace 'normal' with 0 and 'video' with 1 in the 'type' column\n",
        "df_contents['type'] = df_contents['type'].map({'normal': 0, 'video': 1}).astype('int8')\n",
        "\n",
        "# Change the column name 'type' to 'content_type_video'\n",
        "df_contents.rename(columns={'type': 'content_type_video'}, inplace=True)"
      ]
    },
    {
      "cell_type": "markdown",
      "metadata": {
        "id": "7MdQWpYequHH"
      },
      "source": [
        "### 7.7 [Xinbo]Replace image urls with image count"
      ]
    },
    {
      "cell_type": "code",
      "execution_count": 59,
      "metadata": {
        "id": "Xm0PdxLEquHH"
      },
      "outputs": [],
      "source": [
        "# Create a new column 'image_count' by counting the URLs in 'image_list'\n",
        "df_contents['image_count'] = df_contents['image_list'].apply(\n",
        "    lambda x: len(x.split(',')) if isinstance(x, str) and x.strip() != '' else 0\n",
        ")\n",
        "\n",
        "# Drop the original 'image_list' column\n",
        "df_contents.drop('image_list', axis=1, inplace=True)\n"
      ]
    },
    {
      "cell_type": "code",
      "execution_count": 60,
      "metadata": {
        "id": "FHtNNhdMquHH"
      },
      "outputs": [],
      "source": [
        "# Convert 'image_count' to int64\n",
        "df_contents['image_count'] = df_contents['image_count'].astype('int64')"
      ]
    },
    {
      "cell_type": "markdown",
      "metadata": {
        "id": "5jWR94UDquHH"
      },
      "source": [
        "### 7.12 [Xinbo,Xiaohan]note的互动总数(帮助确定爆款笔记)"
      ]
    },
    {
      "cell_type": "code",
      "execution_count": 61,
      "metadata": {
        "id": "emccIuYQquHH"
      },
      "outputs": [],
      "source": [
        "df_contents['interaction_count'] = df_contents[['liked_count', 'collected_count', 'comment_count']].sum(axis=1)\n"
      ]
    },
    {
      "cell_type": "markdown",
      "metadata": {
        "id": "mUPTI3wlquHH"
      },
      "source": [
        "### 5. [Ning]筛选爆款hot note"
      ]
    },
    {
      "cell_type": "code",
      "execution_count": 62,
      "metadata": {
        "id": "H1go-NKYquHI"
      },
      "outputs": [],
      "source": [
        "# A. 对于千粉级creator(粉丝数>1000):\n",
        "# \tIf a note 互动总数+分享数 > 粉丝数/10 + 50 (用当前粉丝数, 忽略粉丝成长曲线)\n",
        "# B. 对于素人级creator(1000>粉丝数):\n",
        "# \tIf a note 互动总数+分享数 > 150\n",
        "def get_hot_note(df_creator,df_contents):\n",
        "    \"\"\"\n",
        "    提取爆款笔记，并在原有完整笔记数据表中添加一列 hot_note, 用0或1标注是否为爆款笔记\n",
        "\n",
        "    Args:\n",
        "        df_creator (DataFrame): 完整用户数据.\n",
        "        df_contents (DataFrame): 完整笔记数据.\n",
        "    Return:\n",
        "        df_hot_content (DataFrame): 爆款笔记数据\n",
        "        df_contents (DataFrame): 添加后的笔记数据.\n",
        "    \"\"\"\n",
        "    merged_df = pd.merge(\n",
        "    df_creator[['user_id', 'fans']],\n",
        "    df_contents,\n",
        "    on='user_id'\n",
        "    )\n",
        "    maskA = (\n",
        "        (merged_df['fans'] >= 1000) &\n",
        "        ((merged_df['liked_count'] + merged_df['collected_count'] +\n",
        "          merged_df['comment_count'] + merged_df['share_count']) >\n",
        "         (merged_df['fans'] / 10 + 50))\n",
        "    )\n",
        "\n",
        "    maskB = (\n",
        "        (merged_df['fans'] < 1000) &\n",
        "        ((merged_df['liked_count'] + merged_df['collected_count'] +\n",
        "          merged_df['comment_count'] + merged_df['share_count']) > 150)\n",
        "    )\n",
        "\n",
        "    mask = maskA | maskB\n",
        "    hot_content = merged_df[mask]\n",
        "\n",
        "    df_contents['hot_note'] = 0\n",
        "    hot_list = hot_content['note_id'].values.tolist()\n",
        "    for i in range(len(df_contents)):\n",
        "      rows = df_contents.iloc[i]\n",
        "      note_id = rows['note_id']\n",
        "      if note_id in hot_list:\n",
        "        df_contents.loc[df_contents['note_id']==note_id,'hot_note']=1\n",
        "\n",
        "    return df_contents, hot_content\n",
        "\n",
        "# Get hot notes and add a new column to df_contents\n",
        "df_contents, df_hot_content = get_hot_note(df_creator, df_contents)"
      ]
    },
    {
      "cell_type": "markdown",
      "metadata": {
        "id": "iZM8ghVduOzr"
      },
      "source": [
        "6.28 [Ning]新加average pictures per normal note, pic_per_normal_note 以及视频笔记占比, video_ratio\\\n",
        "6.29 [Ning]新加hot note count (请参考上面高亮的 5, 分两类creator, 但需要完成content表)\\\n",
        "6.30 [Ning]新加total share counts from hot notes ratio(同上)\\\n",
        "6.31 [Ning]新加最近一次发帖到抓取时的天数(floor取整), last_note2now\\\n",
        "6.32 [Ning]新加最近一次发hot note到抓取时的天数(floor取整), last_hot_note2now"
      ]
    },
    {
      "cell_type": "code",
      "execution_count": 63,
      "metadata": {
        "colab": {
          "base_uri": "https://localhost:8080/"
        },
        "id": "fj3ZFae-uGU9",
        "outputId": "fe5bed5e-6e07-4085-8c0e-c49c91ef0f91"
      },
      "outputs": [
        {
          "name": "stderr",
          "output_type": "stream",
          "text": [
            "C:\\Users\\Han\\AppData\\Local\\Temp\\ipykernel_28600\\1618437053.py:58: FutureWarning: Setting an item of incompatible dtype is deprecated and will raise an error in a future version of pandas. Value '0.558763816828333' has dtype incompatible with int64, please explicitly cast to a compatible dtype first.\n",
            "  df_creator.loc[df_creator['user_id'] == user_id, 'total_share_counts_hot_ratio'] = current_hot_content['share_count'].sum()/current_content['share_count'].sum()\n"
          ]
        }
      ],
      "source": [
        "def get_di(time):\n",
        "      days = time / 86400000\n",
        "      if days <= 25:\n",
        "        d = np.exp(-0.02773*days)\n",
        "      else:\n",
        "        d = np.exp(-0.02773*25) * np.exp(-0.00396*(days-25))\n",
        "      return d\n",
        "def timestamp_diff_to_days(t1, t2):\n",
        "    \"\"\"\n",
        "    计算毫米级时间戳的差值，并转化为天数，向下取整\n",
        "\n",
        "    Args:\n",
        "        t2 (int): 第二时间.\n",
        "        t1 (int): 第一时间.\n",
        "    Return:\n",
        "        days (int): 差值天数\n",
        "    \"\"\"\n",
        "    delta_ms = t2 - t1\n",
        "    days = delta_ms // 86400000\n",
        "    return days\n",
        "def add_columns_creator_Ning(df_creator,df_contents,hot_content):\n",
        "    \"\"\"\n",
        "    在用户数据中添加 hot_note_count, total_share_counts_hot_ratio, last_note2now, last_hot_note2now, pic_per_normal_note, video_ratio, weighted_total_share_counts\n",
        "\n",
        "    Args:\n",
        "        df_creator (DataFrame): 完整用户数据.\n",
        "        df_contents (DataFrame): 完整笔记数据.\n",
        "        hot_content (DataFrame): 爆款笔记数据.\n",
        "    Return:\n",
        "        df_creator (DataFrame): 添加完成后的用户数据\n",
        "    \"\"\"\n",
        "    df_creator['pic_per_normal_note'] = 0.0\n",
        "    df_creator['video_ratio'] = 0.0\n",
        "    df_creator['hot_note_count'] = 0\n",
        "    df_creator['total_share_counts_hot_ratio'] = 0\n",
        "    df_creator['last_note2now'] = 0\n",
        "    df_creator['last_hot_note2now'] = 0\n",
        "    for i in range(len(df_creator)):\n",
        "      num_video = 0\n",
        "      num_image = 0\n",
        "      num_share = 0\n",
        "      rows = df_creator.iloc[i]\n",
        "      user_id = rows['user_id']\n",
        "      current_hot_content = hot_content[hot_content['user_id']== user_id]\n",
        "      current_content = df_contents[df_contents['user_id']== user_id]\n",
        "      for j in range(len(current_content)):\n",
        "        rows = current_content.iloc[j]\n",
        "        num_share += rows['share_count'] * get_di(timestamp_diff_to_days(rows['time'], rows['last_modify_ts']))\n",
        "        note_type = rows['content_type_video']\n",
        "        if note_type == 1:\n",
        "          num_video += 1\n",
        "        elif note_type == 0:\n",
        "          num_image += rows['image_count']\n",
        "      df_creator.loc[df_creator['user_id'] == user_id, 'weighted_total_share_counts'] = num_share\n",
        "      df_creator.loc[df_creator['user_id'] == user_id, 'video_ratio'] = num_video/len(current_content)\n",
        "      df_creator.loc[df_creator['user_id'] == user_id, 'pic_per_normal_note'] = min(num_image/(len(current_content)-num_video),8)\n",
        "      df_creator.loc[df_creator['user_id'] == user_id, 'hot_note_count'] = len(current_hot_content)\n",
        "      df_creator.loc[df_creator['user_id'] == user_id, 'total_share_counts_hot_ratio'] = current_hot_content['share_count'].sum()/current_content['share_count'].sum()\n",
        "      time_last_note = df_contents.loc[df_contents['user_id']== user_id]['time'].max()\n",
        "      time_craw_note = df_contents.loc[(df_contents['user_id']== user_id) & (df_contents['time']== time_last_note), 'last_modify_ts'].max()\n",
        "      time_last_hot = hot_content.loc[hot_content['user_id']== user_id]['time'].max()\n",
        "      time_craw_hot = hot_content.loc[(hot_content['user_id']== user_id) & (hot_content['time']== time_last_hot), 'last_modify_ts'].max()\n",
        "      if len(current_hot_content) != 0:\n",
        "        df_creator.loc[df_creator['user_id'] == user_id, 'last_note2now'] = int(timestamp_diff_to_days(time_last_note, time_craw_note))\n",
        "        df_creator.loc[df_creator['user_id'] == user_id, 'last_hot_note2now'] = int(timestamp_diff_to_days(time_last_hot, time_craw_hot))\n",
        "    return df_creator\n",
        "df_contents, hot_content = get_hot_note(df_creator,df_contents.copy())\n",
        "df_creator = add_columns_creator_Ning(df_creator,df_contents,hot_content)"
      ]
    },
    {
      "cell_type": "markdown",
      "metadata": {
        "id": "oqNawTXRuW1a"
      },
      "source": [
        "[Ning] 维度2内容传播力以及维度5"
      ]
    },
    {
      "cell_type": "code",
      "execution_count": 64,
      "metadata": {
        "id": "Vp6b18qIuYNk"
      },
      "outputs": [],
      "source": [
        "def get_d2_score(df_creator,df_contents):\n",
        "    \"\"\"\n",
        "    计算维度二的总分并添加到用户表中\n",
        "\n",
        "    Args:\n",
        "        df_creator (DataFrame): 完整用户数据.\n",
        "        df_contents (DataFrame): 完整笔记数据.\n",
        "    Return:\n",
        "        df_creator (DataFrame): 添加维度二总分后的用户数据\n",
        "    \"\"\"\n",
        "\n",
        "    df_creator['score_2'] = 0.0\n",
        "    df_creator['score_5'] = 0.0\n",
        "    for i in range(len(df_creator)):\n",
        "      rows = df_creator.iloc[i]\n",
        "      user_id = rows['user_id']\n",
        "      price = rows.get('图文报价(RMB)',10)\n",
        "      is_price = rows.get('图文报价有对号',0)\n",
        "      level = rows.get('平台等级',3)\n",
        "      if level == '金冠薯':\n",
        "        level = 9\n",
        "      elif level == '银冠薯':\n",
        "        level = 9\n",
        "      elif level == '铜冠薯':\n",
        "        level = 8\n",
        "      elif level == '文化薯':\n",
        "        level = 7\n",
        "      elif level == '小马薯':\n",
        "        level = 6\n",
        "      elif level == '甜筒薯':\n",
        "        level = 5\n",
        "      elif level == '泡泡薯':\n",
        "        level = 4\n",
        "      else:\n",
        "        level = 3\n",
        "      if is_price != '1':\n",
        "        is_price = '0'\n",
        "        score_c = 0\n",
        "      else:score_c = 10\n",
        "      if price == 'null' or price == 'Null' or price == '找不到':\n",
        "        price = 10\n",
        "      if type(price) != str: price = 10\n",
        "      if int(price) <= 100:\n",
        "        score_a = 60\n",
        "      else: score_a = 60*np.exp(0.015*(100-int(price)))\n",
        "      if level <= 8:\n",
        "        score_b = 30*(np.log(level+1)/np.log(9))\n",
        "      else:score_b = 28.5\n",
        "\n",
        "      df_creator.loc[df_creator['user_id'] == user_id, 'score_5'] = score_a + score_b + score_c\n",
        "      score_1 = 0\n",
        "      score_2 = 0\n",
        "      score_3 = 0\n",
        "      # 1. 传播效能（50%）\n",
        "      score_1 = rows['weighted_total_share_counts']*50/np.percentile(df_creator['weighted_total_share_counts'].values.tolist(),90)\n",
        "      # 2. 爆款质量（30%）\n",
        "      first_term = rows['hot_note_count']*0.7/np.percentile(df_creator['hot_note_count'].values.tolist(),90)\n",
        "      second_term = rows['total_share_counts_hot_ratio']*0.3/np.percentile(df_creator['total_share_counts_hot_ratio'].values.tolist(),90)\n",
        "      score_2 = (first_term + second_term)*30\n",
        "      # 3. 视觉表达（20%）\n",
        "      first_term = rows['pic_per_normal_note']*0.6/8\n",
        "      second_term = rows['video_ratio']*0.4/np.percentile(df_creator['video_ratio'].values.tolist(),90)\n",
        "      score_3 = (first_term + second_term)*20\n",
        "      df_creator.loc[df_creator['user_id'] == user_id, 'score_2'] = score_1 + score_2 + score_3\n",
        "    return df_creator\n",
        "df_creator = get_d2_score(df_creator,df_contents)"
      ]
    },
    {
      "cell_type": "code",
      "execution_count": 65,
      "metadata": {
        "colab": {
          "base_uri": "https://localhost:8080/",
          "height": 531
        },
        "id": "34WAQLg_29t8",
        "outputId": "be82acf2-5ab4-43cf-831a-24a8ee07dcaa"
      },
      "outputs": [
        {
          "data": {
            "text/html": [
              "<div>\n",
              "<style scoped>\n",
              "    .dataframe tbody tr th:only-of-type {\n",
              "        vertical-align: middle;\n",
              "    }\n",
              "\n",
              "    .dataframe tbody tr th {\n",
              "        vertical-align: top;\n",
              "    }\n",
              "\n",
              "    .dataframe thead th {\n",
              "        text-align: right;\n",
              "    }\n",
              "</style>\n",
              "<table border=\"1\" class=\"dataframe\">\n",
              "  <thead>\n",
              "    <tr style=\"text-align: right;\">\n",
              "      <th></th>\n",
              "      <th>note_id</th>\n",
              "      <th>content_type_video</th>\n",
              "      <th>title</th>\n",
              "      <th>desc</th>\n",
              "      <th>time</th>\n",
              "      <th>last_update_time</th>\n",
              "      <th>user_id</th>\n",
              "      <th>liked_count</th>\n",
              "      <th>collected_count</th>\n",
              "      <th>comment_count</th>\n",
              "      <th>share_count</th>\n",
              "      <th>tag_list</th>\n",
              "      <th>last_modify_ts</th>\n",
              "      <th>image_count</th>\n",
              "      <th>interaction_count</th>\n",
              "      <th>hot_note</th>\n",
              "    </tr>\n",
              "  </thead>\n",
              "  <tbody>\n",
              "    <tr>\n",
              "      <th>0</th>\n",
              "      <td>67d0d605000000002903d86a</td>\n",
              "      <td>0</td>\n",
              "      <td>有没有和我一样【吃茶三千】一喝一个不吱声的</td>\n",
              "      <td>连地址都不想写了[笑哭R]\\n虽然环境还不错，颜值也不错\\n但我感觉自己完全拔草了\\n尝了m...</td>\n",
              "      <td>1741739525000</td>\n",
              "      <td>2025-03-12 00:32:06</td>\n",
              "      <td>576d3bde82ec3952ff40c5e1</td>\n",
              "      <td>5</td>\n",
              "      <td>2</td>\n",
              "      <td>10</td>\n",
              "      <td>3</td>\n",
              "      <td>达拉斯网红奶茶,达拉斯奶茶,达拉斯,达拉斯生活,达拉斯美食,达拉斯周边,达拉斯探店</td>\n",
              "      <td>1741740908175</td>\n",
              "      <td>1</td>\n",
              "      <td>17</td>\n",
              "      <td>0</td>\n",
              "    </tr>\n",
              "    <tr>\n",
              "      <th>1</th>\n",
              "      <td>67c8960f000000002503ff5f</td>\n",
              "      <td>0</td>\n",
              "      <td>【达拉斯·玩】超治愈系手工体验！MUMU Garden</td>\n",
              "      <td>📍301 W Parker Rd #208[话题]#, Plano, TX 75023（快乐...</td>\n",
              "      <td>1741198863000</td>\n",
              "      <td>2025-03-05 18:21:04</td>\n",
              "      <td>576d3bde82ec3952ff40c5e1</td>\n",
              "      <td>47</td>\n",
              "      <td>23</td>\n",
              "      <td>7</td>\n",
              "      <td>37</td>\n",
              "      <td>208,达拉斯生活,达拉斯探店,达拉斯,达拉斯吃喝玩乐,达拉斯手工,达拉斯周末,达拉斯周边,...</td>\n",
              "      <td>1741740908248</td>\n",
              "      <td>14</td>\n",
              "      <td>77</td>\n",
              "      <td>0</td>\n",
              "    </tr>\n",
              "  </tbody>\n",
              "</table>\n",
              "</div>"
            ],
            "text/plain": [
              "                    note_id  content_type_video                        title  \\\n",
              "0  67d0d605000000002903d86a                   0        有没有和我一样【吃茶三千】一喝一个不吱声的   \n",
              "1  67c8960f000000002503ff5f                   0  【达拉斯·玩】超治愈系手工体验！MUMU Garden   \n",
              "\n",
              "                                                desc           time  \\\n",
              "0  连地址都不想写了[笑哭R]\\n虽然环境还不错，颜值也不错\\n但我感觉自己完全拔草了\\n尝了m...  1741739525000   \n",
              "1  📍301 W Parker Rd #208[话题]#, Plano, TX 75023（快乐...  1741198863000   \n",
              "\n",
              "     last_update_time                   user_id  liked_count  collected_count  \\\n",
              "0 2025-03-12 00:32:06  576d3bde82ec3952ff40c5e1            5                2   \n",
              "1 2025-03-05 18:21:04  576d3bde82ec3952ff40c5e1           47               23   \n",
              "\n",
              "   comment_count  share_count  \\\n",
              "0             10            3   \n",
              "1              7           37   \n",
              "\n",
              "                                            tag_list  last_modify_ts  \\\n",
              "0          达拉斯网红奶茶,达拉斯奶茶,达拉斯,达拉斯生活,达拉斯美食,达拉斯周边,达拉斯探店   1741740908175   \n",
              "1  208,达拉斯生活,达拉斯探店,达拉斯,达拉斯吃喝玩乐,达拉斯手工,达拉斯周末,达拉斯周边,...   1741740908248   \n",
              "\n",
              "   image_count  interaction_count  hot_note  \n",
              "0            1                 17         0  \n",
              "1           14                 77         0  "
            ]
          },
          "execution_count": 65,
          "metadata": {},
          "output_type": "execute_result"
        }
      ],
      "source": [
        "df.head(2)\n"
      ]
    },
    {
      "cell_type": "markdown",
      "metadata": {
        "id": "QIgJOC-TquHI"
      },
      "source": [
        "### 7.13 [Yucheng]笔记在EDA图的时间戳可以设定为Time和last_update_time的一个函数"
      ]
    },
    {
      "cell_type": "code",
      "execution_count": 66,
      "metadata": {
        "id": "_5y8DerNL41O"
      },
      "outputs": [],
      "source": [
        "def clean_and_extract_time_features(df_contents):\n",
        "\n",
        "    \"\"\"\n",
        "    统一原始时间字段格式，并添加基于发帖时间的时间特征。\n",
        "\n",
        "    重命名字段（并统一为 datetime）：\n",
        "        - time（发帖时间）：转换为 datetime\n",
        "        - last_modify_ts → scraped_time（抓取时间）：转换并改名\n",
        "        - last_update_time：已是 datetime 格式，做标准化\n",
        "    \"\"\"\n",
        "\n",
        "    # 转换并重命名 last_modify_ts 为 scraped_time\n",
        "    df_contents['scraped_time'] = pd.to_datetime(df_contents['last_modify_ts'], unit='ms')\n",
        "    df_contents['scraped_time'] = df_contents['scraped_time'].dt.floor('s')\n",
        "    df_contents.drop(columns=['last_modify_ts'], inplace=True)\n",
        "\n",
        "    # 转换其他时间字段\n",
        "    df_contents['time'] = pd.to_datetime(df_contents['time'], unit='ms')\n",
        "\n",
        "    # rename 'time' to 'post_time'\n",
        "    df_contents.rename(columns={'time': 'post_time'}, inplace=True)\n",
        "\n",
        "    #elapsed_time := scraped_time - post_time, 向下取整到day,\n",
        "    # Calculate elapsed time and add it as a new column\n",
        "    df_contents['elapsed_time'] = (df_contents['scraped_time'] - df_contents['post_time']).dt.days\n",
        "\n",
        "    return df_contents\n",
        "\n",
        "df_contents = clean_and_extract_time_features(df_contents)"
      ]
    },
    {
      "cell_type": "code",
      "execution_count": 67,
      "metadata": {
        "colab": {
          "base_uri": "https://localhost:8080/",
          "height": 669
        },
        "id": "G0os9OrxzSJn",
        "outputId": "24fe1a77-ef36-495d-93b6-b1c8a037f3f0"
      },
      "outputs": [
        {
          "data": {
            "text/html": [
              "<div>\n",
              "<style scoped>\n",
              "    .dataframe tbody tr th:only-of-type {\n",
              "        vertical-align: middle;\n",
              "    }\n",
              "\n",
              "    .dataframe tbody tr th {\n",
              "        vertical-align: top;\n",
              "    }\n",
              "\n",
              "    .dataframe thead th {\n",
              "        text-align: right;\n",
              "    }\n",
              "</style>\n",
              "<table border=\"1\" class=\"dataframe\">\n",
              "  <thead>\n",
              "    <tr style=\"text-align: right;\">\n",
              "      <th></th>\n",
              "      <th>0</th>\n",
              "      <th>1</th>\n",
              "      <th>2</th>\n",
              "      <th>3</th>\n",
              "      <th>4</th>\n",
              "    </tr>\n",
              "  </thead>\n",
              "  <tbody>\n",
              "    <tr>\n",
              "      <th>note_id</th>\n",
              "      <td>67d0d605000000002903d86a</td>\n",
              "      <td>67c8960f000000002503ff5f</td>\n",
              "      <td>67b2c2f0000000002602e61d</td>\n",
              "      <td>67a926770000000029011c49</td>\n",
              "      <td>67a3d27600000000290360e3</td>\n",
              "    </tr>\n",
              "    <tr>\n",
              "      <th>content_type_video</th>\n",
              "      <td>0</td>\n",
              "      <td>0</td>\n",
              "      <td>0</td>\n",
              "      <td>0</td>\n",
              "      <td>0</td>\n",
              "    </tr>\n",
              "    <tr>\n",
              "      <th>title</th>\n",
              "      <td>有没有和我一样【吃茶三千】一喝一个不吱声的</td>\n",
              "      <td>【达拉斯·玩】超治愈系手工体验！MUMU Garden</td>\n",
              "      <td>【达拉斯·吃】米其林推荐川菜主厨空降达拉斯？</td>\n",
              "      <td>【达拉斯·吃】许留山这几碗糯唧唧绝了！</td>\n",
              "      <td>【达拉斯·喝】Frosty Fox奶茶礼盒开箱</td>\n",
              "    </tr>\n",
              "    <tr>\n",
              "      <th>desc</th>\n",
              "      <td>连地址都不想写了[笑哭R]\\n虽然环境还不错，颜值也不错\\n但我感觉自己完全拔草了\\n尝了m...</td>\n",
              "      <td>📍301 W Parker Rd #208[话题]#, Plano, TX 75023（快乐...</td>\n",
              "      <td>📍2528 Old Denton Rd, Carrollton, TX 75006\\n听说米...</td>\n",
              "      <td>Hui Liu Shan\\n📍2540 Old Denton Rd Ste 310, Car...</td>\n",
              "      <td>大过年的没想到收到一个奶茶礼盒做开箱分享！新年快乐[大笑R]\\nFrosty Fox是一家从...</td>\n",
              "    </tr>\n",
              "    <tr>\n",
              "      <th>post_time</th>\n",
              "      <td>2025-03-12 00:32:05</td>\n",
              "      <td>2025-03-05 18:21:03</td>\n",
              "      <td>2025-02-17 05:02:40</td>\n",
              "      <td>2025-02-09 22:04:39</td>\n",
              "      <td>2025-02-05 21:04:54</td>\n",
              "    </tr>\n",
              "    <tr>\n",
              "      <th>last_update_time</th>\n",
              "      <td>2025-03-12 00:32:06</td>\n",
              "      <td>2025-03-05 18:21:04</td>\n",
              "      <td>2025-02-17 15:09:01</td>\n",
              "      <td>2025-02-10 02:52:04</td>\n",
              "      <td>2025-02-06 00:57:09</td>\n",
              "    </tr>\n",
              "    <tr>\n",
              "      <th>user_id</th>\n",
              "      <td>576d3bde82ec3952ff40c5e1</td>\n",
              "      <td>576d3bde82ec3952ff40c5e1</td>\n",
              "      <td>576d3bde82ec3952ff40c5e1</td>\n",
              "      <td>576d3bde82ec3952ff40c5e1</td>\n",
              "      <td>576d3bde82ec3952ff40c5e1</td>\n",
              "    </tr>\n",
              "    <tr>\n",
              "      <th>liked_count</th>\n",
              "      <td>5</td>\n",
              "      <td>47</td>\n",
              "      <td>85</td>\n",
              "      <td>48</td>\n",
              "      <td>15</td>\n",
              "    </tr>\n",
              "    <tr>\n",
              "      <th>collected_count</th>\n",
              "      <td>2</td>\n",
              "      <td>23</td>\n",
              "      <td>80</td>\n",
              "      <td>20</td>\n",
              "      <td>4</td>\n",
              "    </tr>\n",
              "    <tr>\n",
              "      <th>comment_count</th>\n",
              "      <td>10</td>\n",
              "      <td>7</td>\n",
              "      <td>38</td>\n",
              "      <td>5</td>\n",
              "      <td>4</td>\n",
              "    </tr>\n",
              "    <tr>\n",
              "      <th>share_count</th>\n",
              "      <td>3</td>\n",
              "      <td>37</td>\n",
              "      <td>155</td>\n",
              "      <td>15</td>\n",
              "      <td>2</td>\n",
              "    </tr>\n",
              "    <tr>\n",
              "      <th>tag_list</th>\n",
              "      <td>达拉斯网红奶茶,达拉斯奶茶,达拉斯,达拉斯生活,达拉斯美食,达拉斯周边,达拉斯探店</td>\n",
              "      <td>208,达拉斯生活,达拉斯探店,达拉斯,达拉斯吃喝玩乐,达拉斯手工,达拉斯周末,达拉斯周边,...</td>\n",
              "      <td>达拉斯美食,达拉斯生活,Texas,达拉斯,达拉斯周边美食,达拉斯探店,达拉斯川菜,carr...</td>\n",
              "      <td>达拉斯,德州,达拉斯美食,德州美食,达拉斯探店,达拉斯生活,许留山,达拉斯甜品,达拉斯网红甜...</td>\n",
              "      <td>达拉斯奶茶,达拉斯网红奶茶,达拉斯美食,德州美食,达拉斯生活,德州生活,frostyfox,...</td>\n",
              "    </tr>\n",
              "    <tr>\n",
              "      <th>image_count</th>\n",
              "      <td>1</td>\n",
              "      <td>14</td>\n",
              "      <td>15</td>\n",
              "      <td>5</td>\n",
              "      <td>7</td>\n",
              "    </tr>\n",
              "    <tr>\n",
              "      <th>interaction_count</th>\n",
              "      <td>17</td>\n",
              "      <td>77</td>\n",
              "      <td>203</td>\n",
              "      <td>73</td>\n",
              "      <td>23</td>\n",
              "    </tr>\n",
              "    <tr>\n",
              "      <th>hot_note</th>\n",
              "      <td>0</td>\n",
              "      <td>0</td>\n",
              "      <td>1</td>\n",
              "      <td>0</td>\n",
              "      <td>0</td>\n",
              "    </tr>\n",
              "    <tr>\n",
              "      <th>scraped_time</th>\n",
              "      <td>2025-03-12 00:55:08</td>\n",
              "      <td>2025-03-12 00:55:08</td>\n",
              "      <td>2025-03-12 00:55:08</td>\n",
              "      <td>2025-03-12 00:55:08</td>\n",
              "      <td>2025-03-12 00:55:08</td>\n",
              "    </tr>\n",
              "    <tr>\n",
              "      <th>elapsed_time</th>\n",
              "      <td>0</td>\n",
              "      <td>6</td>\n",
              "      <td>22</td>\n",
              "      <td>30</td>\n",
              "      <td>34</td>\n",
              "    </tr>\n",
              "  </tbody>\n",
              "</table>\n",
              "</div>"
            ],
            "text/plain": [
              "                                                                    0  \\\n",
              "note_id                                      67d0d605000000002903d86a   \n",
              "content_type_video                                                  0   \n",
              "title                                           有没有和我一样【吃茶三千】一喝一个不吱声的   \n",
              "desc                连地址都不想写了[笑哭R]\\n虽然环境还不错，颜值也不错\\n但我感觉自己完全拔草了\\n尝了m...   \n",
              "post_time                                         2025-03-12 00:32:05   \n",
              "last_update_time                                  2025-03-12 00:32:06   \n",
              "user_id                                      576d3bde82ec3952ff40c5e1   \n",
              "liked_count                                                         5   \n",
              "collected_count                                                     2   \n",
              "comment_count                                                      10   \n",
              "share_count                                                         3   \n",
              "tag_list                    达拉斯网红奶茶,达拉斯奶茶,达拉斯,达拉斯生活,达拉斯美食,达拉斯周边,达拉斯探店   \n",
              "image_count                                                         1   \n",
              "interaction_count                                                  17   \n",
              "hot_note                                                            0   \n",
              "scraped_time                                      2025-03-12 00:55:08   \n",
              "elapsed_time                                                        0   \n",
              "\n",
              "                                                                    1  \\\n",
              "note_id                                      67c8960f000000002503ff5f   \n",
              "content_type_video                                                  0   \n",
              "title                                     【达拉斯·玩】超治愈系手工体验！MUMU Garden   \n",
              "desc                📍301 W Parker Rd #208[话题]#, Plano, TX 75023（快乐...   \n",
              "post_time                                         2025-03-05 18:21:03   \n",
              "last_update_time                                  2025-03-05 18:21:04   \n",
              "user_id                                      576d3bde82ec3952ff40c5e1   \n",
              "liked_count                                                        47   \n",
              "collected_count                                                    23   \n",
              "comment_count                                                       7   \n",
              "share_count                                                        37   \n",
              "tag_list            208,达拉斯生活,达拉斯探店,达拉斯,达拉斯吃喝玩乐,达拉斯手工,达拉斯周末,达拉斯周边,...   \n",
              "image_count                                                        14   \n",
              "interaction_count                                                  77   \n",
              "hot_note                                                            0   \n",
              "scraped_time                                      2025-03-12 00:55:08   \n",
              "elapsed_time                                                        6   \n",
              "\n",
              "                                                                    2  \\\n",
              "note_id                                      67b2c2f0000000002602e61d   \n",
              "content_type_video                                                  0   \n",
              "title                                          【达拉斯·吃】米其林推荐川菜主厨空降达拉斯？   \n",
              "desc                📍2528 Old Denton Rd, Carrollton, TX 75006\\n听说米...   \n",
              "post_time                                         2025-02-17 05:02:40   \n",
              "last_update_time                                  2025-02-17 15:09:01   \n",
              "user_id                                      576d3bde82ec3952ff40c5e1   \n",
              "liked_count                                                        85   \n",
              "collected_count                                                    80   \n",
              "comment_count                                                      38   \n",
              "share_count                                                       155   \n",
              "tag_list            达拉斯美食,达拉斯生活,Texas,达拉斯,达拉斯周边美食,达拉斯探店,达拉斯川菜,carr...   \n",
              "image_count                                                        15   \n",
              "interaction_count                                                 203   \n",
              "hot_note                                                            1   \n",
              "scraped_time                                      2025-03-12 00:55:08   \n",
              "elapsed_time                                                       22   \n",
              "\n",
              "                                                                    3  \\\n",
              "note_id                                      67a926770000000029011c49   \n",
              "content_type_video                                                  0   \n",
              "title                                             【达拉斯·吃】许留山这几碗糯唧唧绝了！   \n",
              "desc                Hui Liu Shan\\n📍2540 Old Denton Rd Ste 310, Car...   \n",
              "post_time                                         2025-02-09 22:04:39   \n",
              "last_update_time                                  2025-02-10 02:52:04   \n",
              "user_id                                      576d3bde82ec3952ff40c5e1   \n",
              "liked_count                                                        48   \n",
              "collected_count                                                    20   \n",
              "comment_count                                                       5   \n",
              "share_count                                                        15   \n",
              "tag_list            达拉斯,德州,达拉斯美食,德州美食,达拉斯探店,达拉斯生活,许留山,达拉斯甜品,达拉斯网红甜...   \n",
              "image_count                                                         5   \n",
              "interaction_count                                                  73   \n",
              "hot_note                                                            0   \n",
              "scraped_time                                      2025-03-12 00:55:08   \n",
              "elapsed_time                                                       30   \n",
              "\n",
              "                                                                    4  \n",
              "note_id                                      67a3d27600000000290360e3  \n",
              "content_type_video                                                  0  \n",
              "title                                         【达拉斯·喝】Frosty Fox奶茶礼盒开箱  \n",
              "desc                大过年的没想到收到一个奶茶礼盒做开箱分享！新年快乐[大笑R]\\nFrosty Fox是一家从...  \n",
              "post_time                                         2025-02-05 21:04:54  \n",
              "last_update_time                                  2025-02-06 00:57:09  \n",
              "user_id                                      576d3bde82ec3952ff40c5e1  \n",
              "liked_count                                                        15  \n",
              "collected_count                                                     4  \n",
              "comment_count                                                       4  \n",
              "share_count                                                         2  \n",
              "tag_list            达拉斯奶茶,达拉斯网红奶茶,达拉斯美食,德州美食,达拉斯生活,德州生活,frostyfox,...  \n",
              "image_count                                                         7  \n",
              "interaction_count                                                  23  \n",
              "hot_note                                                            0  \n",
              "scraped_time                                      2025-03-12 00:55:08  \n",
              "elapsed_time                                                       34  "
            ]
          },
          "execution_count": 67,
          "metadata": {},
          "output_type": "execute_result"
        }
      ],
      "source": [
        "# 快速预览时间和提取结果\n",
        "df_contents.head(5).T"
      ]
    },
    {
      "cell_type": "code",
      "execution_count": 68,
      "metadata": {
        "colab": {
          "base_uri": "https://localhost:8080/"
        },
        "id": "tBkRfdHILoWg",
        "outputId": "b52e076e-ed8e-40dd-ac18-803cd474c334"
      },
      "outputs": [
        {
          "data": {
            "text/plain": [
              "dtype('<M8[s]')"
            ]
          },
          "execution_count": 68,
          "metadata": {},
          "output_type": "execute_result"
        }
      ],
      "source": [
        "df_contents['last_update_time'].dtype"
      ]
    },
    {
      "cell_type": "markdown",
      "metadata": {
        "id": "HN0vZTxjcZDF"
      },
      "source": [
        "## Rearrange the columns in df_contents"
      ]
    },
    {
      "cell_type": "code",
      "execution_count": 69,
      "metadata": {
        "colab": {
          "base_uri": "https://localhost:8080/",
          "height": 444
        },
        "id": "hC5fbejLbL5-",
        "outputId": "93260aa1-ec6d-4cbd-d41e-f0b8e25a769b"
      },
      "outputs": [
        {
          "data": {
            "text/html": [
              "<div>\n",
              "<style scoped>\n",
              "    .dataframe tbody tr th:only-of-type {\n",
              "        vertical-align: middle;\n",
              "    }\n",
              "\n",
              "    .dataframe tbody tr th {\n",
              "        vertical-align: top;\n",
              "    }\n",
              "\n",
              "    .dataframe thead th {\n",
              "        text-align: right;\n",
              "    }\n",
              "</style>\n",
              "<table border=\"1\" class=\"dataframe\">\n",
              "  <thead>\n",
              "    <tr style=\"text-align: right;\">\n",
              "      <th></th>\n",
              "      <th>note_id</th>\n",
              "      <th>user_id</th>\n",
              "      <th>title</th>\n",
              "      <th>note_body</th>\n",
              "      <th>tag_list</th>\n",
              "      <th>image_count</th>\n",
              "      <th>content_type_video</th>\n",
              "      <th>hot_note</th>\n",
              "      <th>post_time</th>\n",
              "      <th>last_update_time</th>\n",
              "      <th>scraped_time</th>\n",
              "      <th>elapsed_time</th>\n",
              "      <th>liked_count</th>\n",
              "      <th>collected_count</th>\n",
              "      <th>comment_count</th>\n",
              "      <th>share_count</th>\n",
              "      <th>interaction_count</th>\n",
              "    </tr>\n",
              "  </thead>\n",
              "  <tbody>\n",
              "    <tr>\n",
              "      <th>0</th>\n",
              "      <td>67d0d605000000002903d86a</td>\n",
              "      <td>576d3bde82ec3952ff40c5e1</td>\n",
              "      <td>有没有和我一样【吃茶三千】一喝一个不吱声的</td>\n",
              "      <td>连地址都不想写了[笑哭R]\\n虽然环境还不错，颜值也不错\\n但我感觉自己完全拔草了\\n尝了m...</td>\n",
              "      <td>达拉斯网红奶茶,达拉斯奶茶,达拉斯,达拉斯生活,达拉斯美食,达拉斯周边,达拉斯探店</td>\n",
              "      <td>1</td>\n",
              "      <td>0</td>\n",
              "      <td>0</td>\n",
              "      <td>2025-03-12 00:32:05</td>\n",
              "      <td>2025-03-12 00:32:06</td>\n",
              "      <td>2025-03-12 00:55:08</td>\n",
              "      <td>0</td>\n",
              "      <td>5</td>\n",
              "      <td>2</td>\n",
              "      <td>10</td>\n",
              "      <td>3</td>\n",
              "      <td>17</td>\n",
              "    </tr>\n",
              "    <tr>\n",
              "      <th>1</th>\n",
              "      <td>67c8960f000000002503ff5f</td>\n",
              "      <td>576d3bde82ec3952ff40c5e1</td>\n",
              "      <td>【达拉斯·玩】超治愈系手工体验！MUMU Garden</td>\n",
              "      <td>📍301 W Parker Rd #208[话题]#, Plano, TX 75023（快乐...</td>\n",
              "      <td>208,达拉斯生活,达拉斯探店,达拉斯,达拉斯吃喝玩乐,达拉斯手工,达拉斯周末,达拉斯周边,...</td>\n",
              "      <td>14</td>\n",
              "      <td>0</td>\n",
              "      <td>0</td>\n",
              "      <td>2025-03-05 18:21:03</td>\n",
              "      <td>2025-03-05 18:21:04</td>\n",
              "      <td>2025-03-12 00:55:08</td>\n",
              "      <td>6</td>\n",
              "      <td>47</td>\n",
              "      <td>23</td>\n",
              "      <td>7</td>\n",
              "      <td>37</td>\n",
              "      <td>77</td>\n",
              "    </tr>\n",
              "  </tbody>\n",
              "</table>\n",
              "</div>"
            ],
            "text/plain": [
              "                    note_id                   user_id  \\\n",
              "0  67d0d605000000002903d86a  576d3bde82ec3952ff40c5e1   \n",
              "1  67c8960f000000002503ff5f  576d3bde82ec3952ff40c5e1   \n",
              "\n",
              "                         title  \\\n",
              "0        有没有和我一样【吃茶三千】一喝一个不吱声的   \n",
              "1  【达拉斯·玩】超治愈系手工体验！MUMU Garden   \n",
              "\n",
              "                                           note_body  \\\n",
              "0  连地址都不想写了[笑哭R]\\n虽然环境还不错，颜值也不错\\n但我感觉自己完全拔草了\\n尝了m...   \n",
              "1  📍301 W Parker Rd #208[话题]#, Plano, TX 75023（快乐...   \n",
              "\n",
              "                                            tag_list  image_count  \\\n",
              "0          达拉斯网红奶茶,达拉斯奶茶,达拉斯,达拉斯生活,达拉斯美食,达拉斯周边,达拉斯探店            1   \n",
              "1  208,达拉斯生活,达拉斯探店,达拉斯,达拉斯吃喝玩乐,达拉斯手工,达拉斯周末,达拉斯周边,...           14   \n",
              "\n",
              "   content_type_video  hot_note           post_time    last_update_time  \\\n",
              "0                   0         0 2025-03-12 00:32:05 2025-03-12 00:32:06   \n",
              "1                   0         0 2025-03-05 18:21:03 2025-03-05 18:21:04   \n",
              "\n",
              "         scraped_time  elapsed_time  liked_count  collected_count  \\\n",
              "0 2025-03-12 00:55:08             0            5                2   \n",
              "1 2025-03-12 00:55:08             6           47               23   \n",
              "\n",
              "   comment_count  share_count  interaction_count  \n",
              "0             10            3                 17  \n",
              "1              7           37                 77  "
            ]
          },
          "execution_count": 69,
          "metadata": {},
          "output_type": "execute_result"
        }
      ],
      "source": [
        "# Define the desired column order\n",
        "new_column_order = ['note_id', 'user_id', 'title', 'desc', 'tag_list', 'image_count',\n",
        "                   'content_type_video', 'hot_note', 'post_time', 'last_update_time',\n",
        "                   'scraped_time', 'elapsed_time','liked_count', 'collected_count', 'comment_count',\n",
        "                   'share_count', 'interaction_count']\n",
        "\n",
        "# Reorder the columns using the new order\n",
        "df_contents = df_contents[new_column_order]\n",
        "\n",
        "# Change the desc to note_body\n",
        "df_contents.rename(columns={'desc': 'note_body'}, inplace=True)\n",
        "\n",
        "df_contents.head(2)"
      ]
    },
    {
      "cell_type": "markdown",
      "metadata": {
        "id": "AbULV0FZUEI2"
      },
      "source": [
        "### 把df_conents 存为contents_cooked, 以后直接使用这个, 不要继续用df_conents"
      ]
    },
    {
      "cell_type": "code",
      "execution_count": 70,
      "metadata": {
        "id": "6dav52d5Kyzk"
      },
      "outputs": [],
      "source": [
        "# save df_contents to contents_cooked.json\n",
        "if RUN_ENV == 'COLAB':\n",
        "    # Save the DataFrame exclude the columns ['year', 'month', 'dayofweek', 'is_weekend', 'hour'] to a JSON file in Google Colab\n",
        "    df_contents.to_json(r'/content/contents_cooked.json', orient='records',date_format='iso', force_ascii=False)\n",
        "elif RUN_ENV == 'PC':\n",
        "    # Save the DataFrame exclude the columns ['year', 'month', 'dayofweek', 'is_weekend', 'hour'] to a JSON file on your local machine\n",
        "    df_contents.to_json(r'..\\Data\\processed\\contents_cooked.json', orient='records',date_format='iso', force_ascii=False)"
      ]
    },
    {
      "cell_type": "code",
      "execution_count": 71,
      "metadata": {
        "id": "AMHYkDpW0V71"
      },
      "outputs": [],
      "source": [
        "# from google.colab import drive\n",
        "# drive.mount('/content/drive')\n",
        "# save_path = '/content/drive/MyDrive/DS_HighLevel_Project/KOC_Model/contents_cooked.json'\n",
        "# df_contents.to_json(save_path, orient='records', force_ascii=False,date_format='iso')\n",
        "# import os\n",
        "# if os.path.exists(save_path):\n",
        "#     print(f\"文件已成功保存至：{save_path}\")\n",
        "# else:\n",
        "#     print(\"文件保存失败，请检查路径或挂载状态\")"
      ]
    },
    {
      "cell_type": "markdown",
      "metadata": {
        "id": "Xb5yO5-IquHJ"
      },
      "source": [
        "# 3 Treat the df_creator table"
      ]
    },
    {
      "cell_type": "markdown",
      "metadata": {
        "id": "oXStAcn66dfj"
      },
      "source": [
        "## 6.6 - 6.10 Add Interaction Counts\n",
        "Refine Creator (add sums)\n",
        "- 6.6 Get the total amount of `liked`\n",
        "- 6.7 Get the total amount of `collected`\n",
        "- 6.8 Get the total amount of `comment`\n",
        "- 6.9 Get the total amount of `shared`\n",
        "- 6.10 Get the total number of posts as `note_count`\n",
        "- The data type of added columns are set to integer"
      ]
    },
    {
      "cell_type": "code",
      "execution_count": 72,
      "metadata": {
        "id": "sjBZ3-tKT1qn"
      },
      "outputs": [],
      "source": [
        "# Ensure numeric columns in the content df are in the proper format\n",
        "for col in ['liked_count', 'collected_count', 'comment_count', 'share_count']:\n",
        "    df_contents[col] = pd.to_numeric(df_contents[col], errors='coerce')\n",
        "\n",
        "# Group content df by user_id and sum the counts\n",
        "agg_counts = df_contents.groupby('user_id')[['liked_count', 'collected_count', 'comment_count', 'share_count']].sum().reset_index()\n",
        "\n",
        "# Merge the aggregated counts into the creator df by aligning on user_id\n",
        "df_creator = pd.merge(df_creator, agg_counts, on='user_id', how='left')\n",
        "# Convert the data type to integer\n",
        "for col in ['liked_count', 'collected_count', 'comment_count', 'share_count']:\n",
        "    df_creator[col] = df_creator[col].convert_dtypes()\n"
      ]
    },
    {
      "cell_type": "code",
      "execution_count": 73,
      "metadata": {
        "id": "V3pxWXfkyKcu"
      },
      "outputs": [],
      "source": [
        "note_counts = df_contents.groupby(\"user_id\")[\"note_id\"].count().reset_index(name=\"note_count\")\n",
        "df_creator = pd.merge(df_creator, note_counts, on=\"user_id\", how=\"left\")\n",
        "df_creator[\"note_count\"] = df_creator[\"note_count\"].fillna(0).astype(int)"
      ]
    },
    {
      "cell_type": "code",
      "execution_count": 74,
      "metadata": {
        "colab": {
          "base_uri": "https://localhost:8080/",
          "height": 370
        },
        "id": "5x7T75hoPQT1",
        "outputId": "9f9dcc96-eca7-4482-a526-8bf89410cf01"
      },
      "outputs": [
        {
          "data": {
            "text/html": [
              "<div>\n",
              "<style scoped>\n",
              "    .dataframe tbody tr th:only-of-type {\n",
              "        vertical-align: middle;\n",
              "    }\n",
              "\n",
              "    .dataframe tbody tr th {\n",
              "        vertical-align: top;\n",
              "    }\n",
              "\n",
              "    .dataframe thead th {\n",
              "        text-align: right;\n",
              "    }\n",
              "</style>\n",
              "<table border=\"1\" class=\"dataframe\">\n",
              "  <thead>\n",
              "    <tr style=\"text-align: right;\">\n",
              "      <th></th>\n",
              "      <th>user_id</th>\n",
              "      <th>nickname</th>\n",
              "      <th>gender</th>\n",
              "      <th>avatar</th>\n",
              "      <th>desc</th>\n",
              "      <th>ip_location</th>\n",
              "      <th>follows</th>\n",
              "      <th>fans</th>\n",
              "      <th>interaction</th>\n",
              "      <th>tag_list</th>\n",
              "      <th>...</th>\n",
              "      <th>last_note2now</th>\n",
              "      <th>last_hot_note2now</th>\n",
              "      <th>weighted_total_share_counts</th>\n",
              "      <th>score_2</th>\n",
              "      <th>score_5</th>\n",
              "      <th>liked_count</th>\n",
              "      <th>collected_count</th>\n",
              "      <th>comment_count</th>\n",
              "      <th>share_count</th>\n",
              "      <th>note_count</th>\n",
              "    </tr>\n",
              "  </thead>\n",
              "  <tbody>\n",
              "    <tr>\n",
              "      <th>0</th>\n",
              "      <td>576d3bde82ec3952ff40c5e1</td>\n",
              "      <td>达拉斯小鸡腿</td>\n",
              "      <td>女</td>\n",
              "      <td>https://sns-avatar-qc.xhscdn.com/avatar/61df4c...</td>\n",
              "      <td>慢慢了解世界，慢慢更新自己\\n吃喝玩乐+宝宝们，随心分享\\n佛系更新中～比心🫰</td>\n",
              "      <td>美国</td>\n",
              "      <td>837</td>\n",
              "      <td>1653</td>\n",
              "      <td>11636</td>\n",
              "      <td>{\"info\": null, \"location\": \"美国\", \"profession\":...</td>\n",
              "      <td>...</td>\n",
              "      <td>0</td>\n",
              "      <td>22</td>\n",
              "      <td>4432.999131</td>\n",
              "      <td>79.299927</td>\n",
              "      <td>78.927893</td>\n",
              "      <td>6443</td>\n",
              "      <td>4951</td>\n",
              "      <td>2847</td>\n",
              "      <td>4433</td>\n",
              "      <td>146</td>\n",
              "    </tr>\n",
              "    <tr>\n",
              "      <th>1</th>\n",
              "      <td>58b325ce50c4b442ae017a30</td>\n",
              "      <td>小温柔Sylvia</td>\n",
              "      <td>女</td>\n",
              "      <td>https://sns-avatar-qc.xhscdn.com/avatar/1040g2...</td>\n",
              "      <td>北京🇨🇳→ 达拉斯🇺🇸\\n163cm ♋巨蟹座 乐观开朗 \\nIG: sylviviishe...</td>\n",
              "      <td>美国</td>\n",
              "      <td>961</td>\n",
              "      <td>304</td>\n",
              "      <td>10699</td>\n",
              "      <td>{\"info\": null, \"location\": \"北京海淀\"}</td>\n",
              "      <td>...</td>\n",
              "      <td>5</td>\n",
              "      <td>5</td>\n",
              "      <td>1817.999749</td>\n",
              "      <td>47.633788</td>\n",
              "      <td>78.927893</td>\n",
              "      <td>7290</td>\n",
              "      <td>3354</td>\n",
              "      <td>1713</td>\n",
              "      <td>1818</td>\n",
              "      <td>142</td>\n",
              "    </tr>\n",
              "  </tbody>\n",
              "</table>\n",
              "<p>2 rows × 28 columns</p>\n",
              "</div>"
            ],
            "text/plain": [
              "                    user_id   nickname gender  \\\n",
              "0  576d3bde82ec3952ff40c5e1     达拉斯小鸡腿      女   \n",
              "1  58b325ce50c4b442ae017a30  小温柔Sylvia      女   \n",
              "\n",
              "                                              avatar  \\\n",
              "0  https://sns-avatar-qc.xhscdn.com/avatar/61df4c...   \n",
              "1  https://sns-avatar-qc.xhscdn.com/avatar/1040g2...   \n",
              "\n",
              "                                                desc ip_location  follows  \\\n",
              "0            慢慢了解世界，慢慢更新自己\\n吃喝玩乐+宝宝们，随心分享\\n佛系更新中～比心🫰          美国      837   \n",
              "1  北京🇨🇳→ 达拉斯🇺🇸\\n163cm ♋巨蟹座 乐观开朗 \\nIG: sylviviishe...          美国      961   \n",
              "\n",
              "   fans  interaction                                           tag_list  ...  \\\n",
              "0  1653        11636  {\"info\": null, \"location\": \"美国\", \"profession\":...  ...   \n",
              "1   304        10699                 {\"info\": null, \"location\": \"北京海淀\"}  ...   \n",
              "\n",
              "   last_note2now  last_hot_note2now  weighted_total_share_counts    score_2  \\\n",
              "0              0                 22                  4432.999131  79.299927   \n",
              "1              5                  5                  1817.999749  47.633788   \n",
              "\n",
              "     score_5  liked_count  collected_count  comment_count  share_count  \\\n",
              "0  78.927893         6443             4951           2847         4433   \n",
              "1  78.927893         7290             3354           1713         1818   \n",
              "\n",
              "   note_count  \n",
              "0         146  \n",
              "1         142  \n",
              "\n",
              "[2 rows x 28 columns]"
            ]
          },
          "execution_count": 74,
          "metadata": {},
          "output_type": "execute_result"
        }
      ],
      "source": [
        "df_creator.head(2)"
      ]
    },
    {
      "cell_type": "markdown",
      "metadata": {
        "id": "bI9AHYod_Aow"
      },
      "source": [
        "## Processing Tag list\n",
        "There are four different categories in tag lists: info, location, profession and college.\n",
        "\n",
        "Processing tag lists as\n",
        "- Creating a columns as `zodiac` for 星座 。\n",
        "- Note that there are 5 missing values in the `ip_location` column where the `location` column is not missing. I plan to use the `location` data to impute these missing `ip_location` values. Additionally, there are 22 cases where `ip_location` and `location` do not match (among the non-missing location entries), which include typos, missing values, and additional details present in the `location` field. (For detailed location info, we still need to discuss how to deal with it.)\n",
        "- For `college`, `prefession`and `age`, there are only few KOC having this information, so I append it behind `desc` connected by '|'."
      ]
    },
    {
      "cell_type": "code",
      "execution_count": 75,
      "metadata": {
        "colab": {
          "base_uri": "https://localhost:8080/"
        },
        "id": "i9l_A12nnsq9",
        "outputId": "cfaee475-8a45-45b4-9fd4-f0aba221a136"
      },
      "outputs": [
        {
          "name": "stdout",
          "output_type": "stream",
          "text": [
            "Missing Values Counts:\n",
            "zodiac        74\n",
            "age           90\n",
            "profession    73\n",
            "college       94\n",
            "dtype: int64\n",
            "\n",
            "Rows with unknown zodiac:\n",
            "    zodiac      age profession  college\n",
            "0  unknown  unknown       探店博主  unknown\n",
            "1  unknown  unknown    unknown  unknown\n",
            "2  unknown      35岁    unknown  unknown\n",
            "3  unknown  unknown       美食博主  unknown\n",
            "4  unknown  unknown    unknown  unknown\n"
          ]
        }
      ],
      "source": [
        "import json\n",
        "import pandas as pd\n",
        "\n",
        "def extract_features(row):\n",
        "    # Set default values when a field is missing\n",
        "    zodiac = 'unknown'\n",
        "    age = 'unknown'\n",
        "    profession = 'unknown'\n",
        "    college = 'unknown'\n",
        "\n",
        "    try:\n",
        "        tag_dict = json.loads(row['tag_list'])\n",
        "    except Exception:\n",
        "        # If tag_list is not valid JSON, return defaults.\n",
        "        return pd.Series([zodiac, age, profession, college])\n",
        "\n",
        "    # Process the 'info' field for zodiac and age.\n",
        "    info = tag_dict.get('info')\n",
        "    if info and isinstance(info, str):\n",
        "        if '座' in info:\n",
        "            zodiac = info  # if '座' is present, assume this is the zodiac info.\n",
        "        if '岁' in info:\n",
        "            age = info     # if '岁' is present, assume this is the age info.\n",
        "\n",
        "    # Process 'profession'\n",
        "    if tag_dict.get('profession'):\n",
        "        profession = tag_dict.get('profession')\n",
        "\n",
        "    # Process 'college'\n",
        "    if tag_dict.get('college'):\n",
        "        college = tag_dict.get('college')\n",
        "\n",
        "    return pd.Series([zodiac, age, profession, college])\n",
        "\n",
        "# Apply the extraction function to create a temporary DataFrame of extracted features.\n",
        "extracted_features = df_creator.apply(extract_features, axis=1)\n",
        "extracted_features.columns = ['zodiac', 'age', 'profession', 'college']\n",
        "\n",
        "# Check how many rows have 'unknown' for each feature.\n",
        "missing_counts = extracted_features.eq('unknown').sum()\n",
        "print(\"Missing Values Counts:\")\n",
        "print(missing_counts)\n",
        "\n",
        "# Optionally, inspect a few rows with missing zodiac information.\n",
        "print(\"\\nRows with unknown zodiac:\")\n",
        "print(extracted_features[extracted_features['zodiac'] == 'unknown'].head())\n"
      ]
    },
    {
      "cell_type": "code",
      "execution_count": 76,
      "metadata": {
        "id": "oOVeDmPQntzm"
      },
      "outputs": [],
      "source": [
        "def append_tags_to_desc(row):\n",
        "    original_desc = row['desc']\n",
        "\n",
        "    # Default values when a field is missing\n",
        "    zodiac = 'unknown'\n",
        "    age = 'unknown'\n",
        "    profession = 'unknown'\n",
        "    college = 'unknown'\n",
        "\n",
        "    try:\n",
        "        tag_dict = json.loads(row['tag_list'])\n",
        "    except Exception:\n",
        "        # If tag_list is not valid JSON, append unknown for all.\n",
        "        appended = f\"Zodiac: {zodiac} | Age: {age} | Profession: {profession} | College: {college}\"\n",
        "        return original_desc + \" | \" + appended\n",
        "\n",
        "    # Process the 'info' field for zodiac and age.\n",
        "    info = tag_dict.get('info')\n",
        "    if info and isinstance(info, str):\n",
        "        if '座' in info:\n",
        "            zodiac = info\n",
        "        if '岁' in info:\n",
        "            age = info\n",
        "\n",
        "    # Process 'profession'\n",
        "    if tag_dict.get('profession'):\n",
        "        profession = tag_dict.get('profession')\n",
        "\n",
        "    # Process 'college'\n",
        "    if tag_dict.get('college'):\n",
        "        college = tag_dict.get('college')\n",
        "\n",
        "    appended = f\"Zodiac: {zodiac} | Age: {age} | Profession: {profession} | College: {college}\"\n",
        "    return original_desc + \" | \" + appended\n",
        "\n",
        "# Update the 'desc' column in df_creator by applying the function row-wise.\n",
        "df_creator['desc'] = df_creator.apply(append_tags_to_desc, axis=1)"
      ]
    },
    {
      "cell_type": "code",
      "execution_count": 77,
      "metadata": {
        "colab": {
          "base_uri": "https://localhost:8080/",
          "height": 387
        },
        "id": "CS3ETPc2nx3s",
        "outputId": "b33dc472-ae4d-4e10-b55e-57200a9577e0"
      },
      "outputs": [
        {
          "data": {
            "text/html": [
              "<div>\n",
              "<style scoped>\n",
              "    .dataframe tbody tr th:only-of-type {\n",
              "        vertical-align: middle;\n",
              "    }\n",
              "\n",
              "    .dataframe tbody tr th {\n",
              "        vertical-align: top;\n",
              "    }\n",
              "\n",
              "    .dataframe thead th {\n",
              "        text-align: right;\n",
              "    }\n",
              "</style>\n",
              "<table border=\"1\" class=\"dataframe\">\n",
              "  <thead>\n",
              "    <tr style=\"text-align: right;\">\n",
              "      <th></th>\n",
              "      <th>user_id</th>\n",
              "      <th>nickname</th>\n",
              "      <th>gender</th>\n",
              "      <th>avatar</th>\n",
              "      <th>desc</th>\n",
              "      <th>ip_location</th>\n",
              "      <th>follows</th>\n",
              "      <th>fans</th>\n",
              "      <th>interaction</th>\n",
              "      <th>tag_list</th>\n",
              "      <th>...</th>\n",
              "      <th>last_note2now</th>\n",
              "      <th>last_hot_note2now</th>\n",
              "      <th>weighted_total_share_counts</th>\n",
              "      <th>score_2</th>\n",
              "      <th>score_5</th>\n",
              "      <th>liked_count</th>\n",
              "      <th>collected_count</th>\n",
              "      <th>comment_count</th>\n",
              "      <th>share_count</th>\n",
              "      <th>note_count</th>\n",
              "    </tr>\n",
              "  </thead>\n",
              "  <tbody>\n",
              "    <tr>\n",
              "      <th>0</th>\n",
              "      <td>576d3bde82ec3952ff40c5e1</td>\n",
              "      <td>达拉斯小鸡腿</td>\n",
              "      <td>女</td>\n",
              "      <td>https://sns-avatar-qc.xhscdn.com/avatar/61df4c...</td>\n",
              "      <td>慢慢了解世界，慢慢更新自己\\n吃喝玩乐+宝宝们，随心分享\\n佛系更新中～比心🫰 | Zodi...</td>\n",
              "      <td>美国</td>\n",
              "      <td>837</td>\n",
              "      <td>1653</td>\n",
              "      <td>11636</td>\n",
              "      <td>{\"info\": null, \"location\": \"美国\", \"profession\":...</td>\n",
              "      <td>...</td>\n",
              "      <td>0</td>\n",
              "      <td>22</td>\n",
              "      <td>4432.999131</td>\n",
              "      <td>79.299927</td>\n",
              "      <td>78.927893</td>\n",
              "      <td>6443</td>\n",
              "      <td>4951</td>\n",
              "      <td>2847</td>\n",
              "      <td>4433</td>\n",
              "      <td>146</td>\n",
              "    </tr>\n",
              "    <tr>\n",
              "      <th>1</th>\n",
              "      <td>58b325ce50c4b442ae017a30</td>\n",
              "      <td>小温柔Sylvia</td>\n",
              "      <td>女</td>\n",
              "      <td>https://sns-avatar-qc.xhscdn.com/avatar/1040g2...</td>\n",
              "      <td>北京🇨🇳→ 达拉斯🇺🇸\\n163cm ♋巨蟹座 乐观开朗 \\nIG: sylviviishe...</td>\n",
              "      <td>美国</td>\n",
              "      <td>961</td>\n",
              "      <td>304</td>\n",
              "      <td>10699</td>\n",
              "      <td>{\"info\": null, \"location\": \"北京海淀\"}</td>\n",
              "      <td>...</td>\n",
              "      <td>5</td>\n",
              "      <td>5</td>\n",
              "      <td>1817.999749</td>\n",
              "      <td>47.633788</td>\n",
              "      <td>78.927893</td>\n",
              "      <td>7290</td>\n",
              "      <td>3354</td>\n",
              "      <td>1713</td>\n",
              "      <td>1818</td>\n",
              "      <td>142</td>\n",
              "    </tr>\n",
              "  </tbody>\n",
              "</table>\n",
              "<p>2 rows × 28 columns</p>\n",
              "</div>"
            ],
            "text/plain": [
              "                    user_id   nickname gender  \\\n",
              "0  576d3bde82ec3952ff40c5e1     达拉斯小鸡腿      女   \n",
              "1  58b325ce50c4b442ae017a30  小温柔Sylvia      女   \n",
              "\n",
              "                                              avatar  \\\n",
              "0  https://sns-avatar-qc.xhscdn.com/avatar/61df4c...   \n",
              "1  https://sns-avatar-qc.xhscdn.com/avatar/1040g2...   \n",
              "\n",
              "                                                desc ip_location  follows  \\\n",
              "0  慢慢了解世界，慢慢更新自己\\n吃喝玩乐+宝宝们，随心分享\\n佛系更新中～比心🫰 | Zodi...          美国      837   \n",
              "1  北京🇨🇳→ 达拉斯🇺🇸\\n163cm ♋巨蟹座 乐观开朗 \\nIG: sylviviishe...          美国      961   \n",
              "\n",
              "   fans  interaction                                           tag_list  ...  \\\n",
              "0  1653        11636  {\"info\": null, \"location\": \"美国\", \"profession\":...  ...   \n",
              "1   304        10699                 {\"info\": null, \"location\": \"北京海淀\"}  ...   \n",
              "\n",
              "   last_note2now  last_hot_note2now  weighted_total_share_counts    score_2  \\\n",
              "0              0                 22                  4432.999131  79.299927   \n",
              "1              5                  5                  1817.999749  47.633788   \n",
              "\n",
              "     score_5  liked_count  collected_count  comment_count  share_count  \\\n",
              "0  78.927893         6443             4951           2847         4433   \n",
              "1  78.927893         7290             3354           1713         1818   \n",
              "\n",
              "   note_count  \n",
              "0         146  \n",
              "1         142  \n",
              "\n",
              "[2 rows x 28 columns]"
            ]
          },
          "execution_count": 77,
          "metadata": {},
          "output_type": "execute_result"
        }
      ],
      "source": [
        "df_creator.head(2)"
      ]
    },
    {
      "cell_type": "markdown",
      "metadata": {
        "id": "xrJd_KOuTYke"
      },
      "source": [
        "**location**"
      ]
    },
    {
      "cell_type": "code",
      "execution_count": 78,
      "metadata": {
        "id": "aKK0wLZwn5tl"
      },
      "outputs": [],
      "source": [
        "# Parse the JSON strings in tag_list into dictionaries\n",
        "tag_process = df_creator['tag_list'].apply(lambda x: json.loads(x))\n",
        "\n",
        "# Extract the 'location' key for each row and assign it to a new 'location' column\n",
        "df_creator['location'] = tag_process.apply(lambda x: x.get('location', None))"
      ]
    },
    {
      "cell_type": "code",
      "execution_count": 79,
      "metadata": {
        "id": "KXTG0wDS80Lq"
      },
      "outputs": [],
      "source": [
        "df_creator['location'] = df_creator['location'].replace('UnitedStates','美国')\n",
        "df_creator['location'] = df_creator['location'].replace('美国得克萨斯','美国TX')\n",
        "df_creator['location'] = df_creator['location'].replace('UnitedStates...','美国')\n",
        "df_creator['location'] = df_creator['location'].replace('海外美国','美国')"
      ]
    },
    {
      "cell_type": "markdown",
      "metadata": {
        "id": "-UiRj8SQV9vZ"
      },
      "source": [
        "#### Note:\n",
        "- ip_location: directly from profile page\n",
        "- location: separated from user self-added tags\n",
        "- 最后合并成一个ip_location: 三个等级, TX, US, CN"
      ]
    },
    {
      "cell_type": "code",
      "execution_count": 80,
      "metadata": {
        "colab": {
          "base_uri": "https://localhost:8080/",
          "height": 645
        },
        "id": "SqmQqFdW862o",
        "outputId": "ac4c0ce0-8183-410a-f0a2-78788e4a7ca2"
      },
      "outputs": [
        {
          "data": {
            "text/html": [
              "<div>\n",
              "<style scoped>\n",
              "    .dataframe tbody tr th:only-of-type {\n",
              "        vertical-align: middle;\n",
              "    }\n",
              "\n",
              "    .dataframe tbody tr th {\n",
              "        vertical-align: top;\n",
              "    }\n",
              "\n",
              "    .dataframe thead th {\n",
              "        text-align: right;\n",
              "    }\n",
              "</style>\n",
              "<table border=\"1\" class=\"dataframe\">\n",
              "  <thead>\n",
              "    <tr style=\"text-align: right;\">\n",
              "      <th></th>\n",
              "      <th>ip_location</th>\n",
              "      <th>location</th>\n",
              "    </tr>\n",
              "  </thead>\n",
              "  <tbody>\n",
              "    <tr>\n",
              "      <th>1</th>\n",
              "      <td>美国</td>\n",
              "      <td>北京海淀</td>\n",
              "    </tr>\n",
              "    <tr>\n",
              "      <th>5</th>\n",
              "      <td>美国</td>\n",
              "      <td>美国TX</td>\n",
              "    </tr>\n",
              "    <tr>\n",
              "      <th>20</th>\n",
              "      <td></td>\n",
              "      <td>美国</td>\n",
              "    </tr>\n",
              "    <tr>\n",
              "      <th>30</th>\n",
              "      <td>美国</td>\n",
              "      <td>美国NY</td>\n",
              "    </tr>\n",
              "    <tr>\n",
              "      <th>31</th>\n",
              "      <td>墨西哥</td>\n",
              "      <td>美国TX</td>\n",
              "    </tr>\n",
              "    <tr>\n",
              "      <th>37</th>\n",
              "      <td>美国</td>\n",
              "      <td>美国TX</td>\n",
              "    </tr>\n",
              "    <tr>\n",
              "      <th>38</th>\n",
              "      <td>美国</td>\n",
              "      <td>美国TX</td>\n",
              "    </tr>\n",
              "    <tr>\n",
              "      <th>49</th>\n",
              "      <td>美国</td>\n",
              "      <td>巴巴多斯</td>\n",
              "    </tr>\n",
              "    <tr>\n",
              "      <th>54</th>\n",
              "      <td>美国</td>\n",
              "      <td>美国TX</td>\n",
              "    </tr>\n",
              "    <tr>\n",
              "      <th>55</th>\n",
              "      <td></td>\n",
              "      <td>美国TX</td>\n",
              "    </tr>\n",
              "    <tr>\n",
              "      <th>56</th>\n",
              "      <td>美国</td>\n",
              "      <td>美国TX</td>\n",
              "    </tr>\n",
              "    <tr>\n",
              "      <th>71</th>\n",
              "      <td></td>\n",
              "      <td>美国</td>\n",
              "    </tr>\n",
              "    <tr>\n",
              "      <th>75</th>\n",
              "      <td>美国</td>\n",
              "      <td>中国</td>\n",
              "    </tr>\n",
              "    <tr>\n",
              "      <th>76</th>\n",
              "      <td></td>\n",
              "      <td>美国</td>\n",
              "    </tr>\n",
              "    <tr>\n",
              "      <th>78</th>\n",
              "      <td></td>\n",
              "      <td>美国</td>\n",
              "    </tr>\n",
              "    <tr>\n",
              "      <th>80</th>\n",
              "      <td>美国</td>\n",
              "      <td>美国TX</td>\n",
              "    </tr>\n",
              "    <tr>\n",
              "      <th>82</th>\n",
              "      <td>美国</td>\n",
              "      <td>美国达拉斯市</td>\n",
              "    </tr>\n",
              "    <tr>\n",
              "      <th>88</th>\n",
              "      <td>美国</td>\n",
              "      <td>美国TX</td>\n",
              "    </tr>\n",
              "    <tr>\n",
              "      <th>97</th>\n",
              "      <td>美国</td>\n",
              "      <td>美国CA</td>\n",
              "    </tr>\n",
              "  </tbody>\n",
              "</table>\n",
              "</div>"
            ],
            "text/plain": [
              "   ip_location location\n",
              "1           美国     北京海淀\n",
              "5           美国     美国TX\n",
              "20                   美国\n",
              "30          美国     美国NY\n",
              "31         墨西哥     美国TX\n",
              "37          美国     美国TX\n",
              "38          美国     美国TX\n",
              "49          美国     巴巴多斯\n",
              "54          美国     美国TX\n",
              "55                 美国TX\n",
              "56          美国     美国TX\n",
              "71                   美国\n",
              "75          美国       中国\n",
              "76                   美国\n",
              "78                   美国\n",
              "80          美国     美国TX\n",
              "82          美国   美国达拉斯市\n",
              "88          美国     美国TX\n",
              "97          美国     美国CA"
            ]
          },
          "execution_count": 80,
          "metadata": {},
          "output_type": "execute_result"
        }
      ],
      "source": [
        "df_creator[['ip_location','location']][((~df_creator['location'].isna()) & (df_creator['location'] != df_creator[\"ip_location\"]))]"
      ]
    },
    {
      "cell_type": "markdown",
      "metadata": {
        "id": "zZ_u2hVlRUJY"
      },
      "source": [
        "### Impute `ip_location` by `location`"
      ]
    },
    {
      "cell_type": "code",
      "execution_count": 81,
      "metadata": {
        "id": "Le0wlylCRS-4"
      },
      "outputs": [],
      "source": [
        "df_creator['location'] = df_creator['location'].apply(\n",
        "    lambda x: \"TX\" if isinstance(x, str) and \"美国TX\" in x\n",
        "    else (\"US\" if isinstance(x, str) and \"美国\" in x else \"abroad\")\n",
        ")\n"
      ]
    },
    {
      "cell_type": "code",
      "execution_count": 82,
      "metadata": {
        "colab": {
          "base_uri": "https://localhost:8080/",
          "height": 398
        },
        "id": "K7cJSLKl4AAw",
        "outputId": "d0cc2331-323b-444d-93c1-de479819be01"
      },
      "outputs": [
        {
          "data": {
            "text/plain": [
              "0        US\n",
              "1    abroad\n",
              "2        US\n",
              "3        US\n",
              "4        US\n",
              "5        TX\n",
              "6        US\n",
              "7        US\n",
              "8        US\n",
              "9        US\n",
              "Name: location, dtype: object"
            ]
          },
          "execution_count": 82,
          "metadata": {},
          "output_type": "execute_result"
        }
      ],
      "source": [
        "df_creator['location'].head(10)"
      ]
    },
    {
      "cell_type": "code",
      "execution_count": 83,
      "metadata": {
        "id": "mNW2Y2ayoDs0"
      },
      "outputs": [],
      "source": [
        " df_creator = df_creator.drop(columns=['tag_list'])"
      ]
    },
    {
      "cell_type": "markdown",
      "metadata": {
        "id": "Cp9CIhiuWSb9"
      },
      "source": [
        "## Feature Engineering\n",
        "\n",
        "**KOC level**\n",
        "- `ff_ratio`: ratio calculated by fans over follows\n",
        "- `video_ratio`: ratio calculated by number of video posts over total number posts\n",
        "- `account_age`: the time length in days between the newest post and oldest post"
      ]
    },
    {
      "cell_type": "code",
      "execution_count": 84,
      "metadata": {
        "id": "wpmTdE9qXCC2"
      },
      "outputs": [],
      "source": [
        "df_creator['ff_ratio'] = df_creator.fans / df_creator.follows\n",
        "time_length = df_contents.groupby('user_id') \\\n",
        "    .agg(oldest = ('post_time', 'min'), newest = ('post_time', 'max')).reset_index()\n",
        "time_length['age_koc'] = time_length.newest - time_length.oldest\n",
        "time_length['age_koc'] = time_length.age_koc.dt.days\n",
        "df_creator = pd.merge(df_creator, time_length[['user_id', 'age_koc']], on = 'user_id')"
      ]
    },
    {
      "cell_type": "code",
      "execution_count": 85,
      "metadata": {
        "colab": {
          "base_uri": "https://localhost:8080/",
          "height": 241
        },
        "id": "gsYUqIVlwba_",
        "outputId": "52631303-1d89-4a98-ae0e-53ea8c66d283"
      },
      "outputs": [
        {
          "data": {
            "text/plain": [
              "0    79.299927\n",
              "1    47.633788\n",
              "2    30.068936\n",
              "3    35.841801\n",
              "4    48.985214\n",
              "Name: score_2, dtype: float64"
            ]
          },
          "execution_count": 85,
          "metadata": {},
          "output_type": "execute_result"
        }
      ],
      "source": [
        "df_creator['score_2'].head()"
      ]
    },
    {
      "cell_type": "code",
      "execution_count": 86,
      "metadata": {
        "colab": {
          "base_uri": "https://localhost:8080/",
          "height": 320
        },
        "id": "CvAVFHrdxHxR",
        "outputId": "4dbf7e1d-e122-4a65-b3f8-cdedd4d69c17"
      },
      "outputs": [
        {
          "data": {
            "text/html": [
              "<div>\n",
              "<style scoped>\n",
              "    .dataframe tbody tr th:only-of-type {\n",
              "        vertical-align: middle;\n",
              "    }\n",
              "\n",
              "    .dataframe tbody tr th {\n",
              "        vertical-align: top;\n",
              "    }\n",
              "\n",
              "    .dataframe thead th {\n",
              "        text-align: right;\n",
              "    }\n",
              "</style>\n",
              "<table border=\"1\" class=\"dataframe\">\n",
              "  <thead>\n",
              "    <tr style=\"text-align: right;\">\n",
              "      <th></th>\n",
              "      <th>follows</th>\n",
              "      <th>fans</th>\n",
              "      <th>interaction</th>\n",
              "      <th>last_modify_ts</th>\n",
              "      <th>图文报价(RMB)</th>\n",
              "      <th>图文报价有对号</th>\n",
              "      <th>pic_per_normal_note</th>\n",
              "      <th>video_ratio</th>\n",
              "      <th>hot_note_count</th>\n",
              "      <th>total_share_counts_hot_ratio</th>\n",
              "      <th>...</th>\n",
              "      <th>weighted_total_share_counts</th>\n",
              "      <th>score_2</th>\n",
              "      <th>score_5</th>\n",
              "      <th>liked_count</th>\n",
              "      <th>collected_count</th>\n",
              "      <th>comment_count</th>\n",
              "      <th>share_count</th>\n",
              "      <th>note_count</th>\n",
              "      <th>ff_ratio</th>\n",
              "      <th>age_koc</th>\n",
              "    </tr>\n",
              "  </thead>\n",
              "  <tbody>\n",
              "    <tr>\n",
              "      <th>count</th>\n",
              "      <td>101.000000</td>\n",
              "      <td>101.000000</td>\n",
              "      <td>101.000000</td>\n",
              "      <td>1.010000e+02</td>\n",
              "      <td>101.000000</td>\n",
              "      <td>101.000000</td>\n",
              "      <td>101.000000</td>\n",
              "      <td>101.000000</td>\n",
              "      <td>101.000000</td>\n",
              "      <td>101.000000</td>\n",
              "      <td>...</td>\n",
              "      <td>101.000000</td>\n",
              "      <td>101.000000</td>\n",
              "      <td>101.000000</td>\n",
              "      <td>101.0</td>\n",
              "      <td>101.0</td>\n",
              "      <td>101.0</td>\n",
              "      <td>101.0</td>\n",
              "      <td>101.000000</td>\n",
              "      <td>101.000000</td>\n",
              "      <td>101.000000</td>\n",
              "    </tr>\n",
              "    <tr>\n",
              "      <th>mean</th>\n",
              "      <td>498.029703</td>\n",
              "      <td>1275.108911</td>\n",
              "      <td>16112.722772</td>\n",
              "      <td>1.741142e+12</td>\n",
              "      <td>96.910891</td>\n",
              "      <td>0.138614</td>\n",
              "      <td>4.989453</td>\n",
              "      <td>0.218676</td>\n",
              "      <td>12.811881</td>\n",
              "      <td>0.613914</td>\n",
              "      <td>...</td>\n",
              "      <td>2063.742138</td>\n",
              "      <td>49.020106</td>\n",
              "      <td>81.983566</td>\n",
              "      <td>8955.138614</td>\n",
              "      <td>3736.009901</td>\n",
              "      <td>1850.613861</td>\n",
              "      <td>2063.742574</td>\n",
              "      <td>151.603960</td>\n",
              "      <td>34.169229</td>\n",
              "      <td>1256.910891</td>\n",
              "    </tr>\n",
              "    <tr>\n",
              "      <th>std</th>\n",
              "      <td>707.233956</td>\n",
              "      <td>1604.648852</td>\n",
              "      <td>23537.610119</td>\n",
              "      <td>8.941886e+09</td>\n",
              "      <td>317.649653</td>\n",
              "      <td>0.347267</td>\n",
              "      <td>1.857399</td>\n",
              "      <td>0.231725</td>\n",
              "      <td>10.690849</td>\n",
              "      <td>0.217669</td>\n",
              "      <td>...</td>\n",
              "      <td>2181.951671</td>\n",
              "      <td>30.187041</td>\n",
              "      <td>3.613661</td>\n",
              "      <td>16117.212541</td>\n",
              "      <td>4526.107227</td>\n",
              "      <td>2370.845448</td>\n",
              "      <td>2181.952257</td>\n",
              "      <td>154.108928</td>\n",
              "      <td>240.371746</td>\n",
              "      <td>704.523670</td>\n",
              "    </tr>\n",
              "    <tr>\n",
              "      <th>min</th>\n",
              "      <td>3.000000</td>\n",
              "      <td>69.000000</td>\n",
              "      <td>1069.000000</td>\n",
              "      <td>1.652198e+12</td>\n",
              "      <td>0.000000</td>\n",
              "      <td>0.000000</td>\n",
              "      <td>1.000000</td>\n",
              "      <td>0.000000</td>\n",
              "      <td>0.000000</td>\n",
              "      <td>0.000000</td>\n",
              "      <td>...</td>\n",
              "      <td>23.000000</td>\n",
              "      <td>10.195371</td>\n",
              "      <td>78.927893</td>\n",
              "      <td>336.0</td>\n",
              "      <td>116.0</td>\n",
              "      <td>62.0</td>\n",
              "      <td>23.0</td>\n",
              "      <td>11.000000</td>\n",
              "      <td>0.178448</td>\n",
              "      <td>12.000000</td>\n",
              "    </tr>\n",
              "    <tr>\n",
              "      <th>25%</th>\n",
              "      <td>94.000000</td>\n",
              "      <td>389.000000</td>\n",
              "      <td>4149.000000</td>\n",
              "      <td>1.741822e+12</td>\n",
              "      <td>10.000000</td>\n",
              "      <td>0.000000</td>\n",
              "      <td>3.653846</td>\n",
              "      <td>0.043478</td>\n",
              "      <td>6.000000</td>\n",
              "      <td>0.487805</td>\n",
              "      <td>...</td>\n",
              "      <td>692.999800</td>\n",
              "      <td>29.887510</td>\n",
              "      <td>78.927893</td>\n",
              "      <td>2055.0</td>\n",
              "      <td>1093.0</td>\n",
              "      <td>547.0</td>\n",
              "      <td>693.0</td>\n",
              "      <td>61.000000</td>\n",
              "      <td>1.083665</td>\n",
              "      <td>819.000000</td>\n",
              "    </tr>\n",
              "    <tr>\n",
              "      <th>50%</th>\n",
              "      <td>221.000000</td>\n",
              "      <td>710.000000</td>\n",
              "      <td>7191.000000</td>\n",
              "      <td>1.741974e+12</td>\n",
              "      <td>20.000000</td>\n",
              "      <td>0.000000</td>\n",
              "      <td>4.803279</td>\n",
              "      <td>0.125523</td>\n",
              "      <td>9.000000</td>\n",
              "      <td>0.638124</td>\n",
              "      <td>...</td>\n",
              "      <td>1306.999758</td>\n",
              "      <td>38.467939</td>\n",
              "      <td>81.974603</td>\n",
              "      <td>4224.0</td>\n",
              "      <td>1997.0</td>\n",
              "      <td>1080.0</td>\n",
              "      <td>1307.0</td>\n",
              "      <td>98.000000</td>\n",
              "      <td>3.508772</td>\n",
              "      <td>1271.000000</td>\n",
              "    </tr>\n",
              "    <tr>\n",
              "      <th>75%</th>\n",
              "      <td>502.000000</td>\n",
              "      <td>1570.000000</td>\n",
              "      <td>14868.000000</td>\n",
              "      <td>1.742094e+12</td>\n",
              "      <td>50.000000</td>\n",
              "      <td>0.000000</td>\n",
              "      <td>6.258065</td>\n",
              "      <td>0.340426</td>\n",
              "      <td>17.000000</td>\n",
              "      <td>0.776910</td>\n",
              "      <td>...</td>\n",
              "      <td>2697.999638</td>\n",
              "      <td>63.049910</td>\n",
              "      <td>84.463946</td>\n",
              "      <td>7290.0</td>\n",
              "      <td>4485.0</td>\n",
              "      <td>2271.0</td>\n",
              "      <td>2698.0</td>\n",
              "      <td>179.000000</td>\n",
              "      <td>9.691558</td>\n",
              "      <td>1608.000000</td>\n",
              "    </tr>\n",
              "    <tr>\n",
              "      <th>max</th>\n",
              "      <td>3749.000000</td>\n",
              "      <td>8955.000000</td>\n",
              "      <td>147344.000000</td>\n",
              "      <td>1.742580e+12</td>\n",
              "      <td>3000.000000</td>\n",
              "      <td>1.000000</td>\n",
              "      <td>8.000000</td>\n",
              "      <td>0.980769</td>\n",
              "      <td>54.000000</td>\n",
              "      <td>0.985555</td>\n",
              "      <td>...</td>\n",
              "      <td>11565.996139</td>\n",
              "      <td>160.679105</td>\n",
              "      <td>90.000000</td>\n",
              "      <td>127240.0</td>\n",
              "      <td>25255.0</td>\n",
              "      <td>17114.0</td>\n",
              "      <td>11566.0</td>\n",
              "      <td>781.000000</td>\n",
              "      <td>2417.666667</td>\n",
              "      <td>3089.000000</td>\n",
              "    </tr>\n",
              "  </tbody>\n",
              "</table>\n",
              "<p>8 rows × 22 columns</p>\n",
              "</div>"
            ],
            "text/plain": [
              "           follows         fans    interaction  last_modify_ts    图文报价(RMB)  \\\n",
              "count   101.000000   101.000000     101.000000    1.010000e+02   101.000000   \n",
              "mean    498.029703  1275.108911   16112.722772    1.741142e+12    96.910891   \n",
              "std     707.233956  1604.648852   23537.610119    8.941886e+09   317.649653   \n",
              "min       3.000000    69.000000    1069.000000    1.652198e+12     0.000000   \n",
              "25%      94.000000   389.000000    4149.000000    1.741822e+12    10.000000   \n",
              "50%     221.000000   710.000000    7191.000000    1.741974e+12    20.000000   \n",
              "75%     502.000000  1570.000000   14868.000000    1.742094e+12    50.000000   \n",
              "max    3749.000000  8955.000000  147344.000000    1.742580e+12  3000.000000   \n",
              "\n",
              "          图文报价有对号  pic_per_normal_note  video_ratio  hot_note_count  \\\n",
              "count  101.000000           101.000000   101.000000      101.000000   \n",
              "mean     0.138614             4.989453     0.218676       12.811881   \n",
              "std      0.347267             1.857399     0.231725       10.690849   \n",
              "min      0.000000             1.000000     0.000000        0.000000   \n",
              "25%      0.000000             3.653846     0.043478        6.000000   \n",
              "50%      0.000000             4.803279     0.125523        9.000000   \n",
              "75%      0.000000             6.258065     0.340426       17.000000   \n",
              "max      1.000000             8.000000     0.980769       54.000000   \n",
              "\n",
              "       total_share_counts_hot_ratio  ...  weighted_total_share_counts  \\\n",
              "count                    101.000000  ...                   101.000000   \n",
              "mean                       0.613914  ...                  2063.742138   \n",
              "std                        0.217669  ...                  2181.951671   \n",
              "min                        0.000000  ...                    23.000000   \n",
              "25%                        0.487805  ...                   692.999800   \n",
              "50%                        0.638124  ...                  1306.999758   \n",
              "75%                        0.776910  ...                  2697.999638   \n",
              "max                        0.985555  ...                 11565.996139   \n",
              "\n",
              "          score_2     score_5   liked_count  collected_count  comment_count  \\\n",
              "count  101.000000  101.000000         101.0            101.0          101.0   \n",
              "mean    49.020106   81.983566   8955.138614      3736.009901    1850.613861   \n",
              "std     30.187041    3.613661  16117.212541      4526.107227    2370.845448   \n",
              "min     10.195371   78.927893         336.0            116.0           62.0   \n",
              "25%     29.887510   78.927893        2055.0           1093.0          547.0   \n",
              "50%     38.467939   81.974603        4224.0           1997.0         1080.0   \n",
              "75%     63.049910   84.463946        7290.0           4485.0         2271.0   \n",
              "max    160.679105   90.000000      127240.0          25255.0        17114.0   \n",
              "\n",
              "       share_count  note_count     ff_ratio      age_koc  \n",
              "count        101.0  101.000000   101.000000   101.000000  \n",
              "mean   2063.742574  151.603960    34.169229  1256.910891  \n",
              "std    2181.952257  154.108928   240.371746   704.523670  \n",
              "min           23.0   11.000000     0.178448    12.000000  \n",
              "25%          693.0   61.000000     1.083665   819.000000  \n",
              "50%         1307.0   98.000000     3.508772  1271.000000  \n",
              "75%         2698.0  179.000000     9.691558  1608.000000  \n",
              "max        11566.0  781.000000  2417.666667  3089.000000  \n",
              "\n",
              "[8 rows x 22 columns]"
            ]
          },
          "execution_count": 86,
          "metadata": {},
          "output_type": "execute_result"
        }
      ],
      "source": [
        "df_creator.describe()"
      ]
    },
    {
      "cell_type": "code",
      "execution_count": 87,
      "metadata": {
        "colab": {
          "base_uri": "https://localhost:8080/",
          "height": 899
        },
        "id": "Smib4p9fxrup",
        "outputId": "17080b9f-39e0-4c8b-95fe-4cf038ee4390"
      },
      "outputs": [
        {
          "data": {
            "text/plain": [
              "user_id                          0\n",
              "nickname                         0\n",
              "gender                           9\n",
              "avatar                           0\n",
              "desc                             0\n",
              "ip_location                      0\n",
              "follows                          0\n",
              "fans                             0\n",
              "interaction                      0\n",
              "last_modify_ts                   0\n",
              "图文报价(RMB)                        0\n",
              "图文报价有对号                          0\n",
              "平台等级                            21\n",
              "pic_per_normal_note              0\n",
              "video_ratio                      0\n",
              "hot_note_count                   0\n",
              "total_share_counts_hot_ratio     0\n",
              "last_note2now                    0\n",
              "last_hot_note2now                0\n",
              "weighted_total_share_counts      0\n",
              "score_2                          0\n",
              "score_5                          0\n",
              "liked_count                      0\n",
              "collected_count                  0\n",
              "comment_count                    0\n",
              "share_count                      0\n",
              "note_count                       0\n",
              "location                         0\n",
              "ff_ratio                         0\n",
              "age_koc                          0\n",
              "dtype: int64"
            ]
          },
          "execution_count": 87,
          "metadata": {},
          "output_type": "execute_result"
        }
      ],
      "source": [
        "df_creator.isna().sum()"
      ]
    },
    {
      "cell_type": "markdown",
      "metadata": {
        "id": "Wn-54Ypvx1Xi"
      },
      "source": [
        "### Impute Gender"
      ]
    },
    {
      "cell_type": "markdown",
      "metadata": {
        "id": "XwWWihbUoSAq"
      },
      "source": [
        "All female"
      ]
    },
    {
      "cell_type": "code",
      "execution_count": 88,
      "metadata": {
        "id": "RXHJRSEjx06J"
      },
      "outputs": [],
      "source": [
        "# Impute missing values with \"女\" and then map \"女\" to 1 and any other value to 0.\n",
        "df_creator['is_female'] = df_creator['gender'].fillna(\"女\").apply(lambda x: 1 if x == \"女\" else 0)\n",
        "\n",
        "# Optionally, drop the original gender column\n",
        "df_creator.drop('gender', axis=1, inplace=True)\n"
      ]
    },
    {
      "cell_type": "code",
      "execution_count": 89,
      "metadata": {
        "colab": {
          "base_uri": "https://localhost:8080/",
          "height": 178
        },
        "id": "BObLnPawoWBu",
        "outputId": "a8d87903-f407-47da-a0fa-c47355889c25"
      },
      "outputs": [
        {
          "data": {
            "text/plain": [
              "is_female\n",
              "1    92\n",
              "0     9\n",
              "Name: count, dtype: int64"
            ]
          },
          "execution_count": 89,
          "metadata": {},
          "output_type": "execute_result"
        }
      ],
      "source": [
        "df_creator['is_female'].value_counts()"
      ]
    },
    {
      "cell_type": "markdown",
      "metadata": {
        "id": "j2zmHDwwquHY"
      },
      "source": [
        "给KOC加post_span"
      ]
    },
    {
      "cell_type": "code",
      "execution_count": 90,
      "metadata": {
        "colab": {
          "base_uri": "https://localhost:8080/"
        },
        "id": "M1zHZEKxYD-C",
        "outputId": "62c8c340-2c1c-452a-8b6a-0cfd75a4ba7f"
      },
      "outputs": [
        {
          "name": "stdout",
          "output_type": "stream",
          "text": [
            "                    user_id                 min                 max  \\\n",
            "0  54d82c482e1d9366ebfc8ce5 2020-11-22 20:47:10 2025-03-08 05:22:29   \n",
            "1  5530f8642e1d9365fa9a29fb 2021-05-10 16:54:57 2025-02-28 22:56:16   \n",
            "2  55481451b203d97e86008c02 2020-12-02 00:14:57 2025-01-25 13:47:58   \n",
            "3  556f1983f5a26347140b104b 2017-02-19 08:08:58 2025-03-13 22:58:53   \n",
            "4  558a4a065894460336de85bf 2021-08-11 10:43:04 2025-03-16 04:03:26   \n",
            "\n",
            "           post_span  \n",
            "0 1566 days 08:35:19  \n",
            "1 1390 days 06:01:19  \n",
            "2 1515 days 13:33:01  \n",
            "3 2944 days 14:49:55  \n",
            "4 1312 days 17:20:22  \n"
          ]
        }
      ],
      "source": [
        "post_times = df_contents.groupby('user_id')['post_time'].agg(['min', 'max']).reset_index()\n",
        "post_times['post_span'] = post_times['max'] - post_times['min']\n",
        "print(post_times[['user_id', 'min', 'max', 'post_span']].head())\n"
      ]
    },
    {
      "cell_type": "code",
      "execution_count": 91,
      "metadata": {
        "colab": {
          "base_uri": "https://localhost:8080/",
          "height": 811
        },
        "id": "HeLwyd_TYD8H",
        "outputId": "336cb3e5-360d-4cbf-e25a-c7569531242d"
      },
      "outputs": [
        {
          "data": {
            "text/html": [
              "<div>\n",
              "<style scoped>\n",
              "    .dataframe tbody tr th:only-of-type {\n",
              "        vertical-align: middle;\n",
              "    }\n",
              "\n",
              "    .dataframe tbody tr th {\n",
              "        vertical-align: top;\n",
              "    }\n",
              "\n",
              "    .dataframe thead th {\n",
              "        text-align: right;\n",
              "    }\n",
              "</style>\n",
              "<table border=\"1\" class=\"dataframe\">\n",
              "  <thead>\n",
              "    <tr style=\"text-align: right;\">\n",
              "      <th></th>\n",
              "      <th>user_id</th>\n",
              "      <th>nickname</th>\n",
              "      <th>avatar</th>\n",
              "      <th>desc</th>\n",
              "      <th>ip_location</th>\n",
              "      <th>follows</th>\n",
              "      <th>fans</th>\n",
              "      <th>interaction</th>\n",
              "      <th>last_modify_ts</th>\n",
              "      <th>图文报价(RMB)</th>\n",
              "      <th>...</th>\n",
              "      <th>comment_count</th>\n",
              "      <th>share_count</th>\n",
              "      <th>note_count</th>\n",
              "      <th>location</th>\n",
              "      <th>ff_ratio</th>\n",
              "      <th>age_koc</th>\n",
              "      <th>is_female</th>\n",
              "      <th>min</th>\n",
              "      <th>max</th>\n",
              "      <th>post_span</th>\n",
              "    </tr>\n",
              "  </thead>\n",
              "  <tbody>\n",
              "    <tr>\n",
              "      <th>0</th>\n",
              "      <td>576d3bde82ec3952ff40c5e1</td>\n",
              "      <td>达拉斯小鸡腿</td>\n",
              "      <td>https://sns-avatar-qc.xhscdn.com/avatar/61df4c...</td>\n",
              "      <td>慢慢了解世界，慢慢更新自己\\n吃喝玩乐+宝宝们，随心分享\\n佛系更新中～比心🫰 | Zodi...</td>\n",
              "      <td>美国</td>\n",
              "      <td>837</td>\n",
              "      <td>1653</td>\n",
              "      <td>11636</td>\n",
              "      <td>1741740734045</td>\n",
              "      <td>60</td>\n",
              "      <td>...</td>\n",
              "      <td>2847</td>\n",
              "      <td>4433</td>\n",
              "      <td>146</td>\n",
              "      <td>US</td>\n",
              "      <td>1.974910</td>\n",
              "      <td>2054</td>\n",
              "      <td>1</td>\n",
              "      <td>2019-07-27 23:00:43</td>\n",
              "      <td>2025-03-12 00:32:05</td>\n",
              "      <td>2054 days 01:31:22</td>\n",
              "    </tr>\n",
              "    <tr>\n",
              "      <th>1</th>\n",
              "      <td>58b325ce50c4b442ae017a30</td>\n",
              "      <td>小温柔Sylvia</td>\n",
              "      <td>https://sns-avatar-qc.xhscdn.com/avatar/1040g2...</td>\n",
              "      <td>北京🇨🇳→ 达拉斯🇺🇸\\n163cm ♋巨蟹座 乐观开朗 \\nIG: sylviviishe...</td>\n",
              "      <td>美国</td>\n",
              "      <td>961</td>\n",
              "      <td>304</td>\n",
              "      <td>10699</td>\n",
              "      <td>1741746441631</td>\n",
              "      <td>10</td>\n",
              "      <td>...</td>\n",
              "      <td>1713</td>\n",
              "      <td>1818</td>\n",
              "      <td>142</td>\n",
              "      <td>abroad</td>\n",
              "      <td>0.316337</td>\n",
              "      <td>2459</td>\n",
              "      <td>1</td>\n",
              "      <td>2018-06-12 07:38:23</td>\n",
              "      <td>2025-03-07 01:47:51</td>\n",
              "      <td>2459 days 18:09:28</td>\n",
              "    </tr>\n",
              "    <tr>\n",
              "      <th>2</th>\n",
              "      <td>5c0c067c0000000005022f0a</td>\n",
              "      <td>茄茄公主 🍆</td>\n",
              "      <td>https://sns-avatar-qc.xhscdn.com/avatar/1040g2...</td>\n",
              "      <td>坐标 达拉斯 美国🇺🇸 来美14 年 家庭成员： 三只毛小孩🐶 喜欢旅游 和探索各地美食🥰 ...</td>\n",
              "      <td>美国</td>\n",
              "      <td>251</td>\n",
              "      <td>258</td>\n",
              "      <td>3607</td>\n",
              "      <td>1741747540369</td>\n",
              "      <td>10</td>\n",
              "      <td>...</td>\n",
              "      <td>641</td>\n",
              "      <td>852</td>\n",
              "      <td>222</td>\n",
              "      <td>US</td>\n",
              "      <td>1.027888</td>\n",
              "      <td>1879</td>\n",
              "      <td>1</td>\n",
              "      <td>2019-12-25 03:42:14</td>\n",
              "      <td>2025-02-15 04:23:29</td>\n",
              "      <td>1879 days 00:41:15</td>\n",
              "    </tr>\n",
              "    <tr>\n",
              "      <th>3</th>\n",
              "      <td>5649379603eb842b7ed00477</td>\n",
              "      <td>Sherry是睿睿呀</td>\n",
              "      <td>https://sns-avatar-qc.xhscdn.com/avatar/1040g2...</td>\n",
              "      <td>北美生活探店| Chinese Girl in Dallas TX\\n吃喝玩乐样样行 | 坐...</td>\n",
              "      <td>美国</td>\n",
              "      <td>1173</td>\n",
              "      <td>1326</td>\n",
              "      <td>28064</td>\n",
              "      <td>1741807240419</td>\n",
              "      <td>100</td>\n",
              "      <td>...</td>\n",
              "      <td>475</td>\n",
              "      <td>1211</td>\n",
              "      <td>66</td>\n",
              "      <td>US</td>\n",
              "      <td>1.130435</td>\n",
              "      <td>476</td>\n",
              "      <td>1</td>\n",
              "      <td>2023-11-15 07:27:31</td>\n",
              "      <td>2025-03-05 23:52:07</td>\n",
              "      <td>476 days 16:24:36</td>\n",
              "    </tr>\n",
              "    <tr>\n",
              "      <th>4</th>\n",
              "      <td>5d6a927e00000000010068b9</td>\n",
              "      <td>達拉斯里長</td>\n",
              "      <td>https://sns-avatar-qc.xhscdn.com/avatar/1040g2...</td>\n",
              "      <td>達拉斯，請多指教👋\\n在朝九晚五平淡生活中，\\n熱烈又燦爛的挖掘美好✨ | Zodiac: ...</td>\n",
              "      <td>美国</td>\n",
              "      <td>353</td>\n",
              "      <td>794</td>\n",
              "      <td>8149</td>\n",
              "      <td>1741814164296</td>\n",
              "      <td>20</td>\n",
              "      <td>...</td>\n",
              "      <td>452</td>\n",
              "      <td>1900</td>\n",
              "      <td>138</td>\n",
              "      <td>US</td>\n",
              "      <td>2.249292</td>\n",
              "      <td>1262</td>\n",
              "      <td>1</td>\n",
              "      <td>2021-08-24 23:44:32</td>\n",
              "      <td>2025-02-07 22:07:07</td>\n",
              "      <td>1262 days 22:22:35</td>\n",
              "    </tr>\n",
              "  </tbody>\n",
              "</table>\n",
              "<p>5 rows × 33 columns</p>\n",
              "</div>"
            ],
            "text/plain": [
              "                    user_id    nickname  \\\n",
              "0  576d3bde82ec3952ff40c5e1      达拉斯小鸡腿   \n",
              "1  58b325ce50c4b442ae017a30   小温柔Sylvia   \n",
              "2  5c0c067c0000000005022f0a      茄茄公主 🍆   \n",
              "3  5649379603eb842b7ed00477  Sherry是睿睿呀   \n",
              "4  5d6a927e00000000010068b9       達拉斯里長   \n",
              "\n",
              "                                              avatar  \\\n",
              "0  https://sns-avatar-qc.xhscdn.com/avatar/61df4c...   \n",
              "1  https://sns-avatar-qc.xhscdn.com/avatar/1040g2...   \n",
              "2  https://sns-avatar-qc.xhscdn.com/avatar/1040g2...   \n",
              "3  https://sns-avatar-qc.xhscdn.com/avatar/1040g2...   \n",
              "4  https://sns-avatar-qc.xhscdn.com/avatar/1040g2...   \n",
              "\n",
              "                                                desc ip_location  follows  \\\n",
              "0  慢慢了解世界，慢慢更新自己\\n吃喝玩乐+宝宝们，随心分享\\n佛系更新中～比心🫰 | Zodi...          美国      837   \n",
              "1  北京🇨🇳→ 达拉斯🇺🇸\\n163cm ♋巨蟹座 乐观开朗 \\nIG: sylviviishe...          美国      961   \n",
              "2  坐标 达拉斯 美国🇺🇸 来美14 年 家庭成员： 三只毛小孩🐶 喜欢旅游 和探索各地美食🥰 ...          美国      251   \n",
              "3  北美生活探店| Chinese Girl in Dallas TX\\n吃喝玩乐样样行 | 坐...          美国     1173   \n",
              "4  達拉斯，請多指教👋\\n在朝九晚五平淡生活中，\\n熱烈又燦爛的挖掘美好✨ | Zodiac: ...          美国      353   \n",
              "\n",
              "   fans  interaction  last_modify_ts  图文报价(RMB)  ...  comment_count  \\\n",
              "0  1653        11636   1741740734045         60  ...           2847   \n",
              "1   304        10699   1741746441631         10  ...           1713   \n",
              "2   258         3607   1741747540369         10  ...            641   \n",
              "3  1326        28064   1741807240419        100  ...            475   \n",
              "4   794         8149   1741814164296         20  ...            452   \n",
              "\n",
              "  share_count  note_count  location  ff_ratio  age_koc  is_female  \\\n",
              "0        4433         146        US  1.974910     2054          1   \n",
              "1        1818         142    abroad  0.316337     2459          1   \n",
              "2         852         222        US  1.027888     1879          1   \n",
              "3        1211          66        US  1.130435      476          1   \n",
              "4        1900         138        US  2.249292     1262          1   \n",
              "\n",
              "                  min                 max          post_span  \n",
              "0 2019-07-27 23:00:43 2025-03-12 00:32:05 2054 days 01:31:22  \n",
              "1 2018-06-12 07:38:23 2025-03-07 01:47:51 2459 days 18:09:28  \n",
              "2 2019-12-25 03:42:14 2025-02-15 04:23:29 1879 days 00:41:15  \n",
              "3 2023-11-15 07:27:31 2025-03-05 23:52:07  476 days 16:24:36  \n",
              "4 2021-08-24 23:44:32 2025-02-07 22:07:07 1262 days 22:22:35  \n",
              "\n",
              "[5 rows x 33 columns]"
            ]
          },
          "execution_count": 91,
          "metadata": {},
          "output_type": "execute_result"
        }
      ],
      "source": [
        "df_creator = pd.merge(df_creator, post_times, on='user_id', how='left')\n",
        "df_creator.head()"
      ]
    },
    {
      "cell_type": "markdown",
      "metadata": {
        "id": "GSvRHwlf-RJy"
      },
      "source": [
        "Add account length"
      ]
    },
    {
      "cell_type": "code",
      "execution_count": 92,
      "metadata": {
        "colab": {
          "base_uri": "https://localhost:8080/"
        },
        "id": "wIdc0r51sY26",
        "outputId": "ed6c5f2f-236f-47c9-e57c-b01a4ece94bf"
      },
      "outputs": [
        {
          "data": {
            "text/plain": [
              "Index(['note_id', 'user_id', 'title', 'note_body', 'tag_list', 'image_count',\n",
              "       'content_type_video', 'hot_note', 'post_time', 'last_update_time',\n",
              "       'scraped_time', 'elapsed_time', 'liked_count', 'collected_count',\n",
              "       'comment_count', 'share_count', 'interaction_count'],\n",
              "      dtype='object')"
            ]
          },
          "execution_count": 92,
          "metadata": {},
          "output_type": "execute_result"
        }
      ],
      "source": [
        "df_contents.columns"
      ]
    },
    {
      "cell_type": "code",
      "execution_count": 93,
      "metadata": {
        "colab": {
          "base_uri": "https://localhost:8080/"
        },
        "id": "jAIecXACsxpe",
        "outputId": "be73e950-fe45-4158-e65f-f853dda29597"
      },
      "outputs": [
        {
          "name": "stdout",
          "output_type": "stream",
          "text": [
            "0    1741740734045\n",
            "1    1741746441631\n",
            "2    1741747540369\n",
            "3    1741807240419\n",
            "4    1741814164296\n",
            "Name: last_modify_ts, dtype: int64\n",
            "                    user_id     first_post_time          last_modify_ts  \\\n",
            "0  576d3bde82ec3952ff40c5e1 2019-07-27 23:00:43 2025-03-12 00:52:14.045   \n",
            "1  58b325ce50c4b442ae017a30 2018-06-12 07:38:23 2025-03-12 02:27:21.631   \n",
            "2  5c0c067c0000000005022f0a 2019-12-25 03:42:14 2025-03-12 02:45:40.369   \n",
            "3  5649379603eb842b7ed00477 2023-11-15 07:27:31 2025-03-12 19:20:40.419   \n",
            "4  5d6a927e00000000010068b9 2021-08-24 23:44:32 2025-03-12 21:16:04.296   \n",
            "\n",
            "             account_length  \n",
            "0 2054 days 01:51:31.045000  \n",
            "1 2464 days 18:48:58.631000  \n",
            "2 1903 days 23:03:26.369000  \n",
            "3  483 days 11:53:09.419000  \n",
            "4 1295 days 21:31:32.296000  \n"
          ]
        }
      ],
      "source": [
        "# Convert post_time in df_contents (assuming it's in seconds)\n",
        "df_contents['post_time'] = pd.to_datetime(df_contents['post_time'], unit='s', errors='coerce')\n",
        "\n",
        "# For df_creator, first inspect the values to check if they are in seconds or milliseconds.\n",
        "print(df_creator['last_modify_ts'].head())\n",
        "\n",
        "# If the values look too large (e.g., in the range of 13-digit numbers), they might be in milliseconds.\n",
        "# Uncomment the appropriate conversion based on your inspection:\n",
        "\n",
        "# If timestamps are in seconds:\n",
        "# df_creator['last_modify_ts'] = pd.to_datetime(df_creator['last_modify_ts'], unit='s', errors='coerce')\n",
        "\n",
        "# If timestamps are in milliseconds:\n",
        "df_creator['last_modify_ts'] = pd.to_datetime(df_creator['last_modify_ts'], unit='ms', errors='coerce')\n",
        "\n",
        "# Get the earliest post time for each user\n",
        "earliest_posts = df_contents.groupby('user_id')['post_time'].min().reset_index()\n",
        "earliest_posts.rename(columns={'post_time': 'first_post_time'}, inplace=True)\n",
        "\n",
        "# Merge the earliest post time into df_creator based on user_id.\n",
        "df_creator = pd.merge(df_creator, earliest_posts, on='user_id', how='left')\n",
        "\n",
        "# Calculate account_length as the difference between last_modify_ts and first_post_time.\n",
        "df_creator['account_length'] = df_creator['last_modify_ts'] - df_creator['first_post_time']\n",
        "\n",
        "print(df_creator[['user_id', 'first_post_time', 'last_modify_ts', 'account_length']].head())\n"
      ]
    },
    {
      "cell_type": "code",
      "execution_count": 94,
      "metadata": {
        "colab": {
          "base_uri": "https://localhost:8080/"
        },
        "id": "ZcepV-C_oFkg",
        "outputId": "87b38b4c-f0f0-4dc9-d781-14ef46f4db3b"
      },
      "outputs": [
        {
          "data": {
            "text/plain": [
              "Index(['user_id', 'nickname', 'avatar', 'desc', 'ip_location', 'follows',\n",
              "       'fans', 'interaction', 'last_modify_ts', '图文报价(RMB)', '图文报价有对号', '平台等级',\n",
              "       'pic_per_normal_note', 'video_ratio', 'hot_note_count',\n",
              "       'total_share_counts_hot_ratio', 'last_note2now', 'last_hot_note2now',\n",
              "       'weighted_total_share_counts', 'score_2', 'score_5', 'liked_count',\n",
              "       'collected_count', 'comment_count', 'share_count', 'note_count',\n",
              "       'location', 'ff_ratio', 'age_koc', 'is_female', 'min', 'max',\n",
              "       'post_span', 'first_post_time', 'account_length'],\n",
              "      dtype='object')"
            ]
          },
          "execution_count": 94,
          "metadata": {},
          "output_type": "execute_result"
        }
      ],
      "source": [
        "df_creator.columns"
      ]
    },
    {
      "cell_type": "markdown",
      "metadata": {
        "id": "z5XleyO--T4C"
      },
      "source": [
        "Add average post time & std"
      ]
    },
    {
      "cell_type": "code",
      "execution_count": 95,
      "metadata": {
        "colab": {
          "base_uri": "https://localhost:8080/"
        },
        "id": "iHcKonjVtPim",
        "outputId": "fd2c7959-8be0-4e90-8d59-edfe7cdbaa3d"
      },
      "outputs": [
        {
          "name": "stdout",
          "output_type": "stream",
          "text": [
            "                    user_id   history_avg   history_std            post_avg  \\\n",
            "0  576d3bde82ec3952ff40c5e1  1.223938e+06  4.806686e+06 2022-11-17 15:53:58   \n",
            "1  58b325ce50c4b442ae017a30  1.507255e+06  5.636074e+06 2023-02-27 05:37:24   \n",
            "2  5c0c067c0000000005022f0a  7.346067e+05  1.077335e+06 2021-11-11 08:53:28   \n",
            "3  5649379603eb842b7ed00477  6.336227e+05  1.657265e+06 2024-10-21 08:26:10   \n",
            "4  5d6a927e00000000010068b9  7.964770e+05  2.409343e+06 2022-12-14 11:53:24   \n",
            "\n",
            "       post_std  \n",
            "0  3.297572e+07  \n",
            "1  4.406148e+07  \n",
            "2  4.007945e+07  \n",
            "3  7.186721e+06  \n",
            "4  3.483827e+07  \n"
          ]
        }
      ],
      "source": [
        "import numpy as np\n",
        "def compute_history_stats(times):\n",
        "    if len(times) <= 1:\n",
        "        # Return NaN for all four stats when not enough data\n",
        "        return np.nan, np.nan, np.nan, np.nan\n",
        "    # Ensure the times are sorted\n",
        "    sorted_times = np.sort(times)\n",
        "    # Compute intervals in seconds between posts\n",
        "    intervals = np.diff(sorted_times).astype('timedelta64[s]').astype(float)\n",
        "    avg_interval = intervals.mean()\n",
        "    std_interval = intervals.std()\n",
        "\n",
        "    # Convert times to numeric (seconds since epoch) for average and std computation\n",
        "    numeric_times = times.astype('datetime64[s]').astype('int64')\n",
        "    avg_post_numeric = numeric_times.mean()\n",
        "    std_post_numeric = numeric_times.std()\n",
        "    # Convert average back to datetime\n",
        "    avg_post_time = np.datetime64(int(avg_post_numeric), 's')\n",
        "\n",
        "    return avg_interval, std_interval, avg_post_time, std_post_numeric\n",
        "\n",
        "# Group by user_id and apply the function on the 'post_time' column\n",
        "history_stats = df_contents.groupby('user_id')['post_time'].apply(\n",
        "    lambda x: compute_history_stats(x.values)\n",
        ").reset_index()\n",
        "\n",
        "# Expand the computed tuple into separate columns:\n",
        "# history_avg: average interval between posts (in seconds)\n",
        "# history_std: standard deviation of intervals (in seconds)\n",
        "# post_avg: average posting time (datetime)\n",
        "# post_std: standard deviation of post times (in seconds)\n",
        "history_stats[['history_avg', 'history_std', 'post_avg', 'post_std']] = pd.DataFrame(\n",
        "    history_stats['post_time'].tolist(), index=history_stats.index\n",
        ")\n",
        "\n",
        "# Remove the temporary column\n",
        "history_stats.drop(columns=['post_time'], inplace=True)\n",
        "\n",
        "# Merge the stats into df_creator based on user_id.\n",
        "df_creator = pd.merge(df_creator, history_stats, on='user_id', how='left')\n",
        "\n",
        "# Print out the results\n",
        "print(df_creator[['user_id', 'history_avg', 'history_std', 'post_avg', 'post_std']].head())\n",
        "\n",
        "# unit is in seconds\n"
      ]
    },
    {
      "cell_type": "markdown",
      "metadata": {
        "id": "dVd_u3R8-djC"
      },
      "source": [
        "Add counts within 90 days"
      ]
    },
    {
      "cell_type": "code",
      "execution_count": 96,
      "metadata": {
        "colab": {
          "base_uri": "https://localhost:8080/"
        },
        "id": "EXgevCWLAetY",
        "outputId": "a9e4baca-474c-4017-ae6c-68d2a079a0cc"
      },
      "outputs": [
        {
          "name": "stdout",
          "output_type": "stream",
          "text": [
            "Columns in df_merged: ['note_id', 'user_id', 'title', 'note_body', 'tag_list', 'image_count', 'content_type_video', 'hot_note', 'post_time', 'last_update_time', 'scraped_time', 'elapsed_time', 'liked_count', 'collected_count', 'comment_count', 'share_count', 'interaction_count', 'last_modify_ts']\n",
            "                    user_id  liked_90  collected_90  comment_90  share_90  \\\n",
            "0  576d3bde82ec3952ff40c5e1     330.0         203.0        92.0     289.0   \n",
            "1  58b325ce50c4b442ae017a30     565.0         526.0       207.0     336.0   \n",
            "2  5c0c067c0000000005022f0a      15.0           0.0         4.0       1.0   \n",
            "3  5649379603eb842b7ed00477     533.0         124.0        61.0      84.0   \n",
            "4  5d6a927e00000000010068b9     127.0          55.0        27.0      50.0   \n",
            "\n",
            "   note_count_90  \n",
            "0            8.0  \n",
            "1           20.0  \n",
            "2            3.0  \n",
            "3           17.0  \n",
            "4            6.0  \n"
          ]
        }
      ],
      "source": [
        "threshold_ms = 90 * 24 * 3600 * 1000  # 90 days in ms\n",
        "# Convert threshold_ms into a Timedelta\n",
        "threshold_td = pd.Timedelta(milliseconds=threshold_ms)\n",
        "\n",
        "# Merge df_contents with the subset of df_creator that has user_id and last_modify_ts.\n",
        "df_merged = pd.merge(\n",
        "    df_contents,\n",
        "    df_creator[['user_id', 'last_modify_ts']],\n",
        "    on='user_id',\n",
        "    how='left',\n",
        "    suffixes=('', '_creator')\n",
        ")\n",
        "\n",
        "print(\"Columns in df_merged:\", df_merged.columns.tolist())\n",
        "\n",
        "# Now, assuming df_merged['last_modify_ts_creator'] is in datetime format,\n",
        "# filter posts within the 90-day window from each creator's last_modify_ts.\n",
        "df_recent = df_merged[df_merged['post_time'] >= (df_merged['last_modify_ts'] - threshold_td)]\n",
        "\n",
        "# Aggregate the metrics for these recent posts by user_id.\n",
        "metrics_90 = df_recent.groupby('user_id').agg(\n",
        "    liked_90=('liked_count', 'sum'),\n",
        "    collected_90=('collected_count', 'sum'),\n",
        "    comment_90=('comment_count', 'sum'),\n",
        "    share_90=('share_count', 'sum'),\n",
        "    note_count_90=('note_id', 'count')\n",
        ").reset_index()\n",
        "\n",
        "# Merge the 90-day metrics into df_creator.\n",
        "df_creator = pd.merge(df_creator, metrics_90, on='user_id', how='left')\n",
        "\n",
        "# For creators with no posts in the last 90 days, fill missing values with 0.\n",
        "cols_to_fill = ['liked_90', 'collected_90', 'comment_90', 'share_90', 'note_count_90']\n",
        "df_creator[cols_to_fill] = df_creator[cols_to_fill].fillna(0)\n",
        "\n",
        "# Display the new columns to verify the result.\n",
        "print(df_creator[['user_id', 'liked_90', 'collected_90', 'comment_90', 'share_90', 'note_count_90']].head())\n"
      ]
    },
    {
      "cell_type": "markdown",
      "metadata": {
        "id": "HEBgKGubCk3z"
      },
      "source": [
        "Add counts within 180 days"
      ]
    },
    {
      "cell_type": "code",
      "execution_count": 97,
      "metadata": {
        "colab": {
          "base_uri": "https://localhost:8080/"
        },
        "id": "NOGXX9SmCQNO",
        "outputId": "dd5bef4a-0728-4ad7-818c-652c25c2d051"
      },
      "outputs": [
        {
          "name": "stdout",
          "output_type": "stream",
          "text": [
            "Columns in df_merged: ['note_id', 'user_id', 'title', 'note_body', 'tag_list', 'image_count', 'content_type_video', 'hot_note', 'post_time', 'last_update_time', 'scraped_time', 'elapsed_time', 'liked_count', 'collected_count', 'comment_count', 'share_count', 'interaction_count', 'last_modify_ts']\n",
            "                    user_id  liked_180  collected_180  comment_180  share_180  \\\n",
            "0  576d3bde82ec3952ff40c5e1       6266           4790         2717       4361   \n",
            "1  58b325ce50c4b442ae017a30       7281           3351         1713       1818   \n",
            "2  5c0c067c0000000005022f0a       2239           1227          608        846   \n",
            "3  5649379603eb842b7ed00477       2567           1582          475       1211   \n",
            "4  5d6a927e00000000010068b9       3870           3753          452       1900   \n",
            "\n",
            "   note_count_180  \n",
            "0             141  \n",
            "1             140  \n",
            "2             204  \n",
            "3              66  \n",
            "4             138  \n"
          ]
        }
      ],
      "source": [
        "threshold_ms = 1800 * 24 * 3600 * 1000  # 180 days in ms\n",
        "# Convert threshold_ms into a Timedelta\n",
        "threshold_td = pd.Timedelta(milliseconds=threshold_ms)\n",
        "\n",
        "# Merge df_contents with the subset of df_creator that has user_id and last_modify_ts.\n",
        "df_merged = pd.merge(\n",
        "    df_contents,\n",
        "    df_creator[['user_id', 'last_modify_ts']],\n",
        "    on='user_id',\n",
        "    how='left',\n",
        "    suffixes=('', '_creator')\n",
        ")\n",
        "\n",
        "print(\"Columns in df_merged:\", df_merged.columns.tolist())\n",
        "\n",
        "# Now, assuming df_merged['last_modify_ts_creator'] is in datetime format,\n",
        "# filter posts within the 180-day window from each creator's last_modify_ts.\n",
        "df_recent = df_merged[df_merged['post_time'] >= (df_merged['last_modify_ts'] - threshold_td)]\n",
        "\n",
        "# Aggregate the metrics for these recent posts by user_id.\n",
        "metrics_180 = df_recent.groupby('user_id').agg(\n",
        "    liked_180=('liked_count', 'sum'),\n",
        "    collected_180=('collected_count', 'sum'),\n",
        "    comment_180=('comment_count', 'sum'),\n",
        "    share_180=('share_count', 'sum'),\n",
        "    note_count_180=('note_id', 'count')\n",
        ").reset_index()\n",
        "\n",
        "# Merge the 180-day metrics into df_creator.\n",
        "df_creator = pd.merge(df_creator, metrics_180, on='user_id', how='left')\n",
        "\n",
        "# For creators with no posts in the last 180 days, fill missing values with 0.\n",
        "cols_to_fill = ['liked_180', 'collected_180', 'comment_180', 'share_180', 'note_count_180']\n",
        "df_creator[cols_to_fill] = df_creator[cols_to_fill].fillna(0)\n",
        "\n",
        "# Display the new columns to verify the result.\n",
        "print(df_creator[['user_id', 'liked_180', 'collected_180', 'comment_180', 'share_180', 'note_count_180']].head())\n"
      ]
    },
    {
      "cell_type": "code",
      "execution_count": 98,
      "metadata": {
        "colab": {
          "base_uri": "https://localhost:8080/",
          "height": 1000
        },
        "id": "HUOYxz1hCqmz",
        "outputId": "495a5d72-c7d0-4273-ea36-72f3584107e4"
      },
      "outputs": [
        {
          "data": {
            "text/html": [
              "<div>\n",
              "<style scoped>\n",
              "    .dataframe tbody tr th:only-of-type {\n",
              "        vertical-align: middle;\n",
              "    }\n",
              "\n",
              "    .dataframe tbody tr th {\n",
              "        vertical-align: top;\n",
              "    }\n",
              "\n",
              "    .dataframe thead th {\n",
              "        text-align: right;\n",
              "    }\n",
              "</style>\n",
              "<table border=\"1\" class=\"dataframe\">\n",
              "  <thead>\n",
              "    <tr style=\"text-align: right;\">\n",
              "      <th></th>\n",
              "      <th>user_id</th>\n",
              "      <th>nickname</th>\n",
              "      <th>avatar</th>\n",
              "      <th>desc</th>\n",
              "      <th>ip_location</th>\n",
              "      <th>follows</th>\n",
              "      <th>fans</th>\n",
              "      <th>interaction</th>\n",
              "      <th>last_modify_ts</th>\n",
              "      <th>图文报价(RMB)</th>\n",
              "      <th>...</th>\n",
              "      <th>liked_90</th>\n",
              "      <th>collected_90</th>\n",
              "      <th>comment_90</th>\n",
              "      <th>share_90</th>\n",
              "      <th>note_count_90</th>\n",
              "      <th>liked_180</th>\n",
              "      <th>collected_180</th>\n",
              "      <th>comment_180</th>\n",
              "      <th>share_180</th>\n",
              "      <th>note_count_180</th>\n",
              "    </tr>\n",
              "  </thead>\n",
              "  <tbody>\n",
              "    <tr>\n",
              "      <th>0</th>\n",
              "      <td>576d3bde82ec3952ff40c5e1</td>\n",
              "      <td>达拉斯小鸡腿</td>\n",
              "      <td>https://sns-avatar-qc.xhscdn.com/avatar/61df4c...</td>\n",
              "      <td>慢慢了解世界，慢慢更新自己\\n吃喝玩乐+宝宝们，随心分享\\n佛系更新中～比心🫰 | Zodi...</td>\n",
              "      <td>美国</td>\n",
              "      <td>837</td>\n",
              "      <td>1653</td>\n",
              "      <td>11636</td>\n",
              "      <td>2025-03-12 00:52:14.045</td>\n",
              "      <td>60</td>\n",
              "      <td>...</td>\n",
              "      <td>330.0</td>\n",
              "      <td>203.0</td>\n",
              "      <td>92.0</td>\n",
              "      <td>289.0</td>\n",
              "      <td>8.0</td>\n",
              "      <td>6266</td>\n",
              "      <td>4790</td>\n",
              "      <td>2717</td>\n",
              "      <td>4361</td>\n",
              "      <td>141</td>\n",
              "    </tr>\n",
              "    <tr>\n",
              "      <th>1</th>\n",
              "      <td>58b325ce50c4b442ae017a30</td>\n",
              "      <td>小温柔Sylvia</td>\n",
              "      <td>https://sns-avatar-qc.xhscdn.com/avatar/1040g2...</td>\n",
              "      <td>北京🇨🇳→ 达拉斯🇺🇸\\n163cm ♋巨蟹座 乐观开朗 \\nIG: sylviviishe...</td>\n",
              "      <td>美国</td>\n",
              "      <td>961</td>\n",
              "      <td>304</td>\n",
              "      <td>10699</td>\n",
              "      <td>2025-03-12 02:27:21.631</td>\n",
              "      <td>10</td>\n",
              "      <td>...</td>\n",
              "      <td>565.0</td>\n",
              "      <td>526.0</td>\n",
              "      <td>207.0</td>\n",
              "      <td>336.0</td>\n",
              "      <td>20.0</td>\n",
              "      <td>7281</td>\n",
              "      <td>3351</td>\n",
              "      <td>1713</td>\n",
              "      <td>1818</td>\n",
              "      <td>140</td>\n",
              "    </tr>\n",
              "    <tr>\n",
              "      <th>2</th>\n",
              "      <td>5c0c067c0000000005022f0a</td>\n",
              "      <td>茄茄公主 🍆</td>\n",
              "      <td>https://sns-avatar-qc.xhscdn.com/avatar/1040g2...</td>\n",
              "      <td>坐标 达拉斯 美国🇺🇸 来美14 年 家庭成员： 三只毛小孩🐶 喜欢旅游 和探索各地美食🥰 ...</td>\n",
              "      <td>美国</td>\n",
              "      <td>251</td>\n",
              "      <td>258</td>\n",
              "      <td>3607</td>\n",
              "      <td>2025-03-12 02:45:40.369</td>\n",
              "      <td>10</td>\n",
              "      <td>...</td>\n",
              "      <td>15.0</td>\n",
              "      <td>0.0</td>\n",
              "      <td>4.0</td>\n",
              "      <td>1.0</td>\n",
              "      <td>3.0</td>\n",
              "      <td>2239</td>\n",
              "      <td>1227</td>\n",
              "      <td>608</td>\n",
              "      <td>846</td>\n",
              "      <td>204</td>\n",
              "    </tr>\n",
              "    <tr>\n",
              "      <th>3</th>\n",
              "      <td>5649379603eb842b7ed00477</td>\n",
              "      <td>Sherry是睿睿呀</td>\n",
              "      <td>https://sns-avatar-qc.xhscdn.com/avatar/1040g2...</td>\n",
              "      <td>北美生活探店| Chinese Girl in Dallas TX\\n吃喝玩乐样样行 | 坐...</td>\n",
              "      <td>美国</td>\n",
              "      <td>1173</td>\n",
              "      <td>1326</td>\n",
              "      <td>28064</td>\n",
              "      <td>2025-03-12 19:20:40.419</td>\n",
              "      <td>100</td>\n",
              "      <td>...</td>\n",
              "      <td>533.0</td>\n",
              "      <td>124.0</td>\n",
              "      <td>61.0</td>\n",
              "      <td>84.0</td>\n",
              "      <td>17.0</td>\n",
              "      <td>2567</td>\n",
              "      <td>1582</td>\n",
              "      <td>475</td>\n",
              "      <td>1211</td>\n",
              "      <td>66</td>\n",
              "    </tr>\n",
              "    <tr>\n",
              "      <th>4</th>\n",
              "      <td>5d6a927e00000000010068b9</td>\n",
              "      <td>達拉斯里長</td>\n",
              "      <td>https://sns-avatar-qc.xhscdn.com/avatar/1040g2...</td>\n",
              "      <td>達拉斯，請多指教👋\\n在朝九晚五平淡生活中，\\n熱烈又燦爛的挖掘美好✨ | Zodiac: ...</td>\n",
              "      <td>美国</td>\n",
              "      <td>353</td>\n",
              "      <td>794</td>\n",
              "      <td>8149</td>\n",
              "      <td>2025-03-12 21:16:04.296</td>\n",
              "      <td>20</td>\n",
              "      <td>...</td>\n",
              "      <td>127.0</td>\n",
              "      <td>55.0</td>\n",
              "      <td>27.0</td>\n",
              "      <td>50.0</td>\n",
              "      <td>6.0</td>\n",
              "      <td>3870</td>\n",
              "      <td>3753</td>\n",
              "      <td>452</td>\n",
              "      <td>1900</td>\n",
              "      <td>138</td>\n",
              "    </tr>\n",
              "    <tr>\n",
              "      <th>...</th>\n",
              "      <td>...</td>\n",
              "      <td>...</td>\n",
              "      <td>...</td>\n",
              "      <td>...</td>\n",
              "      <td>...</td>\n",
              "      <td>...</td>\n",
              "      <td>...</td>\n",
              "      <td>...</td>\n",
              "      <td>...</td>\n",
              "      <td>...</td>\n",
              "      <td>...</td>\n",
              "      <td>...</td>\n",
              "      <td>...</td>\n",
              "      <td>...</td>\n",
              "      <td>...</td>\n",
              "      <td>...</td>\n",
              "      <td>...</td>\n",
              "      <td>...</td>\n",
              "      <td>...</td>\n",
              "      <td>...</td>\n",
              "      <td>...</td>\n",
              "    </tr>\n",
              "    <tr>\n",
              "      <th>96</th>\n",
              "      <td>5a5bf1414eacab4087b808c7</td>\n",
              "      <td>YSZ</td>\n",
              "      <td>https://sns-avatar-qc.xhscdn.com/avatar/6313b7...</td>\n",
              "      <td>分享生活 \\n喜欢看演唱会 \\n吃美食\\n旅游\\n 不定时更新🤓🤠 | Zodiac: un...</td>\n",
              "      <td>美国</td>\n",
              "      <td>1841</td>\n",
              "      <td>857</td>\n",
              "      <td>72730</td>\n",
              "      <td>2025-03-16 05:28:01.267</td>\n",
              "      <td>40</td>\n",
              "      <td>...</td>\n",
              "      <td>278.0</td>\n",
              "      <td>86.0</td>\n",
              "      <td>106.0</td>\n",
              "      <td>75.0</td>\n",
              "      <td>14.0</td>\n",
              "      <td>68637</td>\n",
              "      <td>3524</td>\n",
              "      <td>1048</td>\n",
              "      <td>1097</td>\n",
              "      <td>63</td>\n",
              "    </tr>\n",
              "    <tr>\n",
              "      <th>97</th>\n",
              "      <td>621a0927000000001000f950</td>\n",
              "      <td>Esther 星星 ✨</td>\n",
              "      <td>https://sns-avatar-qc.xhscdn.com/avatar/1040g2...</td>\n",
              "      <td>生而自由 爱而无畏\\n清醒知进退 酷而不失浪漫\\n我是ENFP快乐小狗🐶\\nIg：esthe...</td>\n",
              "      <td>美国</td>\n",
              "      <td>907</td>\n",
              "      <td>996</td>\n",
              "      <td>13953</td>\n",
              "      <td>2025-03-17 19:34:34.708</td>\n",
              "      <td>10</td>\n",
              "      <td>...</td>\n",
              "      <td>339.0</td>\n",
              "      <td>172.0</td>\n",
              "      <td>48.0</td>\n",
              "      <td>53.0</td>\n",
              "      <td>29.0</td>\n",
              "      <td>7465</td>\n",
              "      <td>4865</td>\n",
              "      <td>2271</td>\n",
              "      <td>2365</td>\n",
              "      <td>600</td>\n",
              "    </tr>\n",
              "    <tr>\n",
              "      <th>98</th>\n",
              "      <td>5c4be6f500000000100050c6</td>\n",
              "      <td>小fafa</td>\n",
              "      <td>https://sns-avatar-qc.xhscdn.com/avatar/62f3f2...</td>\n",
              "      <td>📍TX🇺🇸\\n吃喝｜遛娃｜摄影｜旅行\\n旅行笔记已分类📁 | Zodiac: unknown...</td>\n",
              "      <td>美国</td>\n",
              "      <td>180</td>\n",
              "      <td>1732</td>\n",
              "      <td>30397</td>\n",
              "      <td>2025-03-19 18:03:18.300</td>\n",
              "      <td>10</td>\n",
              "      <td>...</td>\n",
              "      <td>2611.0</td>\n",
              "      <td>576.0</td>\n",
              "      <td>2014.0</td>\n",
              "      <td>948.0</td>\n",
              "      <td>23.0</td>\n",
              "      <td>14241</td>\n",
              "      <td>6225</td>\n",
              "      <td>5455</td>\n",
              "      <td>4286</td>\n",
              "      <td>371</td>\n",
              "    </tr>\n",
              "    <tr>\n",
              "      <th>99</th>\n",
              "      <td>587623ba6a6a691cffba0875</td>\n",
              "      <td>苹果头在路上</td>\n",
              "      <td>https://sns-avatar-qc.xhscdn.com/avatar/1040g2...</td>\n",
              "      <td>｜35+ 会计打工人\\n｜喜爱跳舞/追剧/分享生活有用信息/偶尔健身/男宝妈 | Zodia...</td>\n",
              "      <td>美国</td>\n",
              "      <td>94</td>\n",
              "      <td>575</td>\n",
              "      <td>5744</td>\n",
              "      <td>2025-03-19 23:27:28.370</td>\n",
              "      <td>20</td>\n",
              "      <td>...</td>\n",
              "      <td>238.0</td>\n",
              "      <td>125.0</td>\n",
              "      <td>104.0</td>\n",
              "      <td>111.0</td>\n",
              "      <td>36.0</td>\n",
              "      <td>3439</td>\n",
              "      <td>1725</td>\n",
              "      <td>1985</td>\n",
              "      <td>1398</td>\n",
              "      <td>301</td>\n",
              "    </tr>\n",
              "    <tr>\n",
              "      <th>100</th>\n",
              "      <td>57edc02550c4b47c9e876daf</td>\n",
              "      <td>Katrinalove</td>\n",
              "      <td>https://sns-avatar-qc.xhscdn.com/avatar/5e8a30...</td>\n",
              "      <td>生活在美国十几年的中国人 （留学开始的） 喜欢拼图 乐高 分享购物和美食\\nwandongl...</td>\n",
              "      <td>美国</td>\n",
              "      <td>231</td>\n",
              "      <td>2486</td>\n",
              "      <td>77331</td>\n",
              "      <td>2025-03-20 15:44:44.649</td>\n",
              "      <td>3000</td>\n",
              "      <td>...</td>\n",
              "      <td>1035.0</td>\n",
              "      <td>179.0</td>\n",
              "      <td>208.0</td>\n",
              "      <td>131.0</td>\n",
              "      <td>24.0</td>\n",
              "      <td>18515</td>\n",
              "      <td>5093</td>\n",
              "      <td>4155</td>\n",
              "      <td>2337</td>\n",
              "      <td>323</td>\n",
              "    </tr>\n",
              "  </tbody>\n",
              "</table>\n",
              "<p>101 rows × 49 columns</p>\n",
              "</div>"
            ],
            "text/plain": [
              "                      user_id     nickname  \\\n",
              "0    576d3bde82ec3952ff40c5e1       达拉斯小鸡腿   \n",
              "1    58b325ce50c4b442ae017a30    小温柔Sylvia   \n",
              "2    5c0c067c0000000005022f0a       茄茄公主 🍆   \n",
              "3    5649379603eb842b7ed00477   Sherry是睿睿呀   \n",
              "4    5d6a927e00000000010068b9        達拉斯里長   \n",
              "..                        ...          ...   \n",
              "96   5a5bf1414eacab4087b808c7          YSZ   \n",
              "97   621a0927000000001000f950  Esther 星星 ✨   \n",
              "98   5c4be6f500000000100050c6        小fafa   \n",
              "99   587623ba6a6a691cffba0875       苹果头在路上   \n",
              "100  57edc02550c4b47c9e876daf  Katrinalove   \n",
              "\n",
              "                                                avatar  \\\n",
              "0    https://sns-avatar-qc.xhscdn.com/avatar/61df4c...   \n",
              "1    https://sns-avatar-qc.xhscdn.com/avatar/1040g2...   \n",
              "2    https://sns-avatar-qc.xhscdn.com/avatar/1040g2...   \n",
              "3    https://sns-avatar-qc.xhscdn.com/avatar/1040g2...   \n",
              "4    https://sns-avatar-qc.xhscdn.com/avatar/1040g2...   \n",
              "..                                                 ...   \n",
              "96   https://sns-avatar-qc.xhscdn.com/avatar/6313b7...   \n",
              "97   https://sns-avatar-qc.xhscdn.com/avatar/1040g2...   \n",
              "98   https://sns-avatar-qc.xhscdn.com/avatar/62f3f2...   \n",
              "99   https://sns-avatar-qc.xhscdn.com/avatar/1040g2...   \n",
              "100  https://sns-avatar-qc.xhscdn.com/avatar/5e8a30...   \n",
              "\n",
              "                                                  desc ip_location  follows  \\\n",
              "0    慢慢了解世界，慢慢更新自己\\n吃喝玩乐+宝宝们，随心分享\\n佛系更新中～比心🫰 | Zodi...          美国      837   \n",
              "1    北京🇨🇳→ 达拉斯🇺🇸\\n163cm ♋巨蟹座 乐观开朗 \\nIG: sylviviishe...          美国      961   \n",
              "2    坐标 达拉斯 美国🇺🇸 来美14 年 家庭成员： 三只毛小孩🐶 喜欢旅游 和探索各地美食🥰 ...          美国      251   \n",
              "3    北美生活探店| Chinese Girl in Dallas TX\\n吃喝玩乐样样行 | 坐...          美国     1173   \n",
              "4    達拉斯，請多指教👋\\n在朝九晚五平淡生活中，\\n熱烈又燦爛的挖掘美好✨ | Zodiac: ...          美国      353   \n",
              "..                                                 ...         ...      ...   \n",
              "96   分享生活 \\n喜欢看演唱会 \\n吃美食\\n旅游\\n 不定时更新🤓🤠 | Zodiac: un...          美国     1841   \n",
              "97   生而自由 爱而无畏\\n清醒知进退 酷而不失浪漫\\n我是ENFP快乐小狗🐶\\nIg：esthe...          美国      907   \n",
              "98   📍TX🇺🇸\\n吃喝｜遛娃｜摄影｜旅行\\n旅行笔记已分类📁 | Zodiac: unknown...          美国      180   \n",
              "99   ｜35+ 会计打工人\\n｜喜爱跳舞/追剧/分享生活有用信息/偶尔健身/男宝妈 | Zodia...          美国       94   \n",
              "100  生活在美国十几年的中国人 （留学开始的） 喜欢拼图 乐高 分享购物和美食\\nwandongl...          美国      231   \n",
              "\n",
              "     fans  interaction          last_modify_ts  图文报价(RMB)  ...  liked_90  \\\n",
              "0    1653        11636 2025-03-12 00:52:14.045         60  ...     330.0   \n",
              "1     304        10699 2025-03-12 02:27:21.631         10  ...     565.0   \n",
              "2     258         3607 2025-03-12 02:45:40.369         10  ...      15.0   \n",
              "3    1326        28064 2025-03-12 19:20:40.419        100  ...     533.0   \n",
              "4     794         8149 2025-03-12 21:16:04.296         20  ...     127.0   \n",
              "..    ...          ...                     ...        ...  ...       ...   \n",
              "96    857        72730 2025-03-16 05:28:01.267         40  ...     278.0   \n",
              "97    996        13953 2025-03-17 19:34:34.708         10  ...     339.0   \n",
              "98   1732        30397 2025-03-19 18:03:18.300         10  ...    2611.0   \n",
              "99    575         5744 2025-03-19 23:27:28.370         20  ...     238.0   \n",
              "100  2486        77331 2025-03-20 15:44:44.649       3000  ...    1035.0   \n",
              "\n",
              "    collected_90  comment_90  share_90  note_count_90  liked_180  \\\n",
              "0          203.0        92.0     289.0            8.0       6266   \n",
              "1          526.0       207.0     336.0           20.0       7281   \n",
              "2            0.0         4.0       1.0            3.0       2239   \n",
              "3          124.0        61.0      84.0           17.0       2567   \n",
              "4           55.0        27.0      50.0            6.0       3870   \n",
              "..           ...         ...       ...            ...        ...   \n",
              "96          86.0       106.0      75.0           14.0      68637   \n",
              "97         172.0        48.0      53.0           29.0       7465   \n",
              "98         576.0      2014.0     948.0           23.0      14241   \n",
              "99         125.0       104.0     111.0           36.0       3439   \n",
              "100        179.0       208.0     131.0           24.0      18515   \n",
              "\n",
              "     collected_180  comment_180  share_180  note_count_180  \n",
              "0             4790         2717       4361             141  \n",
              "1             3351         1713       1818             140  \n",
              "2             1227          608        846             204  \n",
              "3             1582          475       1211              66  \n",
              "4             3753          452       1900             138  \n",
              "..             ...          ...        ...             ...  \n",
              "96            3524         1048       1097              63  \n",
              "97            4865         2271       2365             600  \n",
              "98            6225         5455       4286             371  \n",
              "99            1725         1985       1398             301  \n",
              "100           5093         4155       2337             323  \n",
              "\n",
              "[101 rows x 49 columns]"
            ]
          },
          "execution_count": 98,
          "metadata": {},
          "output_type": "execute_result"
        }
      ],
      "source": [
        "df_creator"
      ]
    },
    {
      "cell_type": "code",
      "execution_count": 99,
      "metadata": {
        "id": "9H81oGuMCwSK"
      },
      "outputs": [],
      "source": [
        "df_creator.to_json(\"creator_cooked.json\", orient=\"records\", force_ascii=False)\n"
      ]
    },
    {
      "cell_type": "code",
      "execution_count": null,
      "metadata": {},
      "outputs": [],
      "source": []
    }
  ],
  "metadata": {
    "colab": {
      "provenance": [],
      "toc_visible": true
    },
    "kernelspec": {
      "display_name": "torch",
      "language": "python",
      "name": "python3"
    },
    "language_info": {
      "codemirror_mode": {
        "name": "ipython",
        "version": 3
      },
      "file_extension": ".py",
      "mimetype": "text/x-python",
      "name": "python",
      "nbconvert_exporter": "python",
      "pygments_lexer": "ipython3",
      "version": "3.9.21"
    }
  },
  "nbformat": 4,
  "nbformat_minor": 0
}
