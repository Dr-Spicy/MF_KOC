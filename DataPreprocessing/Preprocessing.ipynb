{
  "cells": [
    {
      "cell_type": "code",
      "execution_count": 2,
      "metadata": {
        "id": "7NRI0YOOV7Oz"
      },
      "outputs": [],
      "source": [
        "import os\n",
        "import json\n",
        "import glob\n",
        "import pandas as pd\n",
        "import numpy as np\n",
        "#from google.colab import files"
      ]
    },
    {
      "cell_type": "code",
      "execution_count": 3,
      "metadata": {
        "id": "9JKKc3mCquHC"
      },
      "outputs": [],
      "source": [
        "RUN_ENV = 'COLAB' # 'PC' or 'COLAB'"
      ]
    },
    {
      "cell_type": "code",
      "execution_count": 4,
      "metadata": {},
      "outputs": [],
      "source": [
        "RUN_ENV = 'PC' "
      ]
    },
    {
      "cell_type": "markdown",
      "metadata": {
        "id": "xCl7RnwX-LCw"
      },
      "source": [
        "# 0 Load Data by uploading json files maded by ning (need to repeat every time b4 u start)"
      ]
    },
    {
      "cell_type": "code",
      "execution_count": 58,
      "metadata": {
        "colab": {
          "base_uri": "https://localhost:8080/",
          "height": 129
        },
        "id": "cMbdZwXnquHD",
        "outputId": "3d2b97f1-5ee5-4060-988c-a5c161ece42e"
      },
      "outputs": [],
      "source": [
        "if RUN_ENV == 'COLAB':\n",
        "    #json文件，地址在github库MF_KOC\\Data\\raw\\, 导入上传文件为data frame格式\n",
        "    uploaded_creator = files.upload()\n",
        "    df_creator_0 = pd.read_json(next(iter(uploaded_creator)))\n",
        "    df_creator = df_creator_0.copy()\n",
        "    uploaded_content = files.upload()\n",
        "    df_contents_0 = pd.read_json(next(iter(uploaded_content)))\n",
        "    df_contents = df_contents_0.copy()\n",
        "elif RUN_ENV == 'PC':\n",
        "    #读取本地json文件\n",
        "    df_creator = pd.read_json(r'..\\Data\\raw\\creator_total.json')\n",
        "    df_contents = pd.read_json(r'..\\Data\\raw\\contents_total.json')\n",
        "    df_csv = pd.read_csv(r'..\\Data\\XHS_KOC_List - Sheet1.csv')"
      ]
    },
    {
      "cell_type": "code",
      "execution_count": 59,
      "metadata": {
        "colab": {
          "base_uri": "https://localhost:8080/"
        },
        "id": "uvTA74M7OWaA",
        "outputId": "ed1657d9-77bf-4c08-9bb3-f8f016d01897"
      },
      "outputs": [
        {
          "name": "stdout",
          "output_type": "stream",
          "text": [
            "(102, 11)\n",
            "(15941, 21)\n",
            "(107, 26)\n"
          ]
        }
      ],
      "source": [
        "print(df_creator.shape)\n",
        "print(df_contents.shape)\n",
        "print(df_csv.shape)"
      ]
    },
    {
      "cell_type": "code",
      "execution_count": 60,
      "metadata": {},
      "outputs": [
        {
          "data": {
            "text/plain": [
              "Index(['user_id', '图文报价(RMB)', '图文报价有对号', '平台等级'], dtype='object')"
            ]
          },
          "execution_count": 60,
          "metadata": {},
          "output_type": "execute_result"
        }
      ],
      "source": [
        "df_csv.drop(columns=['Scraped by', 'Name', 'URL', 'Bio(text)', '星座', 'Sex',\n",
        "       'following count', 'fans count', 'liked n collected', 'ip_location',\n",
        "       'tags(text)','红人健康等级', '活跃粉丝占比(仅>1K)',\n",
        "       '粉丝女性比例', '粉丝年龄<18', '粉丝年龄18-24', '粉丝年龄25-34', '粉丝年龄35-44', '粉丝年龄>44',\n",
        "       '兴趣标签', '地域分布', 'Unnamed: 25'], inplace=True)\n",
        "df_csv.columns\n"
      ]
    },
    {
      "cell_type": "code",
      "execution_count": 61,
      "metadata": {},
      "outputs": [
        {
          "name": "stdout",
          "output_type": "stream",
          "text": [
            "(101, 14)\n"
          ]
        }
      ],
      "source": [
        "df_creator = pd.merge(\n",
        "df_creator,\n",
        "df_csv,\n",
        "on='user_id'\n",
        ")\n",
        "print(df_creator.shape)"
      ]
    },
    {
      "cell_type": "markdown",
      "metadata": {
        "id": "kp3gTOUj6gXL"
      },
      "source": [
        "# 1 Convert columns to the right dtype, and remove the irrelevant columns"
      ]
    },
    {
      "cell_type": "code",
      "execution_count": 63,
      "metadata": {
        "id": "O6qFoDL7quHF"
      },
      "outputs": [],
      "source": [
        "# Define the desired data types for each column of df_creator\n",
        "desired_dtypes = ['object']*6 + ['int32']*3 + ['object'] +  ['int64']\n",
        "df = df_creator\n",
        "# Assign the data types to the columns\n",
        "for col, dtype in zip(df.columns, desired_dtypes):\n",
        "    df[col] = df[col].astype(dtype)"
      ]
    },
    {
      "cell_type": "code",
      "execution_count": 64,
      "metadata": {
        "id": "TFgT2uHEquHF"
      },
      "outputs": [],
      "source": [
        "# Define the desired data types for each column of df_contents\n",
        "desired_dtypes = ['object']*5 +  ['int64'] + ['datetime64[s]'] + ['object']*3 +  ['int64']*4 + ['object']*3 + ['int64'] + ['object']*3\n",
        "df = df_contents\n",
        "# Assign the data types to the columns\n",
        "for col, dtype in zip(df.columns, desired_dtypes):\n",
        "    df[col] = df[col].astype(dtype)"
      ]
    },
    {
      "cell_type": "markdown",
      "metadata": {
        "id": "7l0MWJnPquHG"
      },
      "source": [
        "# 2 Treat the df_contents table"
      ]
    },
    {
      "cell_type": "markdown",
      "metadata": {
        "id": "467QoiqXquHG"
      },
      "source": [
        "### 7.2, 7.5, 7.6, 7.8, 7.9,"
      ]
    },
    {
      "cell_type": "code",
      "execution_count": 65,
      "metadata": {
        "id": "pSGyBjfSquHG"
      },
      "outputs": [],
      "source": [
        "# remove columns, ['video_url', 'nickname', 'avatar', 'ip_location', 'note_url', 'source_keyword', 'xsec_token']\n",
        "df_contents.drop(columns=['video_url', 'nickname', 'avatar', 'ip_location', 'note_url', 'source_keyword', 'xsec_token'], inplace=True)"
      ]
    },
    {
      "cell_type": "markdown",
      "metadata": {
        "id": "1_Rokt9uquHG"
      },
      "source": [
        "### 7.1 Type: change the normal to 0, video to 1"
      ]
    },
    {
      "cell_type": "code",
      "execution_count": 66,
      "metadata": {
        "colab": {
          "base_uri": "https://localhost:8080/",
          "height": 178
        },
        "id": "w9q8gEBnquHG",
        "outputId": "ab94254b-84c0-468d-a77e-f93e774e99a8"
      },
      "outputs": [
        {
          "data": {
            "text/plain": [
              "type\n",
              "normal    12415\n",
              "video      3526\n",
              "Name: count, dtype: int64"
            ]
          },
          "execution_count": 66,
          "metadata": {},
          "output_type": "execute_result"
        }
      ],
      "source": [
        "df_contents['type'].value_counts()\n"
      ]
    },
    {
      "cell_type": "code",
      "execution_count": 67,
      "metadata": {
        "id": "OrDe0R4DquHH"
      },
      "outputs": [],
      "source": [
        "# Replace 'normal' with 0 and 'video' with 1 in the 'type' column\n",
        "df_contents['type'] = df_contents['type'].map({'normal': 0, 'video': 1}).astype('int8')\n",
        "\n",
        "# Change the column name 'type' to 'content_type_video'\n",
        "df_contents.rename(columns={'type': 'content_type_video'}, inplace=True)"
      ]
    },
    {
      "cell_type": "markdown",
      "metadata": {
        "id": "7MdQWpYequHH"
      },
      "source": [
        "### 7.7 [Xinbo]Replace image urls with image count"
      ]
    },
    {
      "cell_type": "code",
      "execution_count": 68,
      "metadata": {
        "id": "Xm0PdxLEquHH"
      },
      "outputs": [],
      "source": [
        "# Create a new column 'image_count' by counting the URLs in 'image_list'\n",
        "df_contents['image_count'] = df_contents['image_list'].apply(\n",
        "    lambda x: len(x.split(',')) if isinstance(x, str) and x.strip() != '' else 0\n",
        ")\n",
        "\n",
        "# Drop the original 'image_list' column\n",
        "df_contents.drop('image_list', axis=1, inplace=True)\n"
      ]
    },
    {
      "cell_type": "code",
      "execution_count": 69,
      "metadata": {
        "id": "FHtNNhdMquHH"
      },
      "outputs": [],
      "source": [
        "# Convert 'image_count' to int64\n",
        "df_contents['image_count'] = df_contents['image_count'].astype('int64')"
      ]
    },
    {
      "cell_type": "markdown",
      "metadata": {
        "id": "5jWR94UDquHH"
      },
      "source": [
        "### 7.12 [Xinbo]note的互动总数(帮助确定爆款笔记)"
      ]
    },
    {
      "cell_type": "code",
      "execution_count": 70,
      "metadata": {
        "id": "emccIuYQquHH"
      },
      "outputs": [],
      "source": [
        "df_contents['interaction_count'] = df_contents[['liked_count', 'collected_count', 'share_count']].sum(axis=1)\n"
      ]
    },
    {
      "cell_type": "markdown",
      "metadata": {
        "id": "mUPTI3wlquHH"
      },
      "source": [
        "### 5. [Ning]筛选爆款hot note"
      ]
    },
    {
      "cell_type": "code",
      "execution_count": 71,
      "metadata": {
        "id": "H1go-NKYquHI"
      },
      "outputs": [],
      "source": [
        "# A. 对于千粉级creator(粉丝数>1000):\n",
        "# \tIf a note 互动总数+分享数 > 粉丝数/10 + 50 (用当前粉丝数, 忽略粉丝成长曲线)\n",
        "# B. 对于素人级creator(1000>粉丝数):\n",
        "# \tIf a note 互动总数+分享数 > 150\n",
        "def get_hot_note(df_creator,df_contents):\n",
        "    \"\"\"\n",
        "    提取爆款笔记，并在原有完整笔记数据表中添加一列 hot_note, 用0或1标注是否为爆款笔记\n",
        "\n",
        "    Args:\n",
        "        df_creator (DataFrame): 完整用户数据.\n",
        "        df_contents (DataFrame): 完整笔记数据.\n",
        "    Return:\n",
        "        df_hot_content (DataFrame): 爆款笔记数据\n",
        "        df_contents (DataFrame): 添加后的笔记数据.\n",
        "    \"\"\"\n",
        "    merged_df = pd.merge(\n",
        "    df_creator[['user_id', 'fans']],\n",
        "    df_contents,\n",
        "    on='user_id'\n",
        "    )\n",
        "    maskA = (\n",
        "        (merged_df['fans'] >= 1000) &\n",
        "        ((merged_df['liked_count'] + merged_df['collected_count'] +\n",
        "          merged_df['comment_count'] + merged_df['share_count']) >\n",
        "         (merged_df['fans'] / 10 + 50))\n",
        "    )\n",
        "\n",
        "    maskB = (\n",
        "        (merged_df['fans'] < 1000) &\n",
        "        ((merged_df['liked_count'] + merged_df['collected_count'] +\n",
        "          merged_df['comment_count'] + merged_df['share_count']) > 150)\n",
        "    )\n",
        "\n",
        "    mask = maskA | maskB\n",
        "    hot_content = merged_df[mask]\n",
        "\n",
        "    df_contents['hot_note'] = 0\n",
        "    hot_list = hot_content['note_id'].values.tolist()\n",
        "    for i in range(len(df_contents)):\n",
        "      rows = df_contents.iloc[i]\n",
        "      note_id = rows['note_id']\n",
        "      if note_id in hot_list:\n",
        "        df_contents.loc[df_contents['note_id']==note_id,'hot_note']=1\n",
        "\n",
        "    return df_contents, hot_content\n",
        "\n",
        "# Get hot notes and add a new column to df_contents\n",
        "df_contents, df_hot_content = get_hot_note(df_creator, df_contents)"
      ]
    },
    {
      "cell_type": "markdown",
      "metadata": {
        "id": "iZM8ghVduOzr"
      },
      "source": [
        "6.28 [Ning]新加average pictures per normal note, pic_per_normal_note 以及视频笔记占比, video_ratio\\\n",
        "6.29 [Ning]新加hot note count (请参考上面高亮的 5, 分两类creator, 但需要完成content表)\\\n",
        "6.30 [Ning]新加total share counts from hot notes ratio(同上)\\\n",
        "6.31 [Ning]新加最近一次发帖到抓取时的天数(floor取整), last_note2now\\\n",
        "6.32 [Ning]新加最近一次发hot note到抓取时的天数(floor取整), last_hot_note2now"
      ]
    },
    {
      "cell_type": "code",
      "execution_count": 72,
      "metadata": {
        "colab": {
          "base_uri": "https://localhost:8080/"
        },
        "id": "fj3ZFae-uGU9",
        "outputId": "240b32fb-74a5-4967-aa83-de9ebf19e2cd"
      },
      "outputs": [
        {
          "name": "stderr",
          "output_type": "stream",
          "text": [
            "C:\\Users\\ningn\\AppData\\Local\\Temp\\ipykernel_40624\\1618437053.py:58: FutureWarning: Setting an item of incompatible dtype is deprecated and will raise an error in a future version of pandas. Value '0.558763816828333' has dtype incompatible with int64, please explicitly cast to a compatible dtype first.\n",
            "  df_creator.loc[df_creator['user_id'] == user_id, 'total_share_counts_hot_ratio'] = current_hot_content['share_count'].sum()/current_content['share_count'].sum()\n"
          ]
        }
      ],
      "source": [
        "def get_di(time):\n",
        "      days = time / 86400000\n",
        "      if days <= 25:\n",
        "        d = np.exp(-0.02773*days)\n",
        "      else:\n",
        "        d = np.exp(-0.02773*25) * np.exp(-0.00396*(days-25))\n",
        "      return d\n",
        "def timestamp_diff_to_days(t1, t2):\n",
        "    \"\"\"\n",
        "    计算毫米级时间戳的差值，并转化为天数，向下取整\n",
        "\n",
        "    Args:\n",
        "        t2 (int): 第二时间.\n",
        "        t1 (int): 第一时间.\n",
        "    Return:\n",
        "        days (int): 差值天数\n",
        "    \"\"\"\n",
        "    delta_ms = t2 - t1\n",
        "    days = delta_ms // 86400000\n",
        "    return days\n",
        "def add_columns_creator_Ning(df_creator,df_contents,hot_content):\n",
        "    \"\"\"\n",
        "    在用户数据中添加 hot_note_count, total_share_counts_hot_ratio, last_note2now, last_hot_note2now, pic_per_normal_note, video_ratio, weighted_total_share_counts\n",
        "\n",
        "    Args:\n",
        "        df_creator (DataFrame): 完整用户数据.\n",
        "        df_contents (DataFrame): 完整笔记数据.\n",
        "        hot_content (DataFrame): 爆款笔记数据.\n",
        "    Return:\n",
        "        df_creator (DataFrame): 添加完成后的用户数据\n",
        "    \"\"\"\n",
        "    df_creator['pic_per_normal_note'] = 0.0\n",
        "    df_creator['video_ratio'] = 0.0\n",
        "    df_creator['hot_note_count'] = 0\n",
        "    df_creator['total_share_counts_hot_ratio'] = 0\n",
        "    df_creator['last_note2now'] = 0\n",
        "    df_creator['last_hot_note2now'] = 0\n",
        "    for i in range(len(df_creator)):\n",
        "      num_video = 0\n",
        "      num_image = 0\n",
        "      num_share = 0\n",
        "      rows = df_creator.iloc[i]\n",
        "      user_id = rows['user_id']\n",
        "      current_hot_content = hot_content[hot_content['user_id']== user_id]\n",
        "      current_content = df_contents[df_contents['user_id']== user_id]\n",
        "      for j in range(len(current_content)):\n",
        "        rows = current_content.iloc[j]\n",
        "        num_share += rows['share_count'] * get_di(timestamp_diff_to_days(rows['time'], rows['last_modify_ts']))\n",
        "        note_type = rows['content_type_video']\n",
        "        if note_type == 1:\n",
        "          num_video += 1\n",
        "        elif note_type == 0:\n",
        "          num_image += rows['image_count']\n",
        "      df_creator.loc[df_creator['user_id'] == user_id, 'weighted_total_share_counts'] = num_share\n",
        "      df_creator.loc[df_creator['user_id'] == user_id, 'video_ratio'] = num_video/len(current_content)\n",
        "      df_creator.loc[df_creator['user_id'] == user_id, 'pic_per_normal_note'] = min(num_image/(len(current_content)-num_video),8)\n",
        "      df_creator.loc[df_creator['user_id'] == user_id, 'hot_note_count'] = len(current_hot_content)\n",
        "      df_creator.loc[df_creator['user_id'] == user_id, 'total_share_counts_hot_ratio'] = current_hot_content['share_count'].sum()/current_content['share_count'].sum()\n",
        "      time_last_note = df_contents.loc[df_contents['user_id']== user_id]['time'].max()\n",
        "      time_craw_note = df_contents.loc[(df_contents['user_id']== user_id) & (df_contents['time']== time_last_note), 'last_modify_ts'].max()\n",
        "      time_last_hot = hot_content.loc[hot_content['user_id']== user_id]['time'].max()\n",
        "      time_craw_hot = hot_content.loc[(hot_content['user_id']== user_id) & (hot_content['time']== time_last_hot), 'last_modify_ts'].max()\n",
        "      if len(current_hot_content) != 0:\n",
        "        df_creator.loc[df_creator['user_id'] == user_id, 'last_note2now'] = int(timestamp_diff_to_days(time_last_note, time_craw_note))\n",
        "        df_creator.loc[df_creator['user_id'] == user_id, 'last_hot_note2now'] = int(timestamp_diff_to_days(time_last_hot, time_craw_hot))\n",
        "    return df_creator\n",
        "df_contents, hot_content = get_hot_note(df_creator,df_contents.copy())\n",
        "df_creator = add_columns_creator_Ning(df_creator,df_contents,hot_content)"
      ]
    },
    {
      "cell_type": "markdown",
      "metadata": {
        "id": "oqNawTXRuW1a"
      },
      "source": [
        "[Ning] 维度2内容传播力以及维度5"
      ]
    },
    {
      "cell_type": "code",
      "execution_count": 73,
      "metadata": {
        "id": "Vp6b18qIuYNk"
      },
      "outputs": [],
      "source": [
        "def get_d2_score(df_creator,df_contents):\n",
        "    \"\"\"\n",
        "    计算维度二的总分并添加到用户表中\n",
        "\n",
        "    Args:\n",
        "        df_creator (DataFrame): 完整用户数据.\n",
        "        df_contents (DataFrame): 完整笔记数据.\n",
        "    Return:\n",
        "        df_creator (DataFrame): 添加维度二总分后的用户数据\n",
        "    \"\"\"\n",
        "\n",
        "    df_creator['score_2'] = 0.0\n",
        "    df_creator['score_5'] = 0.0\n",
        "    for i in range(len(df_creator)):\n",
        "      rows = df_creator.iloc[i]\n",
        "      user_id = rows['user_id']\n",
        "      price = rows.get('图文报价(RMB)',10)\n",
        "      is_price = rows.get('图文报价有对号',0)\n",
        "      level = rows.get('平台等级',3)\n",
        "      if level == '金冠薯':\n",
        "        level = 9\n",
        "      elif level == '银冠薯':\n",
        "        level = 9\n",
        "      elif level == '铜冠薯':\n",
        "        level = 8\n",
        "      elif level == '文化薯':\n",
        "        level = 7\n",
        "      elif level == '小马薯':\n",
        "        level = 6\n",
        "      elif level == '甜筒薯':\n",
        "        level = 5\n",
        "      elif level == '泡泡薯':\n",
        "        level = 4\n",
        "      else:\n",
        "        level = 3\n",
        "      if is_price != '1':\n",
        "        is_price = '0'\n",
        "        score_c = 0\n",
        "      else:score_c = 10\n",
        "      if price == 'null' or price == 'Null' or price == '找不到':\n",
        "        price = 10\n",
        "      if type(price) != str: price = 10\n",
        "      if int(price) <= 100:\n",
        "        score_a = 60\n",
        "      else: score_a = 60*np.exp(0.015*(100-int(price)))\n",
        "      if level <= 8:\n",
        "        score_b = 30*(np.log(level+1)/np.log(9))\n",
        "      else:score_b = 28.5\n",
        "\n",
        "      df_creator.loc[df_creator['user_id'] == user_id, 'score_5'] = score_a + score_b + score_c\n",
        "      score_1 = 0\n",
        "      score_2 = 0\n",
        "      score_3 = 0\n",
        "      # 1. 传播效能（50%）\n",
        "      score_1 = rows['weighted_total_share_counts']*50/np.percentile(df_creator['weighted_total_share_counts'].values.tolist(),90)\n",
        "      # 2. 爆款质量（30%）\n",
        "      first_term = rows['hot_note_count']*0.7/np.percentile(df_creator['hot_note_count'].values.tolist(),90)\n",
        "      second_term = rows['total_share_counts_hot_ratio']*0.3/np.percentile(df_creator['total_share_counts_hot_ratio'].values.tolist(),90)\n",
        "      score_2 = (first_term + second_term)*30\n",
        "      # 3. 视觉表达（20%）\n",
        "      first_term = rows['pic_per_normal_note']*0.6/8\n",
        "      second_term = rows['video_ratio']*0.4/np.percentile(df_creator['video_ratio'].values.tolist(),90)\n",
        "      score_3 = (first_term + second_term)*20\n",
        "      df_creator.loc[df_creator['user_id'] == user_id, 'score_2'] = score_1 + score_2 + score_3\n",
        "    return df_creator\n",
        "df_creator = get_d2_score(df_creator,df_contents)"
      ]
    },
    {
      "cell_type": "markdown",
      "metadata": {
        "id": "QIgJOC-TquHI"
      },
      "source": [
        "### 7.13 [Yucheng]笔记在EDA图的时间戳可以设定为Time和last_update_time的一个函数。提取时间戳中的 年月日、小时、星期几、是否节假日 等特征"
      ]
    },
    {
      "cell_type": "code",
      "execution_count": 75,
      "metadata": {
        "colab": {
          "base_uri": "https://localhost:8080/",
          "height": 112
        },
        "id": "_5y8DerNL41O",
        "outputId": "c616d8cf-0f70-49be-fec9-0b7ea6f8e3c8"
      },
      "outputs": [
        {
          "data": {
            "text/html": [
              "<div>\n",
              "<style scoped>\n",
              "    .dataframe tbody tr th:only-of-type {\n",
              "        vertical-align: middle;\n",
              "    }\n",
              "\n",
              "    .dataframe tbody tr th {\n",
              "        vertical-align: top;\n",
              "    }\n",
              "\n",
              "    .dataframe thead th {\n",
              "        text-align: right;\n",
              "    }\n",
              "</style>\n",
              "<table border=\"1\" class=\"dataframe\">\n",
              "  <thead>\n",
              "    <tr style=\"text-align: right;\">\n",
              "      <th></th>\n",
              "      <th>post_time</th>\n",
              "      <th>extract_ts</th>\n",
              "      <th>last_update_time</th>\n",
              "      <th>year</th>\n",
              "      <th>month</th>\n",
              "      <th>dayofweek</th>\n",
              "      <th>is_weekend</th>\n",
              "      <th>hour</th>\n",
              "    </tr>\n",
              "  </thead>\n",
              "  <tbody>\n",
              "    <tr>\n",
              "      <th>0</th>\n",
              "      <td>2025-03-12 00:32:05</td>\n",
              "      <td>2025-03-12 00:55:08.175</td>\n",
              "      <td>2025-03-12 00:32:06</td>\n",
              "      <td>2025</td>\n",
              "      <td>3</td>\n",
              "      <td>2</td>\n",
              "      <td>0</td>\n",
              "      <td>0</td>\n",
              "    </tr>\n",
              "    <tr>\n",
              "      <th>1</th>\n",
              "      <td>2025-03-05 18:21:03</td>\n",
              "      <td>2025-03-12 00:55:08.248</td>\n",
              "      <td>2025-03-05 18:21:04</td>\n",
              "      <td>2025</td>\n",
              "      <td>3</td>\n",
              "      <td>2</td>\n",
              "      <td>0</td>\n",
              "      <td>18</td>\n",
              "    </tr>\n",
              "  </tbody>\n",
              "</table>\n",
              "</div>"
            ],
            "text/plain": [
              "            post_time              extract_ts    last_update_time  year  \\\n",
              "0 2025-03-12 00:32:05 2025-03-12 00:55:08.175 2025-03-12 00:32:06  2025   \n",
              "1 2025-03-05 18:21:03 2025-03-12 00:55:08.248 2025-03-05 18:21:04  2025   \n",
              "\n",
              "   month  dayofweek  is_weekend  hour  \n",
              "0      3          2           0     0  \n",
              "1      3          2           0    18  "
            ]
          },
          "execution_count": 75,
          "metadata": {},
          "output_type": "execute_result"
        }
      ],
      "source": [
        "def clean_and_extract_time_features(df_contents):\n",
        "\n",
        "    \"\"\"\n",
        "    统一原始时间字段格式，并添加基于发帖时间的时间特征。\n",
        "\n",
        "    重命名字段（并统一为 datetime）：\n",
        "        - time（发帖时间）：转换为 datetime\n",
        "        - last_modify_ts → extract_ts（抓取时间）：转换并改名\n",
        "        - last_update_time：已是 datetime 格式，做标准化\n",
        "\n",
        "    新增字段（基于 time 提取）：\n",
        "        - year\n",
        "        - month\n",
        "        - dayofweek\n",
        "        - is_weekend\n",
        "        - hour\n",
        "    \"\"\"\n",
        "\n",
        "    # 转换并重命名 last_modify_ts 为 extract_ts\n",
        "    df_contents['extract_ts'] = pd.to_datetime(df_contents['last_modify_ts'], unit='ms')\n",
        "    df_contents.drop(columns=['last_modify_ts'], inplace=True)\n",
        "\n",
        "    # 转换其他时间字段\n",
        "    df_contents['time'] = pd.to_datetime(df_contents['time'], unit='ms')\n",
        "    df_contents['last_update_time'] = pd.to_datetime(df_contents['last_update_time'])\n",
        "\n",
        "    # 提取时间特征（基于发帖时间）\n",
        "    df_contents['year'] = df_contents['time'].dt.year\n",
        "    df_contents['month'] = df_contents['time'].dt.month\n",
        "    df_contents['dayofweek'] = df_contents['time'].dt.dayofweek  # 0 = Monday\n",
        "    df_contents['is_weekend'] = df_contents['dayofweek'].isin([5, 6]).astype(int)\n",
        "    df_contents['hour'] = df_contents['time'].dt.hour\n",
        "\n",
        "    # rename 'time' to 'post_time'\n",
        "    df_contents.rename(columns={'time': 'post_time'}, inplace=True)\n",
        "\n",
        "\n",
        "    return df_contents\n",
        "\n",
        "df_contents = clean_and_extract_time_features(df_contents)\n",
        "\n",
        "# 快速预览时间和提取结果\n",
        "df_contents[['post_time', 'extract_ts', 'last_update_time', 'year', 'month', 'dayofweek', 'is_weekend', 'hour']].head(2)"
      ]
    },
    {
      "cell_type": "markdown",
      "metadata": {
        "id": "AbULV0FZUEI2"
      },
      "source": [
        "### 把df_conents 存为contents_cooked, 以后直接使用这个, 不要继续用哪个df_conents"
      ]
    },
    {
      "cell_type": "code",
      "execution_count": 76,
      "metadata": {
        "colab": {
          "base_uri": "https://localhost:8080/",
          "height": 263
        },
        "id": "6dav52d5Kyzk",
        "outputId": "ae44d8a0-1978-46ff-b182-7f283a05be68"
      },
      "outputs": [],
      "source": [
        "# save df_contents to contents_cooked.json\n",
        "if RUN_ENV == 'COLAB':\n",
        "    # Save the DataFrame exclude the columns ['year', 'month', 'dayofweek', 'is_weekend', 'hour'] to a JSON file in Google Colab\n",
        "    df_contents.drop(columns=['year', 'month', 'dayofweek', 'is_weekend', 'hour']).to_json(r'/content/contents_cooked.json', orient='records',force_ascii=False)\n",
        "elif RUN_ENV == 'PC':\n",
        "    # Save the DataFrame exclude the columns ['year', 'month', 'dayofweek', 'is_weekend', 'hour'] to a JSON file on your local machine\n",
        "    df_contents.drop(columns=['year', 'month', 'dayofweek', 'is_weekend', 'hour']).to_json(r'..\\Data\\processed\\contents_cooked.json', orient='records',force_ascii=False)"
      ]
    },
    {
      "cell_type": "markdown",
      "metadata": {
        "id": "Xb5yO5-IquHJ"
      },
      "source": [
        "# 3 Treat the df_creator table"
      ]
    },
    {
      "cell_type": "markdown",
      "metadata": {
        "id": "oXStAcn66dfj"
      },
      "source": [
        "## 6.6 - 6.10 Add Interaction Counts\n",
        "Refine Creator (add sums)\n",
        "- 6.6 Get the total amount of `liked`\n",
        "- 6.7 Get the total amount of `collected`\n",
        "- 6.8 Get the total amount of `comment`\n",
        "- 6.9 Get the total amount of `shared`\n",
        "- 6.10 Get the total number of posts as `note_count`\n",
        "- The data type of added columns are set to integer"
      ]
    },
    {
      "cell_type": "code",
      "execution_count": 77,
      "metadata": {
        "colab": {
          "base_uri": "https://localhost:8080/",
          "height": 211
        },
        "id": "sjBZ3-tKT1qn",
        "outputId": "ea18d216-3d2c-4e6e-fb86-510a25e44a55"
      },
      "outputs": [],
      "source": [
        "# Ensure numeric columns in the content df are in the proper format\n",
        "for col in ['liked_count', 'collected_count', 'comment_count', 'share_count']:\n",
        "    df_contents[col] = pd.to_numeric(df_contents[col], errors='coerce')\n",
        "\n",
        "# Group content df by user_id and sum the counts\n",
        "agg_counts = df_contents.groupby('user_id')[['liked_count', 'collected_count', 'comment_count', 'share_count']].sum().reset_index()\n",
        "\n",
        "# Merge the aggregated counts into the creator df by aligning on user_id\n",
        "df_creator = pd.merge(df_creator, agg_counts, on='user_id', how='left')\n",
        "# Convert the data type to integer\n",
        "for col in ['liked_count', 'collected_count', 'comment_count', 'share_count']:\n",
        "    df_creator[col] = df_creator[col].convert_dtypes()\n"
      ]
    },
    {
      "cell_type": "code",
      "execution_count": 78,
      "metadata": {
        "id": "V3pxWXfkyKcu"
      },
      "outputs": [],
      "source": [
        "note_counts = df_contents.groupby(\"user_id\")[\"note_id\"].count().reset_index(name=\"note_count\")\n",
        "df_creator = pd.merge(df_creator, note_counts, on=\"user_id\", how=\"left\")\n",
        "df_creator[\"note_count\"] = df_creator[\"note_count\"].fillna(0).astype(int)"
      ]
    },
    {
      "cell_type": "code",
      "execution_count": null,
      "metadata": {
        "colab": {
          "base_uri": "https://localhost:8080/",
          "height": 387
        },
        "id": "5x7T75hoPQT1",
        "outputId": "46cd058d-d241-4b5f-c632-dabbf3ab1ba6"
      },
      "outputs": [
        {
          "data": {
            "application/vnd.google.colaboratory.intrinsic+json": {
              "type": "dataframe",
              "variable_name": "df_creator"
            },
            "text/html": [
              "\n",
              "  <div id=\"df-cc43610e-a5c9-4748-9849-4bddbfc43079\" class=\"colab-df-container\">\n",
              "    <div>\n",
              "<style scoped>\n",
              "    .dataframe tbody tr th:only-of-type {\n",
              "        vertical-align: middle;\n",
              "    }\n",
              "\n",
              "    .dataframe tbody tr th {\n",
              "        vertical-align: top;\n",
              "    }\n",
              "\n",
              "    .dataframe thead th {\n",
              "        text-align: right;\n",
              "    }\n",
              "</style>\n",
              "<table border=\"1\" class=\"dataframe\">\n",
              "  <thead>\n",
              "    <tr style=\"text-align: right;\">\n",
              "      <th></th>\n",
              "      <th>user_id</th>\n",
              "      <th>nickname</th>\n",
              "      <th>gender</th>\n",
              "      <th>avatar</th>\n",
              "      <th>desc</th>\n",
              "      <th>ip_location</th>\n",
              "      <th>follows</th>\n",
              "      <th>fans</th>\n",
              "      <th>interaction</th>\n",
              "      <th>tag_list</th>\n",
              "      <th>...</th>\n",
              "      <th>total_share_counts_hot_ratio</th>\n",
              "      <th>last_note2now</th>\n",
              "      <th>last_hot_note2now</th>\n",
              "      <th>weighted_total_share_counts</th>\n",
              "      <th>score_2</th>\n",
              "      <th>liked_count</th>\n",
              "      <th>collected_count</th>\n",
              "      <th>comment_count</th>\n",
              "      <th>share_count</th>\n",
              "      <th>note_count</th>\n",
              "    </tr>\n",
              "  </thead>\n",
              "  <tbody>\n",
              "    <tr>\n",
              "      <th>0</th>\n",
              "      <td>576d3bde82ec3952ff40c5e1</td>\n",
              "      <td>达拉斯小鸡腿</td>\n",
              "      <td>女</td>\n",
              "      <td>https://sns-avatar-qc.xhscdn.com/avatar/61df4c...</td>\n",
              "      <td>慢慢了解世界，慢慢更新自己\\n吃喝玩乐+宝宝们，随心分享\\n佛系更新中～比心🫰</td>\n",
              "      <td>美国</td>\n",
              "      <td>837</td>\n",
              "      <td>1653</td>\n",
              "      <td>11636</td>\n",
              "      <td>{\"info\": null, \"location\": \"美国\", \"profession\":...</td>\n",
              "      <td>...</td>\n",
              "      <td>0.558764</td>\n",
              "      <td>0</td>\n",
              "      <td>22</td>\n",
              "      <td>4432.999131</td>\n",
              "      <td>79.581669</td>\n",
              "      <td>6443</td>\n",
              "      <td>4951</td>\n",
              "      <td>2847</td>\n",
              "      <td>4433</td>\n",
              "      <td>146</td>\n",
              "    </tr>\n",
              "    <tr>\n",
              "      <th>1</th>\n",
              "      <td>58b325ce50c4b442ae017a30</td>\n",
              "      <td>小温柔Sylvia</td>\n",
              "      <td>女</td>\n",
              "      <td>https://sns-avatar-qc.xhscdn.com/avatar/1040g2...</td>\n",
              "      <td>北京🇨🇳→ 达拉斯🇺🇸\\n163cm ♋巨蟹座 乐观开朗 \\nIG: sylviviishe...</td>\n",
              "      <td>美国</td>\n",
              "      <td>961</td>\n",
              "      <td>304</td>\n",
              "      <td>10699</td>\n",
              "      <td>{\"info\": null, \"location\": \"北京海淀\"}</td>\n",
              "      <td>...</td>\n",
              "      <td>0.809131</td>\n",
              "      <td>5</td>\n",
              "      <td>5</td>\n",
              "      <td>1817.999749</td>\n",
              "      <td>47.761860</td>\n",
              "      <td>7290</td>\n",
              "      <td>3354</td>\n",
              "      <td>1713</td>\n",
              "      <td>1818</td>\n",
              "      <td>142</td>\n",
              "    </tr>\n",
              "  </tbody>\n",
              "</table>\n",
              "<p>2 rows × 24 columns</p>\n",
              "</div>\n",
              "    <div class=\"colab-df-buttons\">\n",
              "\n",
              "  <div class=\"colab-df-container\">\n",
              "    <button class=\"colab-df-convert\" onclick=\"convertToInteractive('df-cc43610e-a5c9-4748-9849-4bddbfc43079')\"\n",
              "            title=\"Convert this dataframe to an interactive table.\"\n",
              "            style=\"display:none;\">\n",
              "\n",
              "  <svg xmlns=\"http://www.w3.org/2000/svg\" height=\"24px\" viewBox=\"0 -960 960 960\">\n",
              "    <path d=\"M120-120v-720h720v720H120Zm60-500h600v-160H180v160Zm220 220h160v-160H400v160Zm0 220h160v-160H400v160ZM180-400h160v-160H180v160Zm440 0h160v-160H620v160ZM180-180h160v-160H180v160Zm440 0h160v-160H620v160Z\"/>\n",
              "  </svg>\n",
              "    </button>\n",
              "\n",
              "  <style>\n",
              "    .colab-df-container {\n",
              "      display:flex;\n",
              "      gap: 12px;\n",
              "    }\n",
              "\n",
              "    .colab-df-convert {\n",
              "      background-color: #E8F0FE;\n",
              "      border: none;\n",
              "      border-radius: 50%;\n",
              "      cursor: pointer;\n",
              "      display: none;\n",
              "      fill: #1967D2;\n",
              "      height: 32px;\n",
              "      padding: 0 0 0 0;\n",
              "      width: 32px;\n",
              "    }\n",
              "\n",
              "    .colab-df-convert:hover {\n",
              "      background-color: #E2EBFA;\n",
              "      box-shadow: 0px 1px 2px rgba(60, 64, 67, 0.3), 0px 1px 3px 1px rgba(60, 64, 67, 0.15);\n",
              "      fill: #174EA6;\n",
              "    }\n",
              "\n",
              "    .colab-df-buttons div {\n",
              "      margin-bottom: 4px;\n",
              "    }\n",
              "\n",
              "    [theme=dark] .colab-df-convert {\n",
              "      background-color: #3B4455;\n",
              "      fill: #D2E3FC;\n",
              "    }\n",
              "\n",
              "    [theme=dark] .colab-df-convert:hover {\n",
              "      background-color: #434B5C;\n",
              "      box-shadow: 0px 1px 3px 1px rgba(0, 0, 0, 0.15);\n",
              "      filter: drop-shadow(0px 1px 2px rgba(0, 0, 0, 0.3));\n",
              "      fill: #FFFFFF;\n",
              "    }\n",
              "  </style>\n",
              "\n",
              "    <script>\n",
              "      const buttonEl =\n",
              "        document.querySelector('#df-cc43610e-a5c9-4748-9849-4bddbfc43079 button.colab-df-convert');\n",
              "      buttonEl.style.display =\n",
              "        google.colab.kernel.accessAllowed ? 'block' : 'none';\n",
              "\n",
              "      async function convertToInteractive(key) {\n",
              "        const element = document.querySelector('#df-cc43610e-a5c9-4748-9849-4bddbfc43079');\n",
              "        const dataTable =\n",
              "          await google.colab.kernel.invokeFunction('convertToInteractive',\n",
              "                                                    [key], {});\n",
              "        if (!dataTable) return;\n",
              "\n",
              "        const docLinkHtml = 'Like what you see? Visit the ' +\n",
              "          '<a target=\"_blank\" href=https://colab.research.google.com/notebooks/data_table.ipynb>data table notebook</a>'\n",
              "          + ' to learn more about interactive tables.';\n",
              "        element.innerHTML = '';\n",
              "        dataTable['output_type'] = 'display_data';\n",
              "        await google.colab.output.renderOutput(dataTable, element);\n",
              "        const docLink = document.createElement('div');\n",
              "        docLink.innerHTML = docLinkHtml;\n",
              "        element.appendChild(docLink);\n",
              "      }\n",
              "    </script>\n",
              "  </div>\n",
              "\n",
              "\n",
              "<div id=\"df-ac26bf2a-eb33-4204-abdd-185c0aae6085\">\n",
              "  <button class=\"colab-df-quickchart\" onclick=\"quickchart('df-ac26bf2a-eb33-4204-abdd-185c0aae6085')\"\n",
              "            title=\"Suggest charts\"\n",
              "            style=\"display:none;\">\n",
              "\n",
              "<svg xmlns=\"http://www.w3.org/2000/svg\" height=\"24px\"viewBox=\"0 0 24 24\"\n",
              "     width=\"24px\">\n",
              "    <g>\n",
              "        <path d=\"M19 3H5c-1.1 0-2 .9-2 2v14c0 1.1.9 2 2 2h14c1.1 0 2-.9 2-2V5c0-1.1-.9-2-2-2zM9 17H7v-7h2v7zm4 0h-2V7h2v10zm4 0h-2v-4h2v4z\"/>\n",
              "    </g>\n",
              "</svg>\n",
              "  </button>\n",
              "\n",
              "<style>\n",
              "  .colab-df-quickchart {\n",
              "      --bg-color: #E8F0FE;\n",
              "      --fill-color: #1967D2;\n",
              "      --hover-bg-color: #E2EBFA;\n",
              "      --hover-fill-color: #174EA6;\n",
              "      --disabled-fill-color: #AAA;\n",
              "      --disabled-bg-color: #DDD;\n",
              "  }\n",
              "\n",
              "  [theme=dark] .colab-df-quickchart {\n",
              "      --bg-color: #3B4455;\n",
              "      --fill-color: #D2E3FC;\n",
              "      --hover-bg-color: #434B5C;\n",
              "      --hover-fill-color: #FFFFFF;\n",
              "      --disabled-bg-color: #3B4455;\n",
              "      --disabled-fill-color: #666;\n",
              "  }\n",
              "\n",
              "  .colab-df-quickchart {\n",
              "    background-color: var(--bg-color);\n",
              "    border: none;\n",
              "    border-radius: 50%;\n",
              "    cursor: pointer;\n",
              "    display: none;\n",
              "    fill: var(--fill-color);\n",
              "    height: 32px;\n",
              "    padding: 0;\n",
              "    width: 32px;\n",
              "  }\n",
              "\n",
              "  .colab-df-quickchart:hover {\n",
              "    background-color: var(--hover-bg-color);\n",
              "    box-shadow: 0 1px 2px rgba(60, 64, 67, 0.3), 0 1px 3px 1px rgba(60, 64, 67, 0.15);\n",
              "    fill: var(--button-hover-fill-color);\n",
              "  }\n",
              "\n",
              "  .colab-df-quickchart-complete:disabled,\n",
              "  .colab-df-quickchart-complete:disabled:hover {\n",
              "    background-color: var(--disabled-bg-color);\n",
              "    fill: var(--disabled-fill-color);\n",
              "    box-shadow: none;\n",
              "  }\n",
              "\n",
              "  .colab-df-spinner {\n",
              "    border: 2px solid var(--fill-color);\n",
              "    border-color: transparent;\n",
              "    border-bottom-color: var(--fill-color);\n",
              "    animation:\n",
              "      spin 1s steps(1) infinite;\n",
              "  }\n",
              "\n",
              "  @keyframes spin {\n",
              "    0% {\n",
              "      border-color: transparent;\n",
              "      border-bottom-color: var(--fill-color);\n",
              "      border-left-color: var(--fill-color);\n",
              "    }\n",
              "    20% {\n",
              "      border-color: transparent;\n",
              "      border-left-color: var(--fill-color);\n",
              "      border-top-color: var(--fill-color);\n",
              "    }\n",
              "    30% {\n",
              "      border-color: transparent;\n",
              "      border-left-color: var(--fill-color);\n",
              "      border-top-color: var(--fill-color);\n",
              "      border-right-color: var(--fill-color);\n",
              "    }\n",
              "    40% {\n",
              "      border-color: transparent;\n",
              "      border-right-color: var(--fill-color);\n",
              "      border-top-color: var(--fill-color);\n",
              "    }\n",
              "    60% {\n",
              "      border-color: transparent;\n",
              "      border-right-color: var(--fill-color);\n",
              "    }\n",
              "    80% {\n",
              "      border-color: transparent;\n",
              "      border-right-color: var(--fill-color);\n",
              "      border-bottom-color: var(--fill-color);\n",
              "    }\n",
              "    90% {\n",
              "      border-color: transparent;\n",
              "      border-bottom-color: var(--fill-color);\n",
              "    }\n",
              "  }\n",
              "</style>\n",
              "\n",
              "  <script>\n",
              "    async function quickchart(key) {\n",
              "      const quickchartButtonEl =\n",
              "        document.querySelector('#' + key + ' button');\n",
              "      quickchartButtonEl.disabled = true;  // To prevent multiple clicks.\n",
              "      quickchartButtonEl.classList.add('colab-df-spinner');\n",
              "      try {\n",
              "        const charts = await google.colab.kernel.invokeFunction(\n",
              "            'suggestCharts', [key], {});\n",
              "      } catch (error) {\n",
              "        console.error('Error during call to suggestCharts:', error);\n",
              "      }\n",
              "      quickchartButtonEl.classList.remove('colab-df-spinner');\n",
              "      quickchartButtonEl.classList.add('colab-df-quickchart-complete');\n",
              "    }\n",
              "    (() => {\n",
              "      let quickchartButtonEl =\n",
              "        document.querySelector('#df-ac26bf2a-eb33-4204-abdd-185c0aae6085 button');\n",
              "      quickchartButtonEl.style.display =\n",
              "        google.colab.kernel.accessAllowed ? 'block' : 'none';\n",
              "    })();\n",
              "  </script>\n",
              "</div>\n",
              "\n",
              "    </div>\n",
              "  </div>\n"
            ],
            "text/plain": [
              "                    user_id   nickname gender  \\\n",
              "0  576d3bde82ec3952ff40c5e1     达拉斯小鸡腿      女   \n",
              "1  58b325ce50c4b442ae017a30  小温柔Sylvia      女   \n",
              "\n",
              "                                              avatar  \\\n",
              "0  https://sns-avatar-qc.xhscdn.com/avatar/61df4c...   \n",
              "1  https://sns-avatar-qc.xhscdn.com/avatar/1040g2...   \n",
              "\n",
              "                                                desc ip_location  follows  \\\n",
              "0            慢慢了解世界，慢慢更新自己\\n吃喝玩乐+宝宝们，随心分享\\n佛系更新中～比心🫰          美国      837   \n",
              "1  北京🇨🇳→ 达拉斯🇺🇸\\n163cm ♋巨蟹座 乐观开朗 \\nIG: sylviviishe...          美国      961   \n",
              "\n",
              "   fans  interaction                                           tag_list  ...  \\\n",
              "0  1653        11636  {\"info\": null, \"location\": \"美国\", \"profession\":...  ...   \n",
              "1   304        10699                 {\"info\": null, \"location\": \"北京海淀\"}  ...   \n",
              "\n",
              "   total_share_counts_hot_ratio  last_note2now  last_hot_note2now  \\\n",
              "0                      0.558764              0                 22   \n",
              "1                      0.809131              5                  5   \n",
              "\n",
              "   weighted_total_share_counts    score_2  liked_count  collected_count  \\\n",
              "0                  4432.999131  79.581669         6443             4951   \n",
              "1                  1817.999749  47.761860         7290             3354   \n",
              "\n",
              "   comment_count  share_count  note_count  \n",
              "0           2847         4433         146  \n",
              "1           1713         1818         142  \n",
              "\n",
              "[2 rows x 24 columns]"
            ]
          },
          "execution_count": 45,
          "metadata": {},
          "output_type": "execute_result"
        }
      ],
      "source": [
        "df_creator.head(2)"
      ]
    },
    {
      "cell_type": "markdown",
      "metadata": {
        "id": "bI9AHYod_Aow"
      },
      "source": [
        "## Processing Tag list\n",
        "There are four different categories in tag lists: info, location, profession and college.\n",
        "\n",
        "Processing tag lists as\n",
        "- Creating a columns as `zodiac` for 星座 。\n",
        "- Note that there are 5 missing values in the `ip_location` column where the `location` column is not missing. I plan to use the `location` data to impute these missing `ip_location` values. Additionally, there are 22 cases where `ip_location` and `location` do not match (among the non-missing location entries), which include typos, missing values, and additional details present in the `location` field. (For detailed location info, we still need to discuss how to deal with it.)\n",
        "- For `college`, `prefession`and `age`, there are only few KOC having this information, so I append it behind `desc` connected by '|'."
      ]
    },
    {
      "cell_type": "code",
      "execution_count": 79,
      "metadata": {
        "colab": {
          "base_uri": "https://localhost:8080/"
        },
        "id": "i9l_A12nnsq9",
        "outputId": "65b992a7-a660-46be-8b70-a46b570307ef"
      },
      "outputs": [
        {
          "name": "stdout",
          "output_type": "stream",
          "text": [
            "Missing Values Counts:\n",
            "zodiac        74\n",
            "age           90\n",
            "profession    73\n",
            "college       94\n",
            "dtype: int64\n",
            "\n",
            "Rows with unknown zodiac:\n",
            "    zodiac      age profession  college\n",
            "0  unknown  unknown       探店博主  unknown\n",
            "1  unknown  unknown    unknown  unknown\n",
            "2  unknown      35岁    unknown  unknown\n",
            "3  unknown  unknown       美食博主  unknown\n",
            "4  unknown  unknown    unknown  unknown\n"
          ]
        }
      ],
      "source": [
        "import json\n",
        "import pandas as pd\n",
        "\n",
        "def extract_features(row):\n",
        "    # Set default values when a field is missing\n",
        "    zodiac = 'unknown'\n",
        "    age = 'unknown'\n",
        "    profession = 'unknown'\n",
        "    college = 'unknown'\n",
        "\n",
        "    try:\n",
        "        tag_dict = json.loads(row['tag_list'])\n",
        "    except Exception:\n",
        "        # If tag_list is not valid JSON, return defaults.\n",
        "        return pd.Series([zodiac, age, profession, college])\n",
        "\n",
        "    # Process the 'info' field for zodiac and age.\n",
        "    info = tag_dict.get('info')\n",
        "    if info and isinstance(info, str):\n",
        "        if '座' in info:\n",
        "            zodiac = info  # if '座' is present, assume this is the zodiac info.\n",
        "        if '岁' in info:\n",
        "            age = info     # if '岁' is present, assume this is the age info.\n",
        "\n",
        "    # Process 'profession'\n",
        "    if tag_dict.get('profession'):\n",
        "        profession = tag_dict.get('profession')\n",
        "\n",
        "    # Process 'college'\n",
        "    if tag_dict.get('college'):\n",
        "        college = tag_dict.get('college')\n",
        "\n",
        "    return pd.Series([zodiac, age, profession, college])\n",
        "\n",
        "# Apply the extraction function to create a temporary DataFrame of extracted features.\n",
        "extracted_features = df_creator.apply(extract_features, axis=1)\n",
        "extracted_features.columns = ['zodiac', 'age', 'profession', 'college']\n",
        "\n",
        "# Check how many rows have 'unknown' for each feature.\n",
        "missing_counts = extracted_features.eq('unknown').sum()\n",
        "print(\"Missing Values Counts:\")\n",
        "print(missing_counts)\n",
        "\n",
        "# Optionally, inspect a few rows with missing zodiac information.\n",
        "print(\"\\nRows with unknown zodiac:\")\n",
        "print(extracted_features[extracted_features['zodiac'] == 'unknown'].head())\n"
      ]
    },
    {
      "cell_type": "code",
      "execution_count": 80,
      "metadata": {
        "id": "oOVeDmPQntzm"
      },
      "outputs": [],
      "source": [
        "def append_tags_to_desc(row):\n",
        "    original_desc = row['desc']\n",
        "\n",
        "    # Default values when a field is missing\n",
        "    zodiac = 'unknown'\n",
        "    age = 'unknown'\n",
        "    profession = 'unknown'\n",
        "    college = 'unknown'\n",
        "\n",
        "    try:\n",
        "        tag_dict = json.loads(row['tag_list'])\n",
        "    except Exception:\n",
        "        # If tag_list is not valid JSON, append unknown for all.\n",
        "        appended = f\"Zodiac: {zodiac} | Age: {age} | Profession: {profession} | College: {college}\"\n",
        "        return original_desc + \" | \" + appended\n",
        "\n",
        "    # Process the 'info' field for zodiac and age.\n",
        "    info = tag_dict.get('info')\n",
        "    if info and isinstance(info, str):\n",
        "        if '座' in info:\n",
        "            zodiac = info\n",
        "        if '岁' in info:\n",
        "            age = info\n",
        "\n",
        "    # Process 'profession'\n",
        "    if tag_dict.get('profession'):\n",
        "        profession = tag_dict.get('profession')\n",
        "\n",
        "    # Process 'college'\n",
        "    if tag_dict.get('college'):\n",
        "        college = tag_dict.get('college')\n",
        "\n",
        "    appended = f\"Zodiac: {zodiac} | Age: {age} | Profession: {profession} | College: {college}\"\n",
        "    return original_desc + \" | \" + appended\n",
        "\n",
        "# Update the 'desc' column in df_creator by applying the function row-wise.\n",
        "df_creator['desc'] = df_creator.apply(append_tags_to_desc, axis=1)"
      ]
    },
    {
      "cell_type": "code",
      "execution_count": null,
      "metadata": {
        "colab": {
          "base_uri": "https://localhost:8080/",
          "height": 404
        },
        "id": "CS3ETPc2nx3s",
        "outputId": "dd1dd992-369c-4a32-c7ee-bea3748b02da"
      },
      "outputs": [
        {
          "data": {
            "application/vnd.google.colaboratory.intrinsic+json": {
              "type": "dataframe",
              "variable_name": "df_creator"
            },
            "text/html": [
              "\n",
              "  <div id=\"df-350e1ca4-4485-4238-81c3-79354cb60409\" class=\"colab-df-container\">\n",
              "    <div>\n",
              "<style scoped>\n",
              "    .dataframe tbody tr th:only-of-type {\n",
              "        vertical-align: middle;\n",
              "    }\n",
              "\n",
              "    .dataframe tbody tr th {\n",
              "        vertical-align: top;\n",
              "    }\n",
              "\n",
              "    .dataframe thead th {\n",
              "        text-align: right;\n",
              "    }\n",
              "</style>\n",
              "<table border=\"1\" class=\"dataframe\">\n",
              "  <thead>\n",
              "    <tr style=\"text-align: right;\">\n",
              "      <th></th>\n",
              "      <th>user_id</th>\n",
              "      <th>nickname</th>\n",
              "      <th>gender</th>\n",
              "      <th>avatar</th>\n",
              "      <th>desc</th>\n",
              "      <th>ip_location</th>\n",
              "      <th>follows</th>\n",
              "      <th>fans</th>\n",
              "      <th>interaction</th>\n",
              "      <th>tag_list</th>\n",
              "      <th>...</th>\n",
              "      <th>total_share_counts_hot_ratio</th>\n",
              "      <th>last_note2now</th>\n",
              "      <th>last_hot_note2now</th>\n",
              "      <th>weighted_total_share_counts</th>\n",
              "      <th>score_2</th>\n",
              "      <th>liked_count</th>\n",
              "      <th>collected_count</th>\n",
              "      <th>comment_count</th>\n",
              "      <th>share_count</th>\n",
              "      <th>note_count</th>\n",
              "    </tr>\n",
              "  </thead>\n",
              "  <tbody>\n",
              "    <tr>\n",
              "      <th>0</th>\n",
              "      <td>576d3bde82ec3952ff40c5e1</td>\n",
              "      <td>达拉斯小鸡腿</td>\n",
              "      <td>女</td>\n",
              "      <td>https://sns-avatar-qc.xhscdn.com/avatar/61df4c...</td>\n",
              "      <td>慢慢了解世界，慢慢更新自己\\n吃喝玩乐+宝宝们，随心分享\\n佛系更新中～比心🫰 | Zodi...</td>\n",
              "      <td>美国</td>\n",
              "      <td>837</td>\n",
              "      <td>1653</td>\n",
              "      <td>11636</td>\n",
              "      <td>{\"info\": null, \"location\": \"美国\", \"profession\":...</td>\n",
              "      <td>...</td>\n",
              "      <td>0.558764</td>\n",
              "      <td>0</td>\n",
              "      <td>22</td>\n",
              "      <td>4432.999131</td>\n",
              "      <td>79.581669</td>\n",
              "      <td>6443</td>\n",
              "      <td>4951</td>\n",
              "      <td>2847</td>\n",
              "      <td>4433</td>\n",
              "      <td>146</td>\n",
              "    </tr>\n",
              "    <tr>\n",
              "      <th>1</th>\n",
              "      <td>58b325ce50c4b442ae017a30</td>\n",
              "      <td>小温柔Sylvia</td>\n",
              "      <td>女</td>\n",
              "      <td>https://sns-avatar-qc.xhscdn.com/avatar/1040g2...</td>\n",
              "      <td>北京🇨🇳→ 达拉斯🇺🇸\\n163cm ♋巨蟹座 乐观开朗 \\nIG: sylviviishe...</td>\n",
              "      <td>美国</td>\n",
              "      <td>961</td>\n",
              "      <td>304</td>\n",
              "      <td>10699</td>\n",
              "      <td>{\"info\": null, \"location\": \"北京海淀\"}</td>\n",
              "      <td>...</td>\n",
              "      <td>0.809131</td>\n",
              "      <td>5</td>\n",
              "      <td>5</td>\n",
              "      <td>1817.999749</td>\n",
              "      <td>47.761860</td>\n",
              "      <td>7290</td>\n",
              "      <td>3354</td>\n",
              "      <td>1713</td>\n",
              "      <td>1818</td>\n",
              "      <td>142</td>\n",
              "    </tr>\n",
              "  </tbody>\n",
              "</table>\n",
              "<p>2 rows × 24 columns</p>\n",
              "</div>\n",
              "    <div class=\"colab-df-buttons\">\n",
              "\n",
              "  <div class=\"colab-df-container\">\n",
              "    <button class=\"colab-df-convert\" onclick=\"convertToInteractive('df-350e1ca4-4485-4238-81c3-79354cb60409')\"\n",
              "            title=\"Convert this dataframe to an interactive table.\"\n",
              "            style=\"display:none;\">\n",
              "\n",
              "  <svg xmlns=\"http://www.w3.org/2000/svg\" height=\"24px\" viewBox=\"0 -960 960 960\">\n",
              "    <path d=\"M120-120v-720h720v720H120Zm60-500h600v-160H180v160Zm220 220h160v-160H400v160Zm0 220h160v-160H400v160ZM180-400h160v-160H180v160Zm440 0h160v-160H620v160ZM180-180h160v-160H180v160Zm440 0h160v-160H620v160Z\"/>\n",
              "  </svg>\n",
              "    </button>\n",
              "\n",
              "  <style>\n",
              "    .colab-df-container {\n",
              "      display:flex;\n",
              "      gap: 12px;\n",
              "    }\n",
              "\n",
              "    .colab-df-convert {\n",
              "      background-color: #E8F0FE;\n",
              "      border: none;\n",
              "      border-radius: 50%;\n",
              "      cursor: pointer;\n",
              "      display: none;\n",
              "      fill: #1967D2;\n",
              "      height: 32px;\n",
              "      padding: 0 0 0 0;\n",
              "      width: 32px;\n",
              "    }\n",
              "\n",
              "    .colab-df-convert:hover {\n",
              "      background-color: #E2EBFA;\n",
              "      box-shadow: 0px 1px 2px rgba(60, 64, 67, 0.3), 0px 1px 3px 1px rgba(60, 64, 67, 0.15);\n",
              "      fill: #174EA6;\n",
              "    }\n",
              "\n",
              "    .colab-df-buttons div {\n",
              "      margin-bottom: 4px;\n",
              "    }\n",
              "\n",
              "    [theme=dark] .colab-df-convert {\n",
              "      background-color: #3B4455;\n",
              "      fill: #D2E3FC;\n",
              "    }\n",
              "\n",
              "    [theme=dark] .colab-df-convert:hover {\n",
              "      background-color: #434B5C;\n",
              "      box-shadow: 0px 1px 3px 1px rgba(0, 0, 0, 0.15);\n",
              "      filter: drop-shadow(0px 1px 2px rgba(0, 0, 0, 0.3));\n",
              "      fill: #FFFFFF;\n",
              "    }\n",
              "  </style>\n",
              "\n",
              "    <script>\n",
              "      const buttonEl =\n",
              "        document.querySelector('#df-350e1ca4-4485-4238-81c3-79354cb60409 button.colab-df-convert');\n",
              "      buttonEl.style.display =\n",
              "        google.colab.kernel.accessAllowed ? 'block' : 'none';\n",
              "\n",
              "      async function convertToInteractive(key) {\n",
              "        const element = document.querySelector('#df-350e1ca4-4485-4238-81c3-79354cb60409');\n",
              "        const dataTable =\n",
              "          await google.colab.kernel.invokeFunction('convertToInteractive',\n",
              "                                                    [key], {});\n",
              "        if (!dataTable) return;\n",
              "\n",
              "        const docLinkHtml = 'Like what you see? Visit the ' +\n",
              "          '<a target=\"_blank\" href=https://colab.research.google.com/notebooks/data_table.ipynb>data table notebook</a>'\n",
              "          + ' to learn more about interactive tables.';\n",
              "        element.innerHTML = '';\n",
              "        dataTable['output_type'] = 'display_data';\n",
              "        await google.colab.output.renderOutput(dataTable, element);\n",
              "        const docLink = document.createElement('div');\n",
              "        docLink.innerHTML = docLinkHtml;\n",
              "        element.appendChild(docLink);\n",
              "      }\n",
              "    </script>\n",
              "  </div>\n",
              "\n",
              "\n",
              "<div id=\"df-628e12f2-a49d-42bb-b4e2-e85df1818daa\">\n",
              "  <button class=\"colab-df-quickchart\" onclick=\"quickchart('df-628e12f2-a49d-42bb-b4e2-e85df1818daa')\"\n",
              "            title=\"Suggest charts\"\n",
              "            style=\"display:none;\">\n",
              "\n",
              "<svg xmlns=\"http://www.w3.org/2000/svg\" height=\"24px\"viewBox=\"0 0 24 24\"\n",
              "     width=\"24px\">\n",
              "    <g>\n",
              "        <path d=\"M19 3H5c-1.1 0-2 .9-2 2v14c0 1.1.9 2 2 2h14c1.1 0 2-.9 2-2V5c0-1.1-.9-2-2-2zM9 17H7v-7h2v7zm4 0h-2V7h2v10zm4 0h-2v-4h2v4z\"/>\n",
              "    </g>\n",
              "</svg>\n",
              "  </button>\n",
              "\n",
              "<style>\n",
              "  .colab-df-quickchart {\n",
              "      --bg-color: #E8F0FE;\n",
              "      --fill-color: #1967D2;\n",
              "      --hover-bg-color: #E2EBFA;\n",
              "      --hover-fill-color: #174EA6;\n",
              "      --disabled-fill-color: #AAA;\n",
              "      --disabled-bg-color: #DDD;\n",
              "  }\n",
              "\n",
              "  [theme=dark] .colab-df-quickchart {\n",
              "      --bg-color: #3B4455;\n",
              "      --fill-color: #D2E3FC;\n",
              "      --hover-bg-color: #434B5C;\n",
              "      --hover-fill-color: #FFFFFF;\n",
              "      --disabled-bg-color: #3B4455;\n",
              "      --disabled-fill-color: #666;\n",
              "  }\n",
              "\n",
              "  .colab-df-quickchart {\n",
              "    background-color: var(--bg-color);\n",
              "    border: none;\n",
              "    border-radius: 50%;\n",
              "    cursor: pointer;\n",
              "    display: none;\n",
              "    fill: var(--fill-color);\n",
              "    height: 32px;\n",
              "    padding: 0;\n",
              "    width: 32px;\n",
              "  }\n",
              "\n",
              "  .colab-df-quickchart:hover {\n",
              "    background-color: var(--hover-bg-color);\n",
              "    box-shadow: 0 1px 2px rgba(60, 64, 67, 0.3), 0 1px 3px 1px rgba(60, 64, 67, 0.15);\n",
              "    fill: var(--button-hover-fill-color);\n",
              "  }\n",
              "\n",
              "  .colab-df-quickchart-complete:disabled,\n",
              "  .colab-df-quickchart-complete:disabled:hover {\n",
              "    background-color: var(--disabled-bg-color);\n",
              "    fill: var(--disabled-fill-color);\n",
              "    box-shadow: none;\n",
              "  }\n",
              "\n",
              "  .colab-df-spinner {\n",
              "    border: 2px solid var(--fill-color);\n",
              "    border-color: transparent;\n",
              "    border-bottom-color: var(--fill-color);\n",
              "    animation:\n",
              "      spin 1s steps(1) infinite;\n",
              "  }\n",
              "\n",
              "  @keyframes spin {\n",
              "    0% {\n",
              "      border-color: transparent;\n",
              "      border-bottom-color: var(--fill-color);\n",
              "      border-left-color: var(--fill-color);\n",
              "    }\n",
              "    20% {\n",
              "      border-color: transparent;\n",
              "      border-left-color: var(--fill-color);\n",
              "      border-top-color: var(--fill-color);\n",
              "    }\n",
              "    30% {\n",
              "      border-color: transparent;\n",
              "      border-left-color: var(--fill-color);\n",
              "      border-top-color: var(--fill-color);\n",
              "      border-right-color: var(--fill-color);\n",
              "    }\n",
              "    40% {\n",
              "      border-color: transparent;\n",
              "      border-right-color: var(--fill-color);\n",
              "      border-top-color: var(--fill-color);\n",
              "    }\n",
              "    60% {\n",
              "      border-color: transparent;\n",
              "      border-right-color: var(--fill-color);\n",
              "    }\n",
              "    80% {\n",
              "      border-color: transparent;\n",
              "      border-right-color: var(--fill-color);\n",
              "      border-bottom-color: var(--fill-color);\n",
              "    }\n",
              "    90% {\n",
              "      border-color: transparent;\n",
              "      border-bottom-color: var(--fill-color);\n",
              "    }\n",
              "  }\n",
              "</style>\n",
              "\n",
              "  <script>\n",
              "    async function quickchart(key) {\n",
              "      const quickchartButtonEl =\n",
              "        document.querySelector('#' + key + ' button');\n",
              "      quickchartButtonEl.disabled = true;  // To prevent multiple clicks.\n",
              "      quickchartButtonEl.classList.add('colab-df-spinner');\n",
              "      try {\n",
              "        const charts = await google.colab.kernel.invokeFunction(\n",
              "            'suggestCharts', [key], {});\n",
              "      } catch (error) {\n",
              "        console.error('Error during call to suggestCharts:', error);\n",
              "      }\n",
              "      quickchartButtonEl.classList.remove('colab-df-spinner');\n",
              "      quickchartButtonEl.classList.add('colab-df-quickchart-complete');\n",
              "    }\n",
              "    (() => {\n",
              "      let quickchartButtonEl =\n",
              "        document.querySelector('#df-628e12f2-a49d-42bb-b4e2-e85df1818daa button');\n",
              "      quickchartButtonEl.style.display =\n",
              "        google.colab.kernel.accessAllowed ? 'block' : 'none';\n",
              "    })();\n",
              "  </script>\n",
              "</div>\n",
              "\n",
              "    </div>\n",
              "  </div>\n"
            ],
            "text/plain": [
              "                    user_id   nickname gender  \\\n",
              "0  576d3bde82ec3952ff40c5e1     达拉斯小鸡腿      女   \n",
              "1  58b325ce50c4b442ae017a30  小温柔Sylvia      女   \n",
              "\n",
              "                                              avatar  \\\n",
              "0  https://sns-avatar-qc.xhscdn.com/avatar/61df4c...   \n",
              "1  https://sns-avatar-qc.xhscdn.com/avatar/1040g2...   \n",
              "\n",
              "                                                desc ip_location  follows  \\\n",
              "0  慢慢了解世界，慢慢更新自己\\n吃喝玩乐+宝宝们，随心分享\\n佛系更新中～比心🫰 | Zodi...          美国      837   \n",
              "1  北京🇨🇳→ 达拉斯🇺🇸\\n163cm ♋巨蟹座 乐观开朗 \\nIG: sylviviishe...          美国      961   \n",
              "\n",
              "   fans  interaction                                           tag_list  ...  \\\n",
              "0  1653        11636  {\"info\": null, \"location\": \"美国\", \"profession\":...  ...   \n",
              "1   304        10699                 {\"info\": null, \"location\": \"北京海淀\"}  ...   \n",
              "\n",
              "   total_share_counts_hot_ratio  last_note2now  last_hot_note2now  \\\n",
              "0                      0.558764              0                 22   \n",
              "1                      0.809131              5                  5   \n",
              "\n",
              "   weighted_total_share_counts    score_2  liked_count  collected_count  \\\n",
              "0                  4432.999131  79.581669         6443             4951   \n",
              "1                  1817.999749  47.761860         7290             3354   \n",
              "\n",
              "   comment_count  share_count  note_count  \n",
              "0           2847         4433         146  \n",
              "1           1713         1818         142  \n",
              "\n",
              "[2 rows x 24 columns]"
            ]
          },
          "execution_count": 48,
          "metadata": {},
          "output_type": "execute_result"
        }
      ],
      "source": [
        "df_creator.head(2)"
      ]
    },
    {
      "cell_type": "markdown",
      "metadata": {
        "id": "xrJd_KOuTYke"
      },
      "source": [
        "**location**"
      ]
    },
    {
      "cell_type": "code",
      "execution_count": 81,
      "metadata": {
        "id": "aKK0wLZwn5tl"
      },
      "outputs": [],
      "source": [
        "# Parse the JSON strings in tag_list into dictionaries\n",
        "tag_process = df_creator['tag_list'].apply(lambda x: json.loads(x))\n",
        "\n",
        "# Extract the 'location' key for each row and assign it to a new 'location' column\n",
        "df_creator['location'] = tag_process.apply(lambda x: x.get('location', None))"
      ]
    },
    {
      "cell_type": "code",
      "execution_count": 82,
      "metadata": {
        "id": "KXTG0wDS80Lq"
      },
      "outputs": [],
      "source": [
        "df_creator['location'] = df_creator['location'].replace('UnitedStates','美国')\n",
        "df_creator['location'] = df_creator['location'].replace('美国得克萨斯','美国TX')\n",
        "df_creator['location'] = df_creator['location'].replace('UnitedStates...','美国')\n",
        "df_creator['location'] = df_creator['location'].replace('海外美国','美国')"
      ]
    },
    {
      "cell_type": "markdown",
      "metadata": {
        "id": "-UiRj8SQV9vZ"
      },
      "source": [
        "#### Note:\n",
        "- ip_location: directly from profile page\n",
        "- location: separated from user self-added tags\n",
        "- 最后合并成一个ip_location: 三个等级, TX, US, CN"
      ]
    },
    {
      "cell_type": "code",
      "execution_count": 83,
      "metadata": {
        "colab": {
          "base_uri": "https://localhost:8080/",
          "height": 645
        },
        "id": "SqmQqFdW862o",
        "outputId": "01a8d8ec-e008-4c3f-b849-af62080cbad9"
      },
      "outputs": [
        {
          "data": {
            "text/html": [
              "<div>\n",
              "<style scoped>\n",
              "    .dataframe tbody tr th:only-of-type {\n",
              "        vertical-align: middle;\n",
              "    }\n",
              "\n",
              "    .dataframe tbody tr th {\n",
              "        vertical-align: top;\n",
              "    }\n",
              "\n",
              "    .dataframe thead th {\n",
              "        text-align: right;\n",
              "    }\n",
              "</style>\n",
              "<table border=\"1\" class=\"dataframe\">\n",
              "  <thead>\n",
              "    <tr style=\"text-align: right;\">\n",
              "      <th></th>\n",
              "      <th>ip_location</th>\n",
              "      <th>location</th>\n",
              "    </tr>\n",
              "  </thead>\n",
              "  <tbody>\n",
              "    <tr>\n",
              "      <th>1</th>\n",
              "      <td>美国</td>\n",
              "      <td>北京海淀</td>\n",
              "    </tr>\n",
              "    <tr>\n",
              "      <th>5</th>\n",
              "      <td>美国</td>\n",
              "      <td>美国TX</td>\n",
              "    </tr>\n",
              "    <tr>\n",
              "      <th>20</th>\n",
              "      <td></td>\n",
              "      <td>美国</td>\n",
              "    </tr>\n",
              "    <tr>\n",
              "      <th>30</th>\n",
              "      <td>美国</td>\n",
              "      <td>美国NY</td>\n",
              "    </tr>\n",
              "    <tr>\n",
              "      <th>31</th>\n",
              "      <td>墨西哥</td>\n",
              "      <td>美国TX</td>\n",
              "    </tr>\n",
              "    <tr>\n",
              "      <th>37</th>\n",
              "      <td>美国</td>\n",
              "      <td>美国TX</td>\n",
              "    </tr>\n",
              "    <tr>\n",
              "      <th>38</th>\n",
              "      <td>美国</td>\n",
              "      <td>美国TX</td>\n",
              "    </tr>\n",
              "    <tr>\n",
              "      <th>49</th>\n",
              "      <td>美国</td>\n",
              "      <td>巴巴多斯</td>\n",
              "    </tr>\n",
              "    <tr>\n",
              "      <th>54</th>\n",
              "      <td>美国</td>\n",
              "      <td>美国TX</td>\n",
              "    </tr>\n",
              "    <tr>\n",
              "      <th>55</th>\n",
              "      <td></td>\n",
              "      <td>美国TX</td>\n",
              "    </tr>\n",
              "    <tr>\n",
              "      <th>56</th>\n",
              "      <td>美国</td>\n",
              "      <td>美国TX</td>\n",
              "    </tr>\n",
              "    <tr>\n",
              "      <th>71</th>\n",
              "      <td></td>\n",
              "      <td>美国</td>\n",
              "    </tr>\n",
              "    <tr>\n",
              "      <th>75</th>\n",
              "      <td>美国</td>\n",
              "      <td>中国</td>\n",
              "    </tr>\n",
              "    <tr>\n",
              "      <th>76</th>\n",
              "      <td></td>\n",
              "      <td>美国</td>\n",
              "    </tr>\n",
              "    <tr>\n",
              "      <th>78</th>\n",
              "      <td></td>\n",
              "      <td>美国</td>\n",
              "    </tr>\n",
              "    <tr>\n",
              "      <th>80</th>\n",
              "      <td>美国</td>\n",
              "      <td>美国TX</td>\n",
              "    </tr>\n",
              "    <tr>\n",
              "      <th>82</th>\n",
              "      <td>美国</td>\n",
              "      <td>美国达拉斯市</td>\n",
              "    </tr>\n",
              "    <tr>\n",
              "      <th>88</th>\n",
              "      <td>美国</td>\n",
              "      <td>美国TX</td>\n",
              "    </tr>\n",
              "    <tr>\n",
              "      <th>97</th>\n",
              "      <td>美国</td>\n",
              "      <td>美国CA</td>\n",
              "    </tr>\n",
              "  </tbody>\n",
              "</table>\n",
              "</div>"
            ],
            "text/plain": [
              "   ip_location location\n",
              "1           美国     北京海淀\n",
              "5           美国     美国TX\n",
              "20                   美国\n",
              "30          美国     美国NY\n",
              "31         墨西哥     美国TX\n",
              "37          美国     美国TX\n",
              "38          美国     美国TX\n",
              "49          美国     巴巴多斯\n",
              "54          美国     美国TX\n",
              "55                 美国TX\n",
              "56          美国     美国TX\n",
              "71                   美国\n",
              "75          美国       中国\n",
              "76                   美国\n",
              "78                   美国\n",
              "80          美国     美国TX\n",
              "82          美国   美国达拉斯市\n",
              "88          美国     美国TX\n",
              "97          美国     美国CA"
            ]
          },
          "execution_count": 83,
          "metadata": {},
          "output_type": "execute_result"
        }
      ],
      "source": [
        "df_creator[['ip_location','location']][((~df_creator['location'].isna()) & (df_creator['location'] != df_creator[\"ip_location\"]))]"
      ]
    },
    {
      "cell_type": "markdown",
      "metadata": {
        "id": "zZ_u2hVlRUJY"
      },
      "source": [
        "### Impute `ip_location` by `location`"
      ]
    },
    {
      "cell_type": "code",
      "execution_count": 84,
      "metadata": {
        "id": "Le0wlylCRS-4"
      },
      "outputs": [],
      "source": [
        "df_creator['location'] = df_creator['location'].apply(\n",
        "    lambda x: \"TX\" if isinstance(x, str) and \"美国TX\" in x\n",
        "    else (\"US\" if isinstance(x, str) and \"美国\" in x else \"abroad\")\n",
        ")\n"
      ]
    },
    {
      "cell_type": "code",
      "execution_count": 85,
      "metadata": {
        "colab": {
          "base_uri": "https://localhost:8080/",
          "height": 397
        },
        "id": "K7cJSLKl4AAw",
        "outputId": "7de2df51-31b5-4c79-9c74-226ffe825f65"
      },
      "outputs": [
        {
          "data": {
            "text/plain": [
              "0        US\n",
              "1    abroad\n",
              "2        US\n",
              "3        US\n",
              "4        US\n",
              "5        TX\n",
              "6        US\n",
              "7        US\n",
              "8        US\n",
              "9        US\n",
              "Name: location, dtype: object"
            ]
          },
          "execution_count": 85,
          "metadata": {},
          "output_type": "execute_result"
        }
      ],
      "source": [
        "df_creator['location'].head(10)"
      ]
    },
    {
      "cell_type": "code",
      "execution_count": 86,
      "metadata": {
        "id": "mNW2Y2ayoDs0"
      },
      "outputs": [],
      "source": [
        "df_creator = df_creator.drop(columns=['tag_list'])"
      ]
    },
    {
      "cell_type": "markdown",
      "metadata": {
        "id": "Cp9CIhiuWSb9"
      },
      "source": [
        "## Feature Engineering\n",
        "\n",
        "**KOC level**\n",
        "- `ff_ratio`: ratio calculated by fans over follows\n",
        "- `video_ratio`: ratio calculated by number of video posts over total number posts\n",
        "- `account_age`: the time length in days between the newest post and oldest post"
      ]
    },
    {
      "cell_type": "code",
      "execution_count": 87,
      "metadata": {
        "id": "wpmTdE9qXCC2"
      },
      "outputs": [],
      "source": [
        "df_creator['ff_ratio'] = df_creator.fans / df_creator.follows\n",
        "time_length = df_contents.groupby('user_id') \\\n",
        "    .agg(oldest = ('post_time', 'min'), newest = ('post_time', 'max')).reset_index()\n",
        "time_length['age_koc'] = time_length.newest - time_length.oldest\n",
        "time_length['age_koc'] = time_length.age_koc.dt.days\n",
        "df_creator = pd.merge(df_creator, time_length[['user_id', 'age_koc']], on = 'user_id')"
      ]
    },
    {
      "cell_type": "code",
      "execution_count": 88,
      "metadata": {
        "id": "CvAVFHrdxHxR"
      },
      "outputs": [
        {
          "data": {
            "text/html": [
              "<div>\n",
              "<style scoped>\n",
              "    .dataframe tbody tr th:only-of-type {\n",
              "        vertical-align: middle;\n",
              "    }\n",
              "\n",
              "    .dataframe tbody tr th {\n",
              "        vertical-align: top;\n",
              "    }\n",
              "\n",
              "    .dataframe thead th {\n",
              "        text-align: right;\n",
              "    }\n",
              "</style>\n",
              "<table border=\"1\" class=\"dataframe\">\n",
              "  <thead>\n",
              "    <tr style=\"text-align: right;\">\n",
              "      <th></th>\n",
              "      <th>follows</th>\n",
              "      <th>fans</th>\n",
              "      <th>interaction</th>\n",
              "      <th>last_modify_ts</th>\n",
              "      <th>图文报价有对号</th>\n",
              "      <th>pic_per_normal_note</th>\n",
              "      <th>video_ratio</th>\n",
              "      <th>hot_note_count</th>\n",
              "      <th>total_share_counts_hot_ratio</th>\n",
              "      <th>last_note2now</th>\n",
              "      <th>...</th>\n",
              "      <th>weighted_total_share_counts</th>\n",
              "      <th>score_2</th>\n",
              "      <th>score_5</th>\n",
              "      <th>liked_count</th>\n",
              "      <th>collected_count</th>\n",
              "      <th>comment_count</th>\n",
              "      <th>share_count</th>\n",
              "      <th>note_count</th>\n",
              "      <th>ff_ratio</th>\n",
              "      <th>age_koc</th>\n",
              "    </tr>\n",
              "  </thead>\n",
              "  <tbody>\n",
              "    <tr>\n",
              "      <th>count</th>\n",
              "      <td>101.000000</td>\n",
              "      <td>101.000000</td>\n",
              "      <td>101.000000</td>\n",
              "      <td>1.010000e+02</td>\n",
              "      <td>99.000000</td>\n",
              "      <td>101.000000</td>\n",
              "      <td>101.000000</td>\n",
              "      <td>101.000000</td>\n",
              "      <td>101.000000</td>\n",
              "      <td>101.000000</td>\n",
              "      <td>...</td>\n",
              "      <td>101.000000</td>\n",
              "      <td>101.000000</td>\n",
              "      <td>101.000000</td>\n",
              "      <td>101.0</td>\n",
              "      <td>101.0</td>\n",
              "      <td>101.0</td>\n",
              "      <td>101.0</td>\n",
              "      <td>101.000000</td>\n",
              "      <td>101.000000</td>\n",
              "      <td>101.000000</td>\n",
              "    </tr>\n",
              "    <tr>\n",
              "      <th>mean</th>\n",
              "      <td>498.029703</td>\n",
              "      <td>1275.108911</td>\n",
              "      <td>16112.722772</td>\n",
              "      <td>1.741142e+12</td>\n",
              "      <td>0.141414</td>\n",
              "      <td>4.989453</td>\n",
              "      <td>0.218676</td>\n",
              "      <td>12.811881</td>\n",
              "      <td>0.613914</td>\n",
              "      <td>43.544554</td>\n",
              "      <td>...</td>\n",
              "      <td>2063.742138</td>\n",
              "      <td>49.020106</td>\n",
              "      <td>73.428822</td>\n",
              "      <td>8955.138614</td>\n",
              "      <td>3736.009901</td>\n",
              "      <td>1850.613861</td>\n",
              "      <td>2063.742574</td>\n",
              "      <td>151.603960</td>\n",
              "      <td>34.169229</td>\n",
              "      <td>1256.910891</td>\n",
              "    </tr>\n",
              "    <tr>\n",
              "      <th>std</th>\n",
              "      <td>707.233956</td>\n",
              "      <td>1604.648852</td>\n",
              "      <td>23537.610119</td>\n",
              "      <td>8.941886e+09</td>\n",
              "      <td>0.350222</td>\n",
              "      <td>1.857399</td>\n",
              "      <td>0.231725</td>\n",
              "      <td>10.690849</td>\n",
              "      <td>0.217669</td>\n",
              "      <td>114.911316</td>\n",
              "      <td>...</td>\n",
              "      <td>2181.951671</td>\n",
              "      <td>30.187041</td>\n",
              "      <td>18.381279</td>\n",
              "      <td>16117.212541</td>\n",
              "      <td>4526.107227</td>\n",
              "      <td>2370.845448</td>\n",
              "      <td>2181.952257</td>\n",
              "      <td>154.108928</td>\n",
              "      <td>240.371746</td>\n",
              "      <td>704.523670</td>\n",
              "    </tr>\n",
              "    <tr>\n",
              "      <th>min</th>\n",
              "      <td>3.000000</td>\n",
              "      <td>69.000000</td>\n",
              "      <td>1069.000000</td>\n",
              "      <td>1.652198e+12</td>\n",
              "      <td>0.000000</td>\n",
              "      <td>1.000000</td>\n",
              "      <td>0.000000</td>\n",
              "      <td>0.000000</td>\n",
              "      <td>0.000000</td>\n",
              "      <td>0.000000</td>\n",
              "      <td>...</td>\n",
              "      <td>23.000000</td>\n",
              "      <td>10.195371</td>\n",
              "      <td>19.022724</td>\n",
              "      <td>336.0</td>\n",
              "      <td>116.0</td>\n",
              "      <td>62.0</td>\n",
              "      <td>23.0</td>\n",
              "      <td>11.000000</td>\n",
              "      <td>0.178448</td>\n",
              "      <td>12.000000</td>\n",
              "    </tr>\n",
              "    <tr>\n",
              "      <th>25%</th>\n",
              "      <td>94.000000</td>\n",
              "      <td>389.000000</td>\n",
              "      <td>4149.000000</td>\n",
              "      <td>1.741822e+12</td>\n",
              "      <td>0.000000</td>\n",
              "      <td>3.653846</td>\n",
              "      <td>0.043478</td>\n",
              "      <td>6.000000</td>\n",
              "      <td>0.487805</td>\n",
              "      <td>1.000000</td>\n",
              "      <td>...</td>\n",
              "      <td>692.999800</td>\n",
              "      <td>29.887510</td>\n",
              "      <td>78.927893</td>\n",
              "      <td>2055.0</td>\n",
              "      <td>1093.0</td>\n",
              "      <td>547.0</td>\n",
              "      <td>693.0</td>\n",
              "      <td>61.000000</td>\n",
              "      <td>1.083665</td>\n",
              "      <td>819.000000</td>\n",
              "    </tr>\n",
              "    <tr>\n",
              "      <th>50%</th>\n",
              "      <td>221.000000</td>\n",
              "      <td>710.000000</td>\n",
              "      <td>7191.000000</td>\n",
              "      <td>1.741974e+12</td>\n",
              "      <td>0.000000</td>\n",
              "      <td>4.803279</td>\n",
              "      <td>0.125523</td>\n",
              "      <td>9.000000</td>\n",
              "      <td>0.638124</td>\n",
              "      <td>6.000000</td>\n",
              "      <td>...</td>\n",
              "      <td>1306.999758</td>\n",
              "      <td>38.467939</td>\n",
              "      <td>78.927893</td>\n",
              "      <td>4224.0</td>\n",
              "      <td>1997.0</td>\n",
              "      <td>1080.0</td>\n",
              "      <td>1307.0</td>\n",
              "      <td>98.000000</td>\n",
              "      <td>3.508772</td>\n",
              "      <td>1271.000000</td>\n",
              "    </tr>\n",
              "    <tr>\n",
              "      <th>75%</th>\n",
              "      <td>502.000000</td>\n",
              "      <td>1570.000000</td>\n",
              "      <td>14868.000000</td>\n",
              "      <td>1.742094e+12</td>\n",
              "      <td>0.000000</td>\n",
              "      <td>6.258065</td>\n",
              "      <td>0.340426</td>\n",
              "      <td>17.000000</td>\n",
              "      <td>0.776910</td>\n",
              "      <td>25.000000</td>\n",
              "      <td>...</td>\n",
              "      <td>2697.999638</td>\n",
              "      <td>63.049910</td>\n",
              "      <td>81.974603</td>\n",
              "      <td>7290.0</td>\n",
              "      <td>4485.0</td>\n",
              "      <td>2271.0</td>\n",
              "      <td>2698.0</td>\n",
              "      <td>179.000000</td>\n",
              "      <td>9.691558</td>\n",
              "      <td>1608.000000</td>\n",
              "    </tr>\n",
              "    <tr>\n",
              "      <th>max</th>\n",
              "      <td>3749.000000</td>\n",
              "      <td>8955.000000</td>\n",
              "      <td>147344.000000</td>\n",
              "      <td>1.742580e+12</td>\n",
              "      <td>1.000000</td>\n",
              "      <td>8.000000</td>\n",
              "      <td>0.980769</td>\n",
              "      <td>54.000000</td>\n",
              "      <td>0.985555</td>\n",
              "      <td>723.000000</td>\n",
              "      <td>...</td>\n",
              "      <td>11565.996139</td>\n",
              "      <td>160.679105</td>\n",
              "      <td>88.500000</td>\n",
              "      <td>127240.0</td>\n",
              "      <td>25255.0</td>\n",
              "      <td>17114.0</td>\n",
              "      <td>11566.0</td>\n",
              "      <td>781.000000</td>\n",
              "      <td>2417.666667</td>\n",
              "      <td>3089.000000</td>\n",
              "    </tr>\n",
              "  </tbody>\n",
              "</table>\n",
              "<p>8 rows × 21 columns</p>\n",
              "</div>"
            ],
            "text/plain": [
              "           follows         fans    interaction  last_modify_ts    图文报价有对号  \\\n",
              "count   101.000000   101.000000     101.000000    1.010000e+02  99.000000   \n",
              "mean    498.029703  1275.108911   16112.722772    1.741142e+12   0.141414   \n",
              "std     707.233956  1604.648852   23537.610119    8.941886e+09   0.350222   \n",
              "min       3.000000    69.000000    1069.000000    1.652198e+12   0.000000   \n",
              "25%      94.000000   389.000000    4149.000000    1.741822e+12   0.000000   \n",
              "50%     221.000000   710.000000    7191.000000    1.741974e+12   0.000000   \n",
              "75%     502.000000  1570.000000   14868.000000    1.742094e+12   0.000000   \n",
              "max    3749.000000  8955.000000  147344.000000    1.742580e+12   1.000000   \n",
              "\n",
              "       pic_per_normal_note  video_ratio  hot_note_count  \\\n",
              "count           101.000000   101.000000      101.000000   \n",
              "mean              4.989453     0.218676       12.811881   \n",
              "std               1.857399     0.231725       10.690849   \n",
              "min               1.000000     0.000000        0.000000   \n",
              "25%               3.653846     0.043478        6.000000   \n",
              "50%               4.803279     0.125523        9.000000   \n",
              "75%               6.258065     0.340426       17.000000   \n",
              "max               8.000000     0.980769       54.000000   \n",
              "\n",
              "       total_share_counts_hot_ratio  last_note2now  ...  \\\n",
              "count                    101.000000     101.000000  ...   \n",
              "mean                       0.613914      43.544554  ...   \n",
              "std                        0.217669     114.911316  ...   \n",
              "min                        0.000000       0.000000  ...   \n",
              "25%                        0.487805       1.000000  ...   \n",
              "50%                        0.638124       6.000000  ...   \n",
              "75%                        0.776910      25.000000  ...   \n",
              "max                        0.985555     723.000000  ...   \n",
              "\n",
              "       weighted_total_share_counts     score_2     score_5   liked_count  \\\n",
              "count                   101.000000  101.000000  101.000000         101.0   \n",
              "mean                   2063.742138   49.020106   73.428822   8955.138614   \n",
              "std                    2181.951671   30.187041   18.381279  16117.212541   \n",
              "min                      23.000000   10.195371   19.022724         336.0   \n",
              "25%                     692.999800   29.887510   78.927893        2055.0   \n",
              "50%                    1306.999758   38.467939   78.927893        4224.0   \n",
              "75%                    2697.999638   63.049910   81.974603        7290.0   \n",
              "max                   11565.996139  160.679105   88.500000      127240.0   \n",
              "\n",
              "       collected_count  comment_count  share_count  note_count     ff_ratio  \\\n",
              "count            101.0          101.0        101.0  101.000000   101.000000   \n",
              "mean       3736.009901    1850.613861  2063.742574  151.603960    34.169229   \n",
              "std        4526.107227    2370.845448  2181.952257  154.108928   240.371746   \n",
              "min              116.0           62.0         23.0   11.000000     0.178448   \n",
              "25%             1093.0          547.0        693.0   61.000000     1.083665   \n",
              "50%             1997.0         1080.0       1307.0   98.000000     3.508772   \n",
              "75%             4485.0         2271.0       2698.0  179.000000     9.691558   \n",
              "max            25255.0        17114.0      11566.0  781.000000  2417.666667   \n",
              "\n",
              "           age_koc  \n",
              "count   101.000000  \n",
              "mean   1256.910891  \n",
              "std     704.523670  \n",
              "min      12.000000  \n",
              "25%     819.000000  \n",
              "50%    1271.000000  \n",
              "75%    1608.000000  \n",
              "max    3089.000000  \n",
              "\n",
              "[8 rows x 21 columns]"
            ]
          },
          "execution_count": 88,
          "metadata": {},
          "output_type": "execute_result"
        }
      ],
      "source": [
        "df_creator.describe()"
      ]
    },
    {
      "cell_type": "code",
      "execution_count": 89,
      "metadata": {
        "colab": {
          "base_uri": "https://localhost:8080/",
          "height": 617
        },
        "id": "Smib4p9fxrup",
        "outputId": "740907ec-14a2-4022-c4c7-74b0cbb17da1"
      },
      "outputs": [
        {
          "data": {
            "text/plain": [
              "user_id                          0\n",
              "nickname                         0\n",
              "gender                           9\n",
              "avatar                           0\n",
              "desc                             0\n",
              "ip_location                      0\n",
              "follows                          0\n",
              "fans                             0\n",
              "interaction                      0\n",
              "last_modify_ts                   0\n",
              "图文报价(RMB)                        1\n",
              "图文报价有对号                          2\n",
              "平台等级                            16\n",
              "pic_per_normal_note              0\n",
              "video_ratio                      0\n",
              "hot_note_count                   0\n",
              "total_share_counts_hot_ratio     0\n",
              "last_note2now                    0\n",
              "last_hot_note2now                0\n",
              "weighted_total_share_counts      0\n",
              "score_2                          0\n",
              "score_5                          0\n",
              "liked_count                      0\n",
              "collected_count                  0\n",
              "comment_count                    0\n",
              "share_count                      0\n",
              "note_count                       0\n",
              "location                         0\n",
              "ff_ratio                         0\n",
              "age_koc                          0\n",
              "dtype: int64"
            ]
          },
          "execution_count": 89,
          "metadata": {},
          "output_type": "execute_result"
        }
      ],
      "source": [
        "df_creator.isna().sum()"
      ]
    },
    {
      "cell_type": "markdown",
      "metadata": {
        "id": "Wn-54Ypvx1Xi"
      },
      "source": [
        "### Impute Gender"
      ]
    },
    {
      "cell_type": "markdown",
      "metadata": {
        "id": "XwWWihbUoSAq"
      },
      "source": [
        "All female"
      ]
    },
    {
      "cell_type": "code",
      "execution_count": 90,
      "metadata": {
        "id": "RXHJRSEjx06J"
      },
      "outputs": [],
      "source": [
        "# Impute missing values with \"女\" and then map \"女\" to 1 and any other value to 0.\n",
        "df_creator['is_female'] = df_creator['gender'].fillna(\"女\").apply(lambda x: 1 if x == \"女\" else 0)\n",
        "\n",
        "# Optionally, drop the original gender column\n",
        "df_creator.drop('gender', axis=1, inplace=True)\n"
      ]
    },
    {
      "cell_type": "code",
      "execution_count": 91,
      "metadata": {
        "colab": {
          "base_uri": "https://localhost:8080/",
          "height": 178
        },
        "id": "BObLnPawoWBu",
        "outputId": "cc043f9b-ad17-4f3f-da9f-49609c8c2f6f"
      },
      "outputs": [
        {
          "data": {
            "text/plain": [
              "is_female\n",
              "1    92\n",
              "0     9\n",
              "Name: count, dtype: int64"
            ]
          },
          "execution_count": 91,
          "metadata": {},
          "output_type": "execute_result"
        }
      ],
      "source": [
        "df_creator['is_female'].value_counts()"
      ]
    },
    {
      "cell_type": "markdown",
      "metadata": {
        "id": "j2zmHDwwquHY"
      },
      "source": [
        "给KOC加post_span"
      ]
    },
    {
      "cell_type": "code",
      "execution_count": 92,
      "metadata": {
        "colab": {
          "base_uri": "https://localhost:8080/"
        },
        "id": "M1zHZEKxYD-C",
        "outputId": "336ce244-52e0-405c-d4b9-3c2eef48981b"
      },
      "outputs": [
        {
          "name": "stdout",
          "output_type": "stream",
          "text": [
            "                    user_id                 min                 max  \\\n",
            "0  54d82c482e1d9366ebfc8ce5 2020-11-22 20:47:10 2025-03-08 05:22:29   \n",
            "1  5530f8642e1d9365fa9a29fb 2021-05-10 16:54:57 2025-02-28 22:56:16   \n",
            "2  55481451b203d97e86008c02 2020-12-02 00:14:57 2025-01-25 13:47:58   \n",
            "3  556f1983f5a26347140b104b 2017-02-19 08:08:58 2025-03-13 22:58:53   \n",
            "4  558a4a065894460336de85bf 2021-08-11 10:43:04 2025-03-16 04:03:26   \n",
            "\n",
            "           post_span  \n",
            "0 1566 days 08:35:19  \n",
            "1 1390 days 06:01:19  \n",
            "2 1515 days 13:33:01  \n",
            "3 2944 days 14:49:55  \n",
            "4 1312 days 17:20:22  \n"
          ]
        }
      ],
      "source": [
        "post_times = df_contents.groupby('user_id')['post_time'].agg(['min', 'max']).reset_index()\n",
        "post_times['post_span'] = post_times['max'] - post_times['min']\n",
        "print(post_times[['user_id', 'min', 'max', 'post_span']].head())\n"
      ]
    },
    {
      "cell_type": "code",
      "execution_count": 93,
      "metadata": {
        "colab": {
          "base_uri": "https://localhost:8080/",
          "height": 782
        },
        "id": "HeLwyd_TYD8H",
        "outputId": "3be5baca-0b96-4262-d746-fd43726f16fe"
      },
      "outputs": [
        {
          "data": {
            "text/html": [
              "<div>\n",
              "<style scoped>\n",
              "    .dataframe tbody tr th:only-of-type {\n",
              "        vertical-align: middle;\n",
              "    }\n",
              "\n",
              "    .dataframe tbody tr th {\n",
              "        vertical-align: top;\n",
              "    }\n",
              "\n",
              "    .dataframe thead th {\n",
              "        text-align: right;\n",
              "    }\n",
              "</style>\n",
              "<table border=\"1\" class=\"dataframe\">\n",
              "  <thead>\n",
              "    <tr style=\"text-align: right;\">\n",
              "      <th></th>\n",
              "      <th>user_id</th>\n",
              "      <th>nickname</th>\n",
              "      <th>avatar</th>\n",
              "      <th>desc</th>\n",
              "      <th>ip_location</th>\n",
              "      <th>follows</th>\n",
              "      <th>fans</th>\n",
              "      <th>interaction</th>\n",
              "      <th>last_modify_ts</th>\n",
              "      <th>图文报价(RMB)</th>\n",
              "      <th>...</th>\n",
              "      <th>comment_count</th>\n",
              "      <th>share_count</th>\n",
              "      <th>note_count</th>\n",
              "      <th>location</th>\n",
              "      <th>ff_ratio</th>\n",
              "      <th>age_koc</th>\n",
              "      <th>is_female</th>\n",
              "      <th>min</th>\n",
              "      <th>max</th>\n",
              "      <th>post_span</th>\n",
              "    </tr>\n",
              "  </thead>\n",
              "  <tbody>\n",
              "    <tr>\n",
              "      <th>0</th>\n",
              "      <td>576d3bde82ec3952ff40c5e1</td>\n",
              "      <td>达拉斯小鸡腿</td>\n",
              "      <td>https://sns-avatar-qc.xhscdn.com/avatar/61df4c...</td>\n",
              "      <td>慢慢了解世界，慢慢更新自己\\n吃喝玩乐+宝宝们，随心分享\\n佛系更新中～比心🫰 | Zodi...</td>\n",
              "      <td>美国</td>\n",
              "      <td>837</td>\n",
              "      <td>1653</td>\n",
              "      <td>11636</td>\n",
              "      <td>1741740734045</td>\n",
              "      <td>60</td>\n",
              "      <td>...</td>\n",
              "      <td>2847</td>\n",
              "      <td>4433</td>\n",
              "      <td>146</td>\n",
              "      <td>US</td>\n",
              "      <td>1.974910</td>\n",
              "      <td>2054</td>\n",
              "      <td>1</td>\n",
              "      <td>2019-07-27 23:00:43</td>\n",
              "      <td>2025-03-12 00:32:05</td>\n",
              "      <td>2054 days 01:31:22</td>\n",
              "    </tr>\n",
              "    <tr>\n",
              "      <th>1</th>\n",
              "      <td>58b325ce50c4b442ae017a30</td>\n",
              "      <td>小温柔Sylvia</td>\n",
              "      <td>https://sns-avatar-qc.xhscdn.com/avatar/1040g2...</td>\n",
              "      <td>北京🇨🇳→ 达拉斯🇺🇸\\n163cm ♋巨蟹座 乐观开朗 \\nIG: sylviviishe...</td>\n",
              "      <td>美国</td>\n",
              "      <td>961</td>\n",
              "      <td>304</td>\n",
              "      <td>10699</td>\n",
              "      <td>1741746441631</td>\n",
              "      <td>10</td>\n",
              "      <td>...</td>\n",
              "      <td>1713</td>\n",
              "      <td>1818</td>\n",
              "      <td>142</td>\n",
              "      <td>abroad</td>\n",
              "      <td>0.316337</td>\n",
              "      <td>2459</td>\n",
              "      <td>1</td>\n",
              "      <td>2018-06-12 07:38:23</td>\n",
              "      <td>2025-03-07 01:47:51</td>\n",
              "      <td>2459 days 18:09:28</td>\n",
              "    </tr>\n",
              "    <tr>\n",
              "      <th>2</th>\n",
              "      <td>5c0c067c0000000005022f0a</td>\n",
              "      <td>茄茄公主 🍆</td>\n",
              "      <td>https://sns-avatar-qc.xhscdn.com/avatar/1040g2...</td>\n",
              "      <td>坐标 达拉斯 美国🇺🇸 来美14 年 家庭成员： 三只毛小孩🐶 喜欢旅游 和探索各地美食🥰 ...</td>\n",
              "      <td>美国</td>\n",
              "      <td>251</td>\n",
              "      <td>258</td>\n",
              "      <td>3607</td>\n",
              "      <td>1741747540369</td>\n",
              "      <td>10</td>\n",
              "      <td>...</td>\n",
              "      <td>641</td>\n",
              "      <td>852</td>\n",
              "      <td>222</td>\n",
              "      <td>US</td>\n",
              "      <td>1.027888</td>\n",
              "      <td>1879</td>\n",
              "      <td>1</td>\n",
              "      <td>2019-12-25 03:42:14</td>\n",
              "      <td>2025-02-15 04:23:29</td>\n",
              "      <td>1879 days 00:41:15</td>\n",
              "    </tr>\n",
              "    <tr>\n",
              "      <th>3</th>\n",
              "      <td>5649379603eb842b7ed00477</td>\n",
              "      <td>Sherry是睿睿呀</td>\n",
              "      <td>https://sns-avatar-qc.xhscdn.com/avatar/1040g2...</td>\n",
              "      <td>北美生活探店| Chinese Girl in Dallas TX\\n吃喝玩乐样样行 | 坐...</td>\n",
              "      <td>美国</td>\n",
              "      <td>1173</td>\n",
              "      <td>1326</td>\n",
              "      <td>28064</td>\n",
              "      <td>1741807240419</td>\n",
              "      <td>100</td>\n",
              "      <td>...</td>\n",
              "      <td>475</td>\n",
              "      <td>1211</td>\n",
              "      <td>66</td>\n",
              "      <td>US</td>\n",
              "      <td>1.130435</td>\n",
              "      <td>476</td>\n",
              "      <td>1</td>\n",
              "      <td>2023-11-15 07:27:31</td>\n",
              "      <td>2025-03-05 23:52:07</td>\n",
              "      <td>476 days 16:24:36</td>\n",
              "    </tr>\n",
              "    <tr>\n",
              "      <th>4</th>\n",
              "      <td>5d6a927e00000000010068b9</td>\n",
              "      <td>達拉斯里長</td>\n",
              "      <td>https://sns-avatar-qc.xhscdn.com/avatar/1040g2...</td>\n",
              "      <td>達拉斯，請多指教👋\\n在朝九晚五平淡生活中，\\n熱烈又燦爛的挖掘美好✨ | Zodiac: ...</td>\n",
              "      <td>美国</td>\n",
              "      <td>353</td>\n",
              "      <td>794</td>\n",
              "      <td>8149</td>\n",
              "      <td>1741814164296</td>\n",
              "      <td>20</td>\n",
              "      <td>...</td>\n",
              "      <td>452</td>\n",
              "      <td>1900</td>\n",
              "      <td>138</td>\n",
              "      <td>US</td>\n",
              "      <td>2.249292</td>\n",
              "      <td>1262</td>\n",
              "      <td>1</td>\n",
              "      <td>2021-08-24 23:44:32</td>\n",
              "      <td>2025-02-07 22:07:07</td>\n",
              "      <td>1262 days 22:22:35</td>\n",
              "    </tr>\n",
              "  </tbody>\n",
              "</table>\n",
              "<p>5 rows × 33 columns</p>\n",
              "</div>"
            ],
            "text/plain": [
              "                    user_id    nickname  \\\n",
              "0  576d3bde82ec3952ff40c5e1      达拉斯小鸡腿   \n",
              "1  58b325ce50c4b442ae017a30   小温柔Sylvia   \n",
              "2  5c0c067c0000000005022f0a      茄茄公主 🍆   \n",
              "3  5649379603eb842b7ed00477  Sherry是睿睿呀   \n",
              "4  5d6a927e00000000010068b9       達拉斯里長   \n",
              "\n",
              "                                              avatar  \\\n",
              "0  https://sns-avatar-qc.xhscdn.com/avatar/61df4c...   \n",
              "1  https://sns-avatar-qc.xhscdn.com/avatar/1040g2...   \n",
              "2  https://sns-avatar-qc.xhscdn.com/avatar/1040g2...   \n",
              "3  https://sns-avatar-qc.xhscdn.com/avatar/1040g2...   \n",
              "4  https://sns-avatar-qc.xhscdn.com/avatar/1040g2...   \n",
              "\n",
              "                                                desc ip_location  follows  \\\n",
              "0  慢慢了解世界，慢慢更新自己\\n吃喝玩乐+宝宝们，随心分享\\n佛系更新中～比心🫰 | Zodi...          美国      837   \n",
              "1  北京🇨🇳→ 达拉斯🇺🇸\\n163cm ♋巨蟹座 乐观开朗 \\nIG: sylviviishe...          美国      961   \n",
              "2  坐标 达拉斯 美国🇺🇸 来美14 年 家庭成员： 三只毛小孩🐶 喜欢旅游 和探索各地美食🥰 ...          美国      251   \n",
              "3  北美生活探店| Chinese Girl in Dallas TX\\n吃喝玩乐样样行 | 坐...          美国     1173   \n",
              "4  達拉斯，請多指教👋\\n在朝九晚五平淡生活中，\\n熱烈又燦爛的挖掘美好✨ | Zodiac: ...          美国      353   \n",
              "\n",
              "   fans  interaction  last_modify_ts 图文报价(RMB)  ...  comment_count  \\\n",
              "0  1653        11636   1741740734045        60  ...           2847   \n",
              "1   304        10699   1741746441631        10  ...           1713   \n",
              "2   258         3607   1741747540369        10  ...            641   \n",
              "3  1326        28064   1741807240419       100  ...            475   \n",
              "4   794         8149   1741814164296        20  ...            452   \n",
              "\n",
              "  share_count  note_count  location  ff_ratio  age_koc  is_female  \\\n",
              "0        4433         146        US  1.974910     2054          1   \n",
              "1        1818         142    abroad  0.316337     2459          1   \n",
              "2         852         222        US  1.027888     1879          1   \n",
              "3        1211          66        US  1.130435      476          1   \n",
              "4        1900         138        US  2.249292     1262          1   \n",
              "\n",
              "                  min                 max          post_span  \n",
              "0 2019-07-27 23:00:43 2025-03-12 00:32:05 2054 days 01:31:22  \n",
              "1 2018-06-12 07:38:23 2025-03-07 01:47:51 2459 days 18:09:28  \n",
              "2 2019-12-25 03:42:14 2025-02-15 04:23:29 1879 days 00:41:15  \n",
              "3 2023-11-15 07:27:31 2025-03-05 23:52:07  476 days 16:24:36  \n",
              "4 2021-08-24 23:44:32 2025-02-07 22:07:07 1262 days 22:22:35  \n",
              "\n",
              "[5 rows x 33 columns]"
            ]
          },
          "execution_count": 93,
          "metadata": {},
          "output_type": "execute_result"
        }
      ],
      "source": [
        "df_creator = pd.merge(df_creator, post_times, on='user_id', how='left')\n",
        "df_creator.head()"
      ]
    },
    {
      "cell_type": "markdown",
      "metadata": {
        "id": "GSvRHwlf-RJy"
      },
      "source": [
        "Add account length"
      ]
    },
    {
      "cell_type": "code",
      "execution_count": null,
      "metadata": {
        "colab": {
          "base_uri": "https://localhost:8080/"
        },
        "id": "wIdc0r51sY26",
        "outputId": "3d6d9d0c-7059-4ec8-b694-7c0667baada5"
      },
      "outputs": [
        {
          "data": {
            "text/plain": [
              "Index(['note_id', 'content_type_video', 'title', 'desc', 'post_time',\n",
              "       'last_update_time', 'user_id', 'liked_count', 'collected_count',\n",
              "       'comment_count', 'share_count', 'tag_list', 'image_count',\n",
              "       'interaction_count', 'hot_note', 'extract_ts', 'year', 'month',\n",
              "       'dayofweek', 'is_weekend', 'hour'],\n",
              "      dtype='object')"
            ]
          },
          "execution_count": 92,
          "metadata": {},
          "output_type": "execute_result"
        }
      ],
      "source": [
        "df_contents.columns"
      ]
    },
    {
      "cell_type": "code",
      "execution_count": 94,
      "metadata": {
        "colab": {
          "base_uri": "https://localhost:8080/"
        },
        "id": "jAIecXACsxpe",
        "outputId": "568455cc-d8cb-4ffe-bc96-e4c11682d699"
      },
      "outputs": [
        {
          "name": "stdout",
          "output_type": "stream",
          "text": [
            "0    1741740734045\n",
            "1    1741746441631\n",
            "2    1741747540369\n",
            "3    1741807240419\n",
            "4    1741814164296\n",
            "Name: last_modify_ts, dtype: int64\n",
            "                    user_id     first_post_time          last_modify_ts  \\\n",
            "0  576d3bde82ec3952ff40c5e1 2019-07-27 23:00:43 2025-03-12 00:52:14.045   \n",
            "1  58b325ce50c4b442ae017a30 2018-06-12 07:38:23 2025-03-12 02:27:21.631   \n",
            "2  5c0c067c0000000005022f0a 2019-12-25 03:42:14 2025-03-12 02:45:40.369   \n",
            "3  5649379603eb842b7ed00477 2023-11-15 07:27:31 2025-03-12 19:20:40.419   \n",
            "4  5d6a927e00000000010068b9 2021-08-24 23:44:32 2025-03-12 21:16:04.296   \n",
            "\n",
            "             account_length  \n",
            "0 2054 days 01:51:31.045000  \n",
            "1 2464 days 18:48:58.631000  \n",
            "2 1903 days 23:03:26.369000  \n",
            "3  483 days 11:53:09.419000  \n",
            "4 1295 days 21:31:32.296000  \n"
          ]
        }
      ],
      "source": [
        "# Convert post_time in df_contents (assuming it's in seconds)\n",
        "df_contents['post_time'] = pd.to_datetime(df_contents['post_time'], unit='s', errors='coerce')\n",
        "\n",
        "# For df_creator, first inspect the values to check if they are in seconds or milliseconds.\n",
        "print(df_creator['last_modify_ts'].head())\n",
        "\n",
        "# If the values look too large (e.g., in the range of 13-digit numbers), they might be in milliseconds.\n",
        "# Uncomment the appropriate conversion based on your inspection:\n",
        "\n",
        "# If timestamps are in seconds:\n",
        "# df_creator['last_modify_ts'] = pd.to_datetime(df_creator['last_modify_ts'], unit='s', errors='coerce')\n",
        "\n",
        "# If timestamps are in milliseconds:\n",
        "df_creator['last_modify_ts'] = pd.to_datetime(df_creator['last_modify_ts'], unit='ms', errors='coerce')\n",
        "\n",
        "# Get the earliest post time for each user\n",
        "earliest_posts = df_contents.groupby('user_id')['post_time'].min().reset_index()\n",
        "earliest_posts.rename(columns={'post_time': 'first_post_time'}, inplace=True)\n",
        "\n",
        "# Merge the earliest post time into df_creator based on user_id.\n",
        "df_creator = pd.merge(df_creator, earliest_posts, on='user_id', how='left')\n",
        "\n",
        "# Calculate account_length as the difference between last_modify_ts and first_post_time.\n",
        "df_creator['account_length'] = df_creator['last_modify_ts'] - df_creator['first_post_time']\n",
        "\n",
        "print(df_creator[['user_id', 'first_post_time', 'last_modify_ts', 'account_length']].head())\n"
      ]
    },
    {
      "cell_type": "markdown",
      "metadata": {
        "id": "z5XleyO--T4C"
      },
      "source": [
        "Add average post time & std"
      ]
    },
    {
      "cell_type": "code",
      "execution_count": 95,
      "metadata": {
        "colab": {
          "base_uri": "https://localhost:8080/"
        },
        "id": "iHcKonjVtPim",
        "outputId": "7abdbbc0-4022-491c-8f3f-ed54a13a2d4b"
      },
      "outputs": [
        {
          "name": "stdout",
          "output_type": "stream",
          "text": [
            "                    user_id   history_avg   history_std            post_avg  \\\n",
            "0  576d3bde82ec3952ff40c5e1  1.223938e+06  4.806686e+06 2022-11-17 15:53:58   \n",
            "1  58b325ce50c4b442ae017a30  1.507255e+06  5.636074e+06 2023-02-27 05:37:24   \n",
            "2  5c0c067c0000000005022f0a  7.346067e+05  1.077335e+06 2021-11-11 08:53:28   \n",
            "3  5649379603eb842b7ed00477  6.336227e+05  1.657265e+06 2024-10-21 08:26:10   \n",
            "4  5d6a927e00000000010068b9  7.964770e+05  2.409343e+06 2022-12-14 11:53:24   \n",
            "\n",
            "       post_std  \n",
            "0  3.297572e+07  \n",
            "1  4.406148e+07  \n",
            "2  4.007945e+07  \n",
            "3  7.186721e+06  \n",
            "4  3.483827e+07  \n"
          ]
        }
      ],
      "source": [
        "import numpy as np\n",
        "def compute_history_stats(times):\n",
        "    if len(times) <= 1:\n",
        "        # Return NaN for all four stats when not enough data\n",
        "        return np.nan, np.nan, np.nan, np.nan\n",
        "    # Ensure the times are sorted\n",
        "    sorted_times = np.sort(times)\n",
        "    # Compute intervals in seconds between posts\n",
        "    intervals = np.diff(sorted_times).astype('timedelta64[s]').astype(float)\n",
        "    avg_interval = intervals.mean()\n",
        "    std_interval = intervals.std()\n",
        "\n",
        "    # Convert times to numeric (seconds since epoch) for average and std computation\n",
        "    numeric_times = times.astype('datetime64[s]').astype('int64')\n",
        "    avg_post_numeric = numeric_times.mean()\n",
        "    std_post_numeric = numeric_times.std()\n",
        "    # Convert average back to datetime\n",
        "    avg_post_time = np.datetime64(int(avg_post_numeric), 's')\n",
        "\n",
        "    return avg_interval, std_interval, avg_post_time, std_post_numeric\n",
        "\n",
        "# Group by user_id and apply the function on the 'post_time' column\n",
        "history_stats = df_contents.groupby('user_id')['post_time'].apply(\n",
        "    lambda x: compute_history_stats(x.values)\n",
        ").reset_index()\n",
        "\n",
        "# Expand the computed tuple into separate columns:\n",
        "# history_avg: average interval between posts (in seconds)\n",
        "# history_std: standard deviation of intervals (in seconds)\n",
        "# post_avg: average posting time (datetime)\n",
        "# post_std: standard deviation of post times (in seconds)\n",
        "history_stats[['history_avg', 'history_std', 'post_avg', 'post_std']] = pd.DataFrame(\n",
        "    history_stats['post_time'].tolist(), index=history_stats.index\n",
        ")\n",
        "\n",
        "# Remove the temporary column\n",
        "history_stats.drop(columns=['post_time'], inplace=True)\n",
        "\n",
        "# Merge the stats into df_creator based on user_id.\n",
        "df_creator = pd.merge(df_creator, history_stats, on='user_id', how='left')\n",
        "\n",
        "# Print out the results\n",
        "print(df_creator[['user_id', 'history_avg', 'history_std', 'post_avg', 'post_std']].head())\n",
        "\n",
        "# unit is in seconds\n"
      ]
    },
    {
      "cell_type": "markdown",
      "metadata": {
        "id": "dVd_u3R8-djC"
      },
      "source": [
        "Add counts within 90 days"
      ]
    },
    {
      "cell_type": "code",
      "execution_count": 96,
      "metadata": {
        "colab": {
          "base_uri": "https://localhost:8080/"
        },
        "id": "iJ6M60QZuivq",
        "outputId": "6b1066e9-1ea6-40e3-dacd-3f0359f3af2c"
      },
      "outputs": [
        {
          "name": "stdout",
          "output_type": "stream",
          "text": [
            "                    user_id  liked_90  comment_90  collected_90  share_90  \\\n",
            "0  576d3bde82ec3952ff40c5e1     330.0        92.0         203.0     289.0   \n",
            "1  58b325ce50c4b442ae017a30     565.0       207.0         526.0     336.0   \n",
            "2  5c0c067c0000000005022f0a      15.0         4.0           0.0       1.0   \n",
            "3  5649379603eb842b7ed00477     533.0        61.0         124.0      84.0   \n",
            "4  5d6a927e00000000010068b9     127.0        27.0          55.0      50.0   \n",
            "\n",
            "   note_count_90  \n",
            "0            8.0  \n",
            "1           20.0  \n",
            "2            3.0  \n",
            "3           17.0  \n",
            "4            6.0  \n"
          ]
        }
      ],
      "source": [
        "import pandas as pd\n",
        "\n",
        "# Ensure timestamps are in datetime format\n",
        "df_creator['last_modify_ts'] = pd.to_datetime(df_creator['last_modify_ts'])\n",
        "df_contents['post_time'] = pd.to_datetime(df_contents['post_time'])\n",
        "\n",
        "# Merge last_modify_ts into df_contents for each note (to use the creator's timestamp in filtering)\n",
        "df_contents = df_contents.merge(\n",
        "    df_creator[['user_id', 'last_modify_ts']],\n",
        "    on='user_id',\n",
        "    how='left',\n",
        "    suffixes=('', '_creator')\n",
        ")\n",
        "\n",
        "# Filter for notes posted within 90 days before (or on) the creator's last_modify_ts\n",
        "df_recent = df_contents[\n",
        "    df_contents['post_time'] >= df_contents['last_modify_ts'] - pd.Timedelta(days=90)\n",
        "]\n",
        "\n",
        "# Group by user_id and sum the counts from recent notes.\n",
        "grouped_recent = df_recent.groupby('user_id').agg(\n",
        "    liked_90=('liked_count', 'sum'),\n",
        "    comment_90=('comment_count', 'sum'),\n",
        "    collected_90=('collected_count', 'sum'),\n",
        "    note_count_90=('note_id', 'count')  # counting the number of notes\n",
        ")\n",
        "\n",
        "# If df_contents has a 'share_count' column, include it in the aggregation:\n",
        "if 'share_count' in df_contents.columns:\n",
        "    grouped_recent['share_90'] = df_recent.groupby('user_id')['share_count'].sum()\n",
        "\n",
        "# Merge the recent counts back into df_creator.\n",
        "df_creator = pd.merge(df_creator, grouped_recent, on='user_id', how='left')\n",
        "\n",
        "# Replace any missing values (users with no notes in the past 90 days) with 0.\n",
        "df_creator[['liked_90', 'comment_90', 'collected_90', 'note_count_90']] = \\\n",
        "    df_creator[['liked_90', 'comment_90', 'collected_90', 'note_count_90']].fillna(0)\n",
        "\n",
        "if 'share_90' in df_creator.columns:\n",
        "    df_creator['share_90'] = df_creator['share_90'].fillna(0)\n",
        "\n",
        "print(df_creator[['user_id', 'liked_90', 'comment_90', 'collected_90', 'share_90' if 'share_90' in df_creator.columns else '', 'note_count_90']].head())\n"
      ]
    },
    {
      "cell_type": "code",
      "execution_count": 98,
      "metadata": {
        "colab": {
          "base_uri": "https://localhost:8080/",
          "height": 599
        },
        "id": "oqT8lg7550Pj",
        "outputId": "6ecb0952-509c-44dd-c011-190a9e3b4e5e"
      },
      "outputs": [
        {
          "name": "stdout",
          "output_type": "stream",
          "text": [
            "Columns in df_merged: ['note_id', 'content_type_video', 'title', 'desc', 'post_time', 'last_update_time', 'user_id', 'liked_count', 'collected_count', 'comment_count', 'share_count', 'tag_list', 'image_count', 'interaction_count', 'hot_note', 'extract_ts', 'year', 'month', 'dayofweek', 'is_weekend', 'hour', 'last_modify_ts', 'last_modify_ts_creator']\n"
          ]
        },
        {
          "ename": "TypeError",
          "evalue": "Addition/subtraction of integers and integer-arrays with DatetimeArray is no longer supported.  Instead of adding/subtracting `n`, use `n * obj.freq`",
          "output_type": "error",
          "traceback": [
            "\u001b[1;31m---------------------------------------------------------------------------\u001b[0m",
            "\u001b[1;31mTypeError\u001b[0m                                 Traceback (most recent call last)",
            "Cell \u001b[1;32mIn[98], line 17\u001b[0m\n\u001b[0;32m     13\u001b[0m \u001b[38;5;28mprint\u001b[39m(\u001b[38;5;124m\"\u001b[39m\u001b[38;5;124mColumns in df_merged:\u001b[39m\u001b[38;5;124m\"\u001b[39m, df_merged\u001b[38;5;241m.\u001b[39mcolumns\u001b[38;5;241m.\u001b[39mtolist())\n\u001b[0;32m     15\u001b[0m \u001b[38;5;66;03m# Now, the reference timestamp should be in the column 'last_modify_ts_creator'\u001b[39;00m\n\u001b[0;32m     16\u001b[0m \u001b[38;5;66;03m# Filter for posts within the 90-day window from each creator's last_modify_ts.\u001b[39;00m\n\u001b[1;32m---> 17\u001b[0m df_recent \u001b[38;5;241m=\u001b[39m df_merged[df_merged[\u001b[38;5;124m'\u001b[39m\u001b[38;5;124mpost_time\u001b[39m\u001b[38;5;124m'\u001b[39m] \u001b[38;5;241m>\u001b[39m\u001b[38;5;241m=\u001b[39m (\u001b[43mdf_merged\u001b[49m\u001b[43m[\u001b[49m\u001b[38;5;124;43m'\u001b[39;49m\u001b[38;5;124;43mlast_modify_ts_creator\u001b[39;49m\u001b[38;5;124;43m'\u001b[39;49m\u001b[43m]\u001b[49m\u001b[43m \u001b[49m\u001b[38;5;241;43m-\u001b[39;49m\u001b[43m \u001b[49m\u001b[43mthreshold_ms\u001b[49m)]\n\u001b[0;32m     19\u001b[0m \u001b[38;5;66;03m# Aggregate the metrics for these recent posts by user_id.\u001b[39;00m\n\u001b[0;32m     20\u001b[0m metrics_90 \u001b[38;5;241m=\u001b[39m df_recent\u001b[38;5;241m.\u001b[39mgroupby(\u001b[38;5;124m'\u001b[39m\u001b[38;5;124muser_id\u001b[39m\u001b[38;5;124m'\u001b[39m)\u001b[38;5;241m.\u001b[39magg(\n\u001b[0;32m     21\u001b[0m     liked_90\u001b[38;5;241m=\u001b[39m(\u001b[38;5;124m'\u001b[39m\u001b[38;5;124mliked_count\u001b[39m\u001b[38;5;124m'\u001b[39m, \u001b[38;5;124m'\u001b[39m\u001b[38;5;124msum\u001b[39m\u001b[38;5;124m'\u001b[39m),\n\u001b[0;32m     22\u001b[0m     collected_90\u001b[38;5;241m=\u001b[39m(\u001b[38;5;124m'\u001b[39m\u001b[38;5;124mcollected_count\u001b[39m\u001b[38;5;124m'\u001b[39m, \u001b[38;5;124m'\u001b[39m\u001b[38;5;124msum\u001b[39m\u001b[38;5;124m'\u001b[39m),\n\u001b[1;32m   (...)\u001b[0m\n\u001b[0;32m     25\u001b[0m     note_count_90\u001b[38;5;241m=\u001b[39m(\u001b[38;5;124m'\u001b[39m\u001b[38;5;124mnote_id\u001b[39m\u001b[38;5;124m'\u001b[39m, \u001b[38;5;124m'\u001b[39m\u001b[38;5;124mcount\u001b[39m\u001b[38;5;124m'\u001b[39m)\n\u001b[0;32m     26\u001b[0m )\u001b[38;5;241m.\u001b[39mreset_index()\n",
            "File \u001b[1;32mc:\\Users\\ningn\\anaconda3\\envs\\xiaohongshu2\\lib\\site-packages\\pandas\\core\\ops\\common.py:76\u001b[0m, in \u001b[0;36m_unpack_zerodim_and_defer.<locals>.new_method\u001b[1;34m(self, other)\u001b[0m\n\u001b[0;32m     72\u001b[0m             \u001b[38;5;28;01mreturn\u001b[39;00m \u001b[38;5;28mNotImplemented\u001b[39m\n\u001b[0;32m     74\u001b[0m other \u001b[38;5;241m=\u001b[39m item_from_zerodim(other)\n\u001b[1;32m---> 76\u001b[0m \u001b[38;5;28;01mreturn\u001b[39;00m \u001b[43mmethod\u001b[49m\u001b[43m(\u001b[49m\u001b[38;5;28;43mself\u001b[39;49m\u001b[43m,\u001b[49m\u001b[43m \u001b[49m\u001b[43mother\u001b[49m\u001b[43m)\u001b[49m\n",
            "File \u001b[1;32mc:\\Users\\ningn\\anaconda3\\envs\\xiaohongshu2\\lib\\site-packages\\pandas\\core\\arraylike.py:194\u001b[0m, in \u001b[0;36mOpsMixin.__sub__\u001b[1;34m(self, other)\u001b[0m\n\u001b[0;32m    192\u001b[0m \u001b[38;5;129m@unpack_zerodim_and_defer\u001b[39m(\u001b[38;5;124m\"\u001b[39m\u001b[38;5;124m__sub__\u001b[39m\u001b[38;5;124m\"\u001b[39m)\n\u001b[0;32m    193\u001b[0m \u001b[38;5;28;01mdef\u001b[39;00m\u001b[38;5;250m \u001b[39m\u001b[38;5;21m__sub__\u001b[39m(\u001b[38;5;28mself\u001b[39m, other):\n\u001b[1;32m--> 194\u001b[0m     \u001b[38;5;28;01mreturn\u001b[39;00m \u001b[38;5;28;43mself\u001b[39;49m\u001b[38;5;241;43m.\u001b[39;49m\u001b[43m_arith_method\u001b[49m\u001b[43m(\u001b[49m\u001b[43mother\u001b[49m\u001b[43m,\u001b[49m\u001b[43m \u001b[49m\u001b[43moperator\u001b[49m\u001b[38;5;241;43m.\u001b[39;49m\u001b[43msub\u001b[49m\u001b[43m)\u001b[49m\n",
            "File \u001b[1;32mc:\\Users\\ningn\\anaconda3\\envs\\xiaohongshu2\\lib\\site-packages\\pandas\\core\\series.py:6135\u001b[0m, in \u001b[0;36mSeries._arith_method\u001b[1;34m(self, other, op)\u001b[0m\n\u001b[0;32m   6133\u001b[0m \u001b[38;5;28;01mdef\u001b[39;00m\u001b[38;5;250m \u001b[39m\u001b[38;5;21m_arith_method\u001b[39m(\u001b[38;5;28mself\u001b[39m, other, op):\n\u001b[0;32m   6134\u001b[0m     \u001b[38;5;28mself\u001b[39m, other \u001b[38;5;241m=\u001b[39m \u001b[38;5;28mself\u001b[39m\u001b[38;5;241m.\u001b[39m_align_for_op(other)\n\u001b[1;32m-> 6135\u001b[0m     \u001b[38;5;28;01mreturn\u001b[39;00m \u001b[43mbase\u001b[49m\u001b[38;5;241;43m.\u001b[39;49m\u001b[43mIndexOpsMixin\u001b[49m\u001b[38;5;241;43m.\u001b[39;49m\u001b[43m_arith_method\u001b[49m\u001b[43m(\u001b[49m\u001b[38;5;28;43mself\u001b[39;49m\u001b[43m,\u001b[49m\u001b[43m \u001b[49m\u001b[43mother\u001b[49m\u001b[43m,\u001b[49m\u001b[43m \u001b[49m\u001b[43mop\u001b[49m\u001b[43m)\u001b[49m\n",
            "File \u001b[1;32mc:\\Users\\ningn\\anaconda3\\envs\\xiaohongshu2\\lib\\site-packages\\pandas\\core\\base.py:1382\u001b[0m, in \u001b[0;36mIndexOpsMixin._arith_method\u001b[1;34m(self, other, op)\u001b[0m\n\u001b[0;32m   1379\u001b[0m     rvalues \u001b[38;5;241m=\u001b[39m np\u001b[38;5;241m.\u001b[39marange(rvalues\u001b[38;5;241m.\u001b[39mstart, rvalues\u001b[38;5;241m.\u001b[39mstop, rvalues\u001b[38;5;241m.\u001b[39mstep)\n\u001b[0;32m   1381\u001b[0m \u001b[38;5;28;01mwith\u001b[39;00m np\u001b[38;5;241m.\u001b[39merrstate(\u001b[38;5;28mall\u001b[39m\u001b[38;5;241m=\u001b[39m\u001b[38;5;124m\"\u001b[39m\u001b[38;5;124mignore\u001b[39m\u001b[38;5;124m\"\u001b[39m):\n\u001b[1;32m-> 1382\u001b[0m     result \u001b[38;5;241m=\u001b[39m \u001b[43mops\u001b[49m\u001b[38;5;241;43m.\u001b[39;49m\u001b[43marithmetic_op\u001b[49m\u001b[43m(\u001b[49m\u001b[43mlvalues\u001b[49m\u001b[43m,\u001b[49m\u001b[43m \u001b[49m\u001b[43mrvalues\u001b[49m\u001b[43m,\u001b[49m\u001b[43m \u001b[49m\u001b[43mop\u001b[49m\u001b[43m)\u001b[49m\n\u001b[0;32m   1384\u001b[0m \u001b[38;5;28;01mreturn\u001b[39;00m \u001b[38;5;28mself\u001b[39m\u001b[38;5;241m.\u001b[39m_construct_result(result, name\u001b[38;5;241m=\u001b[39mres_name)\n",
            "File \u001b[1;32mc:\\Users\\ningn\\anaconda3\\envs\\xiaohongshu2\\lib\\site-packages\\pandas\\core\\ops\\array_ops.py:273\u001b[0m, in \u001b[0;36marithmetic_op\u001b[1;34m(left, right, op)\u001b[0m\n\u001b[0;32m    260\u001b[0m \u001b[38;5;66;03m# NB: We assume that extract_array and ensure_wrapped_if_datetimelike\u001b[39;00m\n\u001b[0;32m    261\u001b[0m \u001b[38;5;66;03m#  have already been called on `left` and `right`,\u001b[39;00m\n\u001b[0;32m    262\u001b[0m \u001b[38;5;66;03m#  and `maybe_prepare_scalar_for_op` has already been called on `right`\u001b[39;00m\n\u001b[0;32m    263\u001b[0m \u001b[38;5;66;03m# We need to special-case datetime64/timedelta64 dtypes (e.g. because numpy\u001b[39;00m\n\u001b[0;32m    264\u001b[0m \u001b[38;5;66;03m# casts integer dtypes to timedelta64 when operating with timedelta64 - GH#22390)\u001b[39;00m\n\u001b[0;32m    266\u001b[0m \u001b[38;5;28;01mif\u001b[39;00m (\n\u001b[0;32m    267\u001b[0m     should_extension_dispatch(left, right)\n\u001b[0;32m    268\u001b[0m     \u001b[38;5;129;01mor\u001b[39;00m \u001b[38;5;28misinstance\u001b[39m(right, (Timedelta, BaseOffset, Timestamp))\n\u001b[1;32m   (...)\u001b[0m\n\u001b[0;32m    271\u001b[0m     \u001b[38;5;66;03m# Timedelta/Timestamp and other custom scalars are included in the check\u001b[39;00m\n\u001b[0;32m    272\u001b[0m     \u001b[38;5;66;03m# because numexpr will fail on it, see GH#31457\u001b[39;00m\n\u001b[1;32m--> 273\u001b[0m     res_values \u001b[38;5;241m=\u001b[39m \u001b[43mop\u001b[49m\u001b[43m(\u001b[49m\u001b[43mleft\u001b[49m\u001b[43m,\u001b[49m\u001b[43m \u001b[49m\u001b[43mright\u001b[49m\u001b[43m)\u001b[49m\n\u001b[0;32m    274\u001b[0m \u001b[38;5;28;01melse\u001b[39;00m:\n\u001b[0;32m    275\u001b[0m     \u001b[38;5;66;03m# TODO we should handle EAs consistently and move this check before the if/else\u001b[39;00m\n\u001b[0;32m    276\u001b[0m     \u001b[38;5;66;03m# (https://github.com/pandas-dev/pandas/issues/41165)\u001b[39;00m\n\u001b[0;32m    277\u001b[0m     \u001b[38;5;66;03m# error: Argument 2 to \"_bool_arith_check\" has incompatible type\u001b[39;00m\n\u001b[0;32m    278\u001b[0m     \u001b[38;5;66;03m# \"Union[ExtensionArray, ndarray[Any, Any]]\"; expected \"ndarray[Any, Any]\"\u001b[39;00m\n\u001b[0;32m    279\u001b[0m     _bool_arith_check(op, left, right)  \u001b[38;5;66;03m# type: ignore[arg-type]\u001b[39;00m\n",
            "File \u001b[1;32mc:\\Users\\ningn\\anaconda3\\envs\\xiaohongshu2\\lib\\site-packages\\pandas\\core\\ops\\common.py:76\u001b[0m, in \u001b[0;36m_unpack_zerodim_and_defer.<locals>.new_method\u001b[1;34m(self, other)\u001b[0m\n\u001b[0;32m     72\u001b[0m             \u001b[38;5;28;01mreturn\u001b[39;00m \u001b[38;5;28mNotImplemented\u001b[39m\n\u001b[0;32m     74\u001b[0m other \u001b[38;5;241m=\u001b[39m item_from_zerodim(other)\n\u001b[1;32m---> 76\u001b[0m \u001b[38;5;28;01mreturn\u001b[39;00m \u001b[43mmethod\u001b[49m\u001b[43m(\u001b[49m\u001b[38;5;28;43mself\u001b[39;49m\u001b[43m,\u001b[49m\u001b[43m \u001b[49m\u001b[43mother\u001b[49m\u001b[43m)\u001b[49m\n",
            "File \u001b[1;32mc:\\Users\\ningn\\anaconda3\\envs\\xiaohongshu2\\lib\\site-packages\\pandas\\core\\arrays\\datetimelike.py:1441\u001b[0m, in \u001b[0;36mDatetimeLikeArrayMixin.__sub__\u001b[1;34m(self, other)\u001b[0m\n\u001b[0;32m   1437\u001b[0m \u001b[38;5;28;01melif\u001b[39;00m lib\u001b[38;5;241m.\u001b[39mis_integer(other):\n\u001b[0;32m   1438\u001b[0m     \u001b[38;5;66;03m# This check must come after the check for np.timedelta64\u001b[39;00m\n\u001b[0;32m   1439\u001b[0m     \u001b[38;5;66;03m# as is_integer returns True for these\u001b[39;00m\n\u001b[0;32m   1440\u001b[0m     \u001b[38;5;28;01mif\u001b[39;00m \u001b[38;5;129;01mnot\u001b[39;00m \u001b[38;5;28misinstance\u001b[39m(\u001b[38;5;28mself\u001b[39m\u001b[38;5;241m.\u001b[39mdtype, PeriodDtype):\n\u001b[1;32m-> 1441\u001b[0m         \u001b[38;5;28;01mraise\u001b[39;00m integer_op_not_supported(\u001b[38;5;28mself\u001b[39m)\n\u001b[0;32m   1442\u001b[0m     obj \u001b[38;5;241m=\u001b[39m cast(\u001b[38;5;124m\"\u001b[39m\u001b[38;5;124mPeriodArray\u001b[39m\u001b[38;5;124m\"\u001b[39m, \u001b[38;5;28mself\u001b[39m)\n\u001b[0;32m   1443\u001b[0m     result \u001b[38;5;241m=\u001b[39m obj\u001b[38;5;241m.\u001b[39m_addsub_int_array_or_scalar(other \u001b[38;5;241m*\u001b[39m obj\u001b[38;5;241m.\u001b[39mdtype\u001b[38;5;241m.\u001b[39m_n, operator\u001b[38;5;241m.\u001b[39msub)\n",
            "\u001b[1;31mTypeError\u001b[0m: Addition/subtraction of integers and integer-arrays with DatetimeArray is no longer supported.  Instead of adding/subtracting `n`, use `n * obj.freq`"
          ]
        }
      ],
      "source": [
        "\n",
        "threshold_ms = 90 * 24 * 3600 * 1000  # 90 days in ms\n",
        "\n",
        "# Merge df_contents with the subset of df_creator that has user_id and last_modify_ts.\n",
        "# Use suffixes so that the creator's timestamp comes out with a unique name.\n",
        "df_merged = pd.merge(\n",
        "    df_contents,\n",
        "    df_creator[['user_id', 'last_modify_ts']],\n",
        "    on='user_id',\n",
        "    how='left',\n",
        "    suffixes=('', '_creator')\n",
        ")\n",
        "\n",
        "print(\"Columns in df_merged:\", df_merged.columns.tolist())\n",
        "\n",
        "# Now, the reference timestamp should be in the column 'last_modify_ts_creator'\n",
        "# Filter for posts within the 90-day window from each creator's last_modify_ts.\n",
        "df_recent = df_merged[df_merged['post_time'] >= (df_merged['last_modify_ts_creator'] - threshold_ms)]\n",
        "\n",
        "# Aggregate the metrics for these recent posts by user_id.\n",
        "metrics_90 = df_recent.groupby('user_id').agg(\n",
        "    liked_90=('liked_count', 'sum'),\n",
        "    collected_90=('collected_count', 'sum'),\n",
        "    comment_90=('comment_count', 'sum'),\n",
        "    share_90=('share_count', 'sum'),\n",
        "    note_count_90=('note_id', 'count')\n",
        ").reset_index()\n",
        "\n",
        "# Merge the 90-day metrics into df_creator.\n",
        "df_creator = pd.merge(df_creator, metrics_90, on='user_id', how='left')\n",
        "\n",
        "# For creators with no posts in the last 90 days, fill missing values with 0.\n",
        "cols_to_fill = ['liked_90', 'collected_90', 'comment_90', 'share_90', 'note_count_90']\n",
        "df_creator[cols_to_fill] = df_creator[cols_to_fill].fillna(0)\n",
        "\n",
        "# Display the new columns to verify the result.\n",
        "print(df_creator[['user_id', 'liked_90', 'collected_90', 'comment_90', 'share_90', 'note_count_90']].head())\n"
      ]
    },
    {
      "cell_type": "code",
      "execution_count": 99,
      "metadata": {
        "colab": {
          "base_uri": "https://localhost:8080/"
        },
        "id": "Roe5TB0n50Lb",
        "outputId": "df07bdf4-db4a-4b24-a265-4c9a39def4a6"
      },
      "outputs": [
        {
          "name": "stdout",
          "output_type": "stream",
          "text": [
            "                    user_id  liked_180  comment_180  collected_180  \\\n",
            "0  576d3bde82ec3952ff40c5e1      728.0        219.0          476.0   \n",
            "1  58b325ce50c4b442ae017a30      598.0        328.0          539.0   \n",
            "2  5c0c067c0000000005022f0a       67.0          5.0           44.0   \n",
            "3  5649379603eb842b7ed00477     1555.0        299.0         1045.0   \n",
            "4  5d6a927e00000000010068b9      334.0         69.0          186.0   \n",
            "\n",
            "   note_count_180  share_180  \n",
            "0            13.0      687.0  \n",
            "1            27.0      356.0  \n",
            "2             6.0       43.0  \n",
            "3            49.0      887.0  \n",
            "4            14.0      210.0  \n"
          ]
        }
      ],
      "source": [
        "import pandas as pd\n",
        "\n",
        "# Ensure the timestamps are in datetime format.\n",
        "df_creator['last_modify_ts'] = pd.to_datetime(df_creator['last_modify_ts'])\n",
        "df_contents['post_time'] = pd.to_datetime(df_contents['post_time'])\n",
        "\n",
        "# Merge the creator's last_modify_ts into df_contents.\n",
        "df_contents = df_contents.merge(\n",
        "    df_creator[['user_id', 'last_modify_ts']],\n",
        "    on='user_id',\n",
        "    how='left',\n",
        "    suffixes=('', '_creator')\n",
        ")\n",
        "\n",
        "# Filter for notes posted within 180 days before (or on) the creator's last_modify_ts.\n",
        "df_recent_180 = df_contents[\n",
        "    df_contents['post_time'] >= df_contents['last_modify_ts'] - pd.Timedelta(days=180)\n",
        "]\n",
        "\n",
        "# Group by user_id and aggregate the counts.\n",
        "grouped_recent_180 = df_recent_180.groupby('user_id').agg(\n",
        "    liked_180=('liked_count', 'sum'),\n",
        "    comment_180=('comment_count', 'sum'),\n",
        "    collected_180=('collected_count', 'sum'),\n",
        "    note_count_180=('note_id', 'count')\n",
        ")\n",
        "\n",
        "# If the 'share_count' column exists in df_contents, include it:\n",
        "if 'share_count' in df_contents.columns:\n",
        "    grouped_recent_180['share_180'] = df_recent_180.groupby('user_id')['share_count'].sum()\n",
        "\n",
        "# Merge the aggregated counts back into df_creator.\n",
        "df_creator = pd.merge(df_creator, grouped_recent_180, on='user_id', how='left')\n",
        "\n",
        "# Replace missing values with 0 (for creators with no notes in the past 180 days).\n",
        "for col in ['liked_180', 'comment_180', 'collected_180', 'note_count_180']:\n",
        "    df_creator[col] = df_creator[col].fillna(0)\n",
        "\n",
        "if 'share_180' in df_creator.columns:\n",
        "    df_creator['share_180'] = df_creator['share_180'].fillna(0)\n",
        "\n",
        "# Display the updated columns for verification.\n",
        "print(df_creator[['user_id', 'liked_180', 'comment_180', 'collected_180', 'note_count_180', 'share_180']].head())\n"
      ]
    },
    {
      "cell_type": "code",
      "execution_count": 100,
      "metadata": {},
      "outputs": [
        {
          "data": {
            "text/plain": [
              "Index(['user_id', 'nickname', 'avatar', 'desc', 'ip_location', 'follows',\n",
              "       'fans', 'interaction', 'last_modify_ts', '图文报价(RMB)', '图文报价有对号', '平台等级',\n",
              "       'pic_per_normal_note', 'video_ratio', 'hot_note_count',\n",
              "       'total_share_counts_hot_ratio', 'last_note2now', 'last_hot_note2now',\n",
              "       'weighted_total_share_counts', 'score_2', 'score_5', 'liked_count',\n",
              "       'collected_count', 'comment_count', 'share_count', 'note_count',\n",
              "       'location', 'ff_ratio', 'age_koc', 'is_female', 'min', 'max',\n",
              "       'post_span', 'first_post_time', 'account_length', 'history_avg',\n",
              "       'history_std', 'post_avg', 'post_std', 'liked_90', 'comment_90',\n",
              "       'collected_90', 'note_count_90', 'share_90', 'liked_180', 'comment_180',\n",
              "       'collected_180', 'note_count_180', 'share_180'],\n",
              "      dtype='object')"
            ]
          },
          "execution_count": 100,
          "metadata": {},
          "output_type": "execute_result"
        }
      ],
      "source": [
        "df_creator.columns"
      ]
    }
  ],
  "metadata": {
    "colab": {
      "provenance": [],
      "toc_visible": true
    },
    "kernelspec": {
      "display_name": "xiaohongshu2",
      "language": "python",
      "name": "python3"
    },
    "language_info": {
      "codemirror_mode": {
        "name": "ipython",
        "version": 3
      },
      "file_extension": ".py",
      "mimetype": "text/x-python",
      "name": "python",
      "nbconvert_exporter": "python",
      "pygments_lexer": "ipython3",
      "version": "3.9.21"
    }
  },
  "nbformat": 4,
  "nbformat_minor": 0
}
