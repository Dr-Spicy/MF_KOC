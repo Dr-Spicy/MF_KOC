{
 "cells": [
  {
   "cell_type": "markdown",
   "id": "dbf04df9",
   "metadata": {},
   "source": []
  },
  {
   "cell_type": "code",
   "execution_count": 25,
   "id": "77b41847",
   "metadata": {},
   "outputs": [],
   "source": [
    "# -*- coding: utf-8 -*-\n",
    "# @Time    : 2025/04/03 \n",
    "import os\n",
    "import json\n",
    "import glob\n",
    "import pandas as pd\n",
    "import numpy as np\n",
    "import jieba "
   ]
  },
  {
   "cell_type": "markdown",
   "id": "f3c8cddd",
   "metadata": {},
   "source": []
  },
  {
   "cell_type": "code",
   "execution_count": 26,
   "id": "f94e436f",
   "metadata": {},
   "outputs": [],
   "source": [
    "# Define the constants\n",
    "\n",
    "COREWORDS = [\n",
    "    '鲜芋仙', 'meet fresh', 'meetfresh', 'park pavillion center', '台湾美食', 'taiwanese food',\n",
    "    '甜品', 'dessert', '2001 Coit', '9725966088', '(972) 596-6088',\n",
    "    '芋圆', 'taro', '仙草', 'grass jelly', '奶茶', 'milk tea', \n",
    "    '豆花', 'toufu pudding', '刨冰', 'shaved ice', '红豆汤', 'red bean soup',\n",
    "    '紫米粥', 'purple rice soup', '麻薯', 'mochi', '布丁', 'pudding'\n",
    "    ]\n",
    "\n",
    "\n"
   ]
  },
  {
   "cell_type": "code",
   "execution_count": 27,
   "id": "482d582c",
   "metadata": {},
   "outputs": [],
   "source": [
    "cont = pd.read_json('..\\..\\Data\\processed\\contents_cooked.json')"
   ]
  },
  {
   "cell_type": "code",
   "execution_count": 28,
   "id": "2217f541",
   "metadata": {},
   "outputs": [
    {
     "data": {
      "text/html": [
       "<div>\n",
       "<style scoped>\n",
       "    .dataframe tbody tr th:only-of-type {\n",
       "        vertical-align: middle;\n",
       "    }\n",
       "\n",
       "    .dataframe tbody tr th {\n",
       "        vertical-align: top;\n",
       "    }\n",
       "\n",
       "    .dataframe thead th {\n",
       "        text-align: right;\n",
       "    }\n",
       "</style>\n",
       "<table border=\"1\" class=\"dataframe\">\n",
       "  <thead>\n",
       "    <tr style=\"text-align: right;\">\n",
       "      <th></th>\n",
       "      <th>note_id</th>\n",
       "      <th>user_id</th>\n",
       "      <th>title</th>\n",
       "      <th>note_body</th>\n",
       "      <th>tag_list</th>\n",
       "      <th>image_count</th>\n",
       "      <th>content_type_video</th>\n",
       "      <th>hot_note</th>\n",
       "      <th>post_time</th>\n",
       "      <th>last_update_time</th>\n",
       "      <th>scraped_time</th>\n",
       "      <th>liked_count</th>\n",
       "      <th>collected_count</th>\n",
       "      <th>comment_count</th>\n",
       "      <th>share_count</th>\n",
       "      <th>interaction_count</th>\n",
       "    </tr>\n",
       "  </thead>\n",
       "  <tbody>\n",
       "    <tr>\n",
       "      <th>0</th>\n",
       "      <td>67d0d605000000002903d86a</td>\n",
       "      <td>576d3bde82ec3952ff40c5e1</td>\n",
       "      <td>有没有和我一样【吃茶三千】一喝一个不吱声的</td>\n",
       "      <td>连地址都不想写了[笑哭R]\\n虽然环境还不错，颜值也不错\\n但我感觉自己完全拔草了\\n尝了m...</td>\n",
       "      <td>达拉斯网红奶茶,达拉斯奶茶,达拉斯,达拉斯生活,达拉斯美食,达拉斯周边,达拉斯探店</td>\n",
       "      <td>1</td>\n",
       "      <td>0</td>\n",
       "      <td>0</td>\n",
       "      <td>2025-03-12 00:32:05</td>\n",
       "      <td>2025-03-12 00:32:06</td>\n",
       "      <td>2025-03-12 00:55:08.175</td>\n",
       "      <td>5</td>\n",
       "      <td>2</td>\n",
       "      <td>10</td>\n",
       "      <td>3</td>\n",
       "      <td>17</td>\n",
       "    </tr>\n",
       "    <tr>\n",
       "      <th>1</th>\n",
       "      <td>67c8960f000000002503ff5f</td>\n",
       "      <td>576d3bde82ec3952ff40c5e1</td>\n",
       "      <td>【达拉斯·玩】超治愈系手工体验！MUMU Garden</td>\n",
       "      <td>📍301 W Parker Rd #208[话题]#, Plano, TX 75023（快乐...</td>\n",
       "      <td>208,达拉斯生活,达拉斯探店,达拉斯,达拉斯吃喝玩乐,达拉斯手工,达拉斯周末,达拉斯周边,...</td>\n",
       "      <td>14</td>\n",
       "      <td>0</td>\n",
       "      <td>0</td>\n",
       "      <td>2025-03-05 18:21:03</td>\n",
       "      <td>2025-03-05 18:21:04</td>\n",
       "      <td>2025-03-12 00:55:08.248</td>\n",
       "      <td>47</td>\n",
       "      <td>23</td>\n",
       "      <td>7</td>\n",
       "      <td>37</td>\n",
       "      <td>77</td>\n",
       "    </tr>\n",
       "  </tbody>\n",
       "</table>\n",
       "</div>"
      ],
      "text/plain": [
       "                    note_id                   user_id  \\\n",
       "0  67d0d605000000002903d86a  576d3bde82ec3952ff40c5e1   \n",
       "1  67c8960f000000002503ff5f  576d3bde82ec3952ff40c5e1   \n",
       "\n",
       "                         title  \\\n",
       "0        有没有和我一样【吃茶三千】一喝一个不吱声的   \n",
       "1  【达拉斯·玩】超治愈系手工体验！MUMU Garden   \n",
       "\n",
       "                                           note_body  \\\n",
       "0  连地址都不想写了[笑哭R]\\n虽然环境还不错，颜值也不错\\n但我感觉自己完全拔草了\\n尝了m...   \n",
       "1  📍301 W Parker Rd #208[话题]#, Plano, TX 75023（快乐...   \n",
       "\n",
       "                                            tag_list  image_count  \\\n",
       "0          达拉斯网红奶茶,达拉斯奶茶,达拉斯,达拉斯生活,达拉斯美食,达拉斯周边,达拉斯探店            1   \n",
       "1  208,达拉斯生活,达拉斯探店,达拉斯,达拉斯吃喝玩乐,达拉斯手工,达拉斯周末,达拉斯周边,...           14   \n",
       "\n",
       "   content_type_video  hot_note           post_time    last_update_time  \\\n",
       "0                   0         0 2025-03-12 00:32:05 2025-03-12 00:32:06   \n",
       "1                   0         0 2025-03-05 18:21:03 2025-03-05 18:21:04   \n",
       "\n",
       "             scraped_time  liked_count  collected_count  comment_count  \\\n",
       "0 2025-03-12 00:55:08.175            5                2             10   \n",
       "1 2025-03-12 00:55:08.248           47               23              7   \n",
       "\n",
       "   share_count  interaction_count  \n",
       "0            3                 17  \n",
       "1           37                 77  "
      ]
     },
     "execution_count": 28,
     "metadata": {},
     "output_type": "execute_result"
    }
   ],
   "source": [
    "cont.head(2)"
   ]
  },
  {
   "cell_type": "code",
   "execution_count": 20,
   "id": "91168511",
   "metadata": {},
   "outputs": [],
   "source": [
    "# create a new column as the text column, which is the concatenation of the title and desc column\n",
    "cont['text'] = cont['title'] + ' ' + cont['desc']\n",
    "cont['text'] = cont['text'].str.replace('\\n', ' ')\n",
    "cont['text'] = cont['text'].str.replace('\\r', ' ')\n",
    "cont['text'] = cont['text'].str.replace('\\t', ' ')\n",
    "cont['text'] = cont['text'].str.replace('  ', ' ')"
   ]
  },
  {
   "cell_type": "code",
   "execution_count": null,
   "id": "75f9d8b6",
   "metadata": {},
   "outputs": [],
   "source": [
    "# enable jieba , and use the accurate mode \n",
    "jieba.enable_paddle()\n",
    "jieba.set_dictionary('..\\..\\Data\\processed\\dict.txt.big')\n",
    "jieba.initialize()"
   ]
  }
 ],
 "metadata": {
  "kernelspec": {
   "display_name": "torch",
   "language": "python",
   "name": "python3"
  },
  "language_info": {
   "codemirror_mode": {
    "name": "ipython",
    "version": 3
   },
   "file_extension": ".py",
   "mimetype": "text/x-python",
   "name": "python",
   "nbconvert_exporter": "python",
   "pygments_lexer": "ipython3",
   "version": "3.9.21"
  }
 },
 "nbformat": 4,
 "nbformat_minor": 5
}
