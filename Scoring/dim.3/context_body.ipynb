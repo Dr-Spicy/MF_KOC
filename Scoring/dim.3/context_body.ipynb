{
 "cells": [
  {
   "cell_type": "markdown",
   "id": "dbf04df9",
   "metadata": {},
   "source": []
  },
  {
   "cell_type": "code",
   "execution_count": 27,
   "id": "77b41847",
   "metadata": {},
   "outputs": [],
   "source": [
    "# -*- coding: utf-8 -*-\n",
    "# @Time    : 2025/04/03 \n",
    "import os\n",
    "import re\n",
    "import emoji\n",
    "from zhon.hanzi import punctuation as cn_punc\n",
    "import json\n",
    "import glob\n",
    "from langid import classify\n",
    "import jieba \n",
    "\n",
    "import pandas as pd\n",
    "import numpy as np\n",
    "from sklearn.feature_extraction.text import TfidfVectorizer"
   ]
  },
  {
   "cell_type": "markdown",
   "id": "f3c8cddd",
   "metadata": {},
   "source": []
  },
  {
   "cell_type": "code",
   "execution_count": 28,
   "id": "2a5f43e3",
   "metadata": {},
   "outputs": [
    {
     "name": "stderr",
     "output_type": "stream",
     "text": [
      "Building prefix dict from the default dictionary ...\n",
      "Dumping model to file cache C:\\Users\\Han\\AppData\\Local\\Temp\\jieba.cache\n",
      "Loading model cost 1.117 seconds.\n",
      "Prefix dict has been built successfully.\n"
     ]
    }
   ],
   "source": [
    "# Load the MeetFresh user dictionary\n",
    "jieba.load_userdict(\"MF_dict.txt\")"
   ]
  },
  {
   "cell_type": "code",
   "execution_count": 29,
   "id": "f94e436f",
   "metadata": {},
   "outputs": [],
   "source": [
    "# Define the constants\n",
    "\n",
    "core_keywords = {\n",
    "    '鲜芋仙', 'Meet Fresh', 'MeetFresh', '台湾美食', '甜品', \n",
    "    '芋圆', 'taro', '仙草', 'grass jelly', '奶茶', 'milk tea',\n",
    "    '豆花', 'tofu pudding', '奶刨冰', 'milked shaved ice',\n",
    "    '红豆汤', 'purple rice soup', '紫米粥', 'red bean soup',\n",
    "    '2001 Coit Rd', 'Park Pavillion Center', '(972) 596-6088'\n",
    "}\n",
    "\n"
   ]
  },
  {
   "cell_type": "code",
   "execution_count": 39,
   "id": "482d582c",
   "metadata": {},
   "outputs": [],
   "source": [
    "cont = pd.read_json('..\\..\\Data\\processed\\contents_cooked.json')"
   ]
  },
  {
   "cell_type": "code",
   "execution_count": 40,
   "id": "2217f541",
   "metadata": {},
   "outputs": [
    {
     "data": {
      "text/html": [
       "<div>\n",
       "<style scoped>\n",
       "    .dataframe tbody tr th:only-of-type {\n",
       "        vertical-align: middle;\n",
       "    }\n",
       "\n",
       "    .dataframe tbody tr th {\n",
       "        vertical-align: top;\n",
       "    }\n",
       "\n",
       "    .dataframe thead th {\n",
       "        text-align: right;\n",
       "    }\n",
       "</style>\n",
       "<table border=\"1\" class=\"dataframe\">\n",
       "  <thead>\n",
       "    <tr style=\"text-align: right;\">\n",
       "      <th></th>\n",
       "      <th>note_id</th>\n",
       "      <th>user_id</th>\n",
       "      <th>title</th>\n",
       "      <th>note_body</th>\n",
       "      <th>tag_list</th>\n",
       "      <th>image_count</th>\n",
       "      <th>content_type_video</th>\n",
       "      <th>hot_note</th>\n",
       "      <th>post_time</th>\n",
       "      <th>last_update_time</th>\n",
       "      <th>scraped_time</th>\n",
       "      <th>liked_count</th>\n",
       "      <th>collected_count</th>\n",
       "      <th>comment_count</th>\n",
       "      <th>share_count</th>\n",
       "      <th>interaction_count</th>\n",
       "      <th>text_length</th>\n",
       "    </tr>\n",
       "  </thead>\n",
       "  <tbody>\n",
       "    <tr>\n",
       "      <th>0</th>\n",
       "      <td>67d0d605000000002903d86a</td>\n",
       "      <td>576d3bde82ec3952ff40c5e1</td>\n",
       "      <td>有没有和我一样【吃茶三千】一喝一个不吱声的</td>\n",
       "      <td>连地址都不想写了[笑哭R]\\n虽然环境还不错，颜值也不错\\n但我感觉自己完全拔草了\\n尝了m...</td>\n",
       "      <td>达拉斯网红奶茶,达拉斯奶茶,达拉斯,达拉斯生活,达拉斯美食,达拉斯周边,达拉斯探店</td>\n",
       "      <td>1</td>\n",
       "      <td>0</td>\n",
       "      <td>0</td>\n",
       "      <td>2025-03-12 00:32:05</td>\n",
       "      <td>2025-03-12 00:32:06</td>\n",
       "      <td>2025-03-12 00:55:08.175</td>\n",
       "      <td>5</td>\n",
       "      <td>2</td>\n",
       "      <td>10</td>\n",
       "      <td>3</td>\n",
       "      <td>17</td>\n",
       "      <td>300</td>\n",
       "    </tr>\n",
       "    <tr>\n",
       "      <th>1</th>\n",
       "      <td>67c8960f000000002503ff5f</td>\n",
       "      <td>576d3bde82ec3952ff40c5e1</td>\n",
       "      <td>【达拉斯·玩】超治愈系手工体验！MUMU Garden</td>\n",
       "      <td>📍301 W Parker Rd #208[话题]#, Plano, TX 75023（快乐...</td>\n",
       "      <td>208,达拉斯生活,达拉斯探店,达拉斯,达拉斯吃喝玩乐,达拉斯手工,达拉斯周末,达拉斯周边,...</td>\n",
       "      <td>14</td>\n",
       "      <td>0</td>\n",
       "      <td>0</td>\n",
       "      <td>2025-03-05 18:21:03</td>\n",
       "      <td>2025-03-05 18:21:04</td>\n",
       "      <td>2025-03-12 00:55:08.248</td>\n",
       "      <td>47</td>\n",
       "      <td>23</td>\n",
       "      <td>7</td>\n",
       "      <td>37</td>\n",
       "      <td>77</td>\n",
       "      <td>847</td>\n",
       "    </tr>\n",
       "  </tbody>\n",
       "</table>\n",
       "</div>"
      ],
      "text/plain": [
       "                    note_id                   user_id  \\\n",
       "0  67d0d605000000002903d86a  576d3bde82ec3952ff40c5e1   \n",
       "1  67c8960f000000002503ff5f  576d3bde82ec3952ff40c5e1   \n",
       "\n",
       "                         title  \\\n",
       "0        有没有和我一样【吃茶三千】一喝一个不吱声的   \n",
       "1  【达拉斯·玩】超治愈系手工体验！MUMU Garden   \n",
       "\n",
       "                                           note_body  \\\n",
       "0  连地址都不想写了[笑哭R]\\n虽然环境还不错，颜值也不错\\n但我感觉自己完全拔草了\\n尝了m...   \n",
       "1  📍301 W Parker Rd #208[话题]#, Plano, TX 75023（快乐...   \n",
       "\n",
       "                                            tag_list  image_count  \\\n",
       "0          达拉斯网红奶茶,达拉斯奶茶,达拉斯,达拉斯生活,达拉斯美食,达拉斯周边,达拉斯探店            1   \n",
       "1  208,达拉斯生活,达拉斯探店,达拉斯,达拉斯吃喝玩乐,达拉斯手工,达拉斯周末,达拉斯周边,...           14   \n",
       "\n",
       "   content_type_video  hot_note           post_time    last_update_time  \\\n",
       "0                   0         0 2025-03-12 00:32:05 2025-03-12 00:32:06   \n",
       "1                   0         0 2025-03-05 18:21:03 2025-03-05 18:21:04   \n",
       "\n",
       "             scraped_time  liked_count  collected_count  comment_count  \\\n",
       "0 2025-03-12 00:55:08.175            5                2             10   \n",
       "1 2025-03-12 00:55:08.248           47               23              7   \n",
       "\n",
       "   share_count  interaction_count  text_length  \n",
       "0            3                 17          300  \n",
       "1           37                 77          847  "
      ]
     },
     "execution_count": 40,
     "metadata": {},
     "output_type": "execute_result"
    }
   ],
   "source": [
    "cont.head(2)"
   ]
  },
  {
   "cell_type": "code",
   "execution_count": 41,
   "id": "91168511",
   "metadata": {},
   "outputs": [],
   "source": [
    "# combine the title and note_body into a single string\n",
    "def process_text(note):\n",
    "    return note['title'] + ' ' + note['note_body']\n",
    "\n",
    "# Apply the function to the DataFrame\n",
    "cont['text'] = cont.apply(process_text, axis=1).astype(str)\n"
   ]
  },
  {
   "cell_type": "code",
   "execution_count": null,
   "id": "7a9a6012",
   "metadata": {},
   "outputs": [
    {
     "data": {
      "text/plain": [
       "'[达拉斯.吃]刘一手,目前火锅届性价比天花板 📍2001 Coit Rd Ste 137D, Plano, TX 75075 听说新团队接手了达拉斯刘一手,好吃又实惠,特意和朋友跑去瞅瞅什么情况 感觉确实诚不欺我!虽然新菜单还没做出来,但一些规则已经改为和休斯顿一样了,小朋友5岁以下免费,5-12岁收儿童自助餐费十几刀,然后目前小料台依旧免费(卤牛肉/猪耳朵/小馒头/麻球/点心/水果/冰粉吃到饱) 最重要的是锅底据说由集团负责人亲自监督味道,辣锅底料不再是加拿大运来的国际版,而是和休斯顿一样从国内直接进口的原版,确实好吃不少(就是我只敢点微辣[笑哭R]) 每次除了肉片,我家必点麻辣牛,片片竹笋,鱼籽福袋,鱼籽虾滑,黑鱼片,午餐肉,西洋菜,山药,藤椒千层肚(别点错成要钱的大刀毛肚[笑哭R]他们说新菜单会特别标注),手工面和爆浆糍粑(这个$4.95值!),真的都很好吃!!特别推荐不辣的寿喜锅,味道很足很日系,健康感这就来了 因为老公巨能吃肉,去点单的火锅店随便吃吃,小费后每次都要人均$7,80[哭惹R]在刘一手,两个人工作日晚上+鸳鸯锅底,$27.95+$13.95,单人加税只要$37.8!!! 而且人越多人均越低,四个人就能$32 (但选小费时请记得一定不要不好意思,可以custom输入你认为值得的价值,厚face如我)加上味道真是已经挺好吃了,非常对得起价格[飞吻R] 店员说这几天还有免费血浆袋酸梅汤赠送,可惜我太饱了没来一袋 明天的万圣节穿custume打卡,可以四人同行一人免单![仙女R][仙女R][仙女R]感兴趣的赶紧冲冲冲! PS:饭后别忘了要bluebell冰淇淋哦~这丝滑的羊毛绝对得薅[大笑R] #北美刘一手[话题]# #达拉斯火锅[话题]# #达拉斯美食[话题]# #达拉斯生活[话题]# #达拉斯[话题]# #达拉斯刘一手[话题]# #达拉斯探店[话题]# #达拉斯周边[话题]# #达拉斯周末[话题]# #达拉斯吃喝玩乐[话题]#'"
      ]
     },
     "execution_count": 44,
     "metadata": {},
     "output_type": "execute_result"
    }
   ],
   "source": [
    "# slice the 1st row of cont\n",
    "cont.iloc[11]"
   ]
  },
  {
   "cell_type": "markdown",
   "id": "66e7090e",
   "metadata": {},
   "source": [
    "中文文本清洗黄金四步法"
   ]
  },
  {
   "cell_type": "code",
   "execution_count": 34,
   "id": "731d2327",
   "metadata": {},
   "outputs": [],
   "source": [
    "def fullwidth_to_halfwidth(text):\n",
    "    \"\"\"全角转半角（保留￥符号）\"\"\"\n",
    "    translation_table = str.maketrans({\n",
    "        '！': '!', '“': '\"', '”': '\"', '‘': \"'\", '’': \"'\",\n",
    "        '、': ',', '，': ',', '；': ';', '：': ':', '？': '?',\n",
    "        '《': '<', '》': '>', '【': '[', '】': ']', '·': '.',\n",
    "        '～': '~', '—': '-', '（': '(', '）': ')', '　': ' '\n",
    "    })\n",
    "    return text.translate(translation_table)\n",
    "\n",
    "def normalize_punctuation(text):\n",
    "    \"\"\"符号标准化（保留emoji, retain 字符的位置信息但牺牲了效率, 之后可以考虑优化\"\"\"\n",
    "    # 定义保留符号集（新增%$￥）\n",
    "    keep_symbols = {\"'\", '\"', ',', '.', ':', ';', '!', '?', '-', \n",
    "                   '(', ')', '<', '>', '[', ']', '&', '#', '@',\n",
    "                   '%', '$', '￥', '/', '=', '+', '~', '^'}\n",
    "    \n",
    "    # 字符级处理, \n",
    "    cleaned_chars = []\n",
    "    for char in text:\n",
    "        # 保留条件：字母数字/汉字/keep_symbols/emoji\n",
    "        if (char.isalnum() or\n",
    "            '\\u4e00' <= char <= '\\u9fff' or\n",
    "            char in keep_symbols or\n",
    "            emoji.is_emoji(char)):\n",
    "            cleaned_chars.append(char)\n",
    "        else:\n",
    "            cleaned_chars.append(' ')\n",
    "    \n",
    "    return ''.join(cleaned_chars)\n",
    "\n",
    "def remove_urls(text):\n",
    "    \"\"\"适配中文域名的URL移除\"\"\"\n",
    "    url_pattern = re.compile(\n",
    "        r'(?:https?://)?(?:[a-zA-Z0-9\\u4e00-\\u9fff-]+\\.)+[a-zA-Z]{2,}'\n",
    "        r'(?:/\\S*)?(?:\\?\\S*)?(?:#\\S*)?',\n",
    "        flags=re.IGNORECASE\n",
    "    )\n",
    "    return url_pattern.sub('', text)\n",
    "\n",
    "def basic_clean(text):\n",
    "    \"\"\"\n",
    "    对文本进行基础层清洗，包括去除HTML标签、URL、特殊符号处理, 空格标准化等。\n",
    "    1. 移除HTML标签\n",
    "    2. 移除URL（适配中文域名）\n",
    "    3. 处理特殊符号（保留常用符号和emoji, 全角标点转半角）\n",
    "    4. 标准化空白字符\n",
    "\n",
    "    Args:\n",
    "        text (str): 待清洗的文本。\n",
    "    Returns:\n",
    "        str: 清洗后的文本。\n",
    "    \"\"\"\n",
    "    # 替换所有空白符（含小红书常见的全角空格\\u3000、换行、制表符）\n",
    "    text = re.sub(r'[\\t\\n\\u3000]', ' ', text)\n",
    "    # HTML标签移除\n",
    "    text = re.sub(r'<[^>]+>', '', text)\n",
    "    # URL移除, 适配中文域名\n",
    "    text = remove_urls(text)\n",
    "    # 全角转半角（保留全角￥）\n",
    "    text = fullwidth_to_halfwidth(text)\n",
    "    # 符号标准化\n",
    "    text = normalize_punctuation(text)\n",
    "    # 标准化合并连续空格\n",
    "    text = re.sub(r'\\s+', ' ', text).strip()\n",
    "    return text"
   ]
  },
  {
   "cell_type": "code",
   "execution_count": 42,
   "id": "587d3e33",
   "metadata": {},
   "outputs": [],
   "source": [
    "# apply the basic_clean function to the 'text' column\n",
    "cont['text'] = cont['text'].apply(basic_clean)"
   ]
  },
  {
   "cell_type": "markdown",
   "id": "225d81f2",
   "metadata": {},
   "source": [
    "社交媒体特征处理层"
   ]
  },
  {
   "cell_type": "code",
   "execution_count": null,
   "id": "3b77ee13",
   "metadata": {},
   "outputs": [
    {
     "data": {
      "text/plain": [
       "'有没有和我一样【吃茶三千】一喝一个不吱声的 连地址都不想写了 虽然环境还不错，颜值也不错 但我感觉自己完全拔草了 尝了mango茶sample：仿佛化掉的芒果冰棍 冻顶乌龙：茶味白开水 又见柠檬挞：矮子里的将军，青柠汁绿茶+cream，虽然算清新派里能喝的，但依旧偏寡淡 松针厚奶：茶香精味重+依旧白开水 \\t 是今天员工问题？还是达拉斯这家店问题？还是吃茶三千就这个风格？为什么值得排这么久的队呢…想不通啊想不通～'"
      ]
     },
     "execution_count": 20,
     "metadata": {},
     "output_type": "execute_result"
    }
   ],
   "source": [
    "def social_media_clean(text):\n",
    "    # 移除话题标签但保留关键词（如 #达拉斯美食 → 达拉斯美食）\n",
    "    text = re.sub(r'#([^\\s#]+)', r'\\1', text)\n",
    "    \n",
    "    # 移除@提及\n",
    "    text = re.sub(r'@\\S+', '', text)\n",
    "    \n",
    "    # 转换表情符号（可选策略）\n",
    "    strategy = 'remove'  # 或 'demojize'\n",
    "    if strategy == 'remove':\n",
    "        text = emoji.replace_emoji(text, replace='')\n",
    "    else:\n",
    "        text = emoji.demojize(text, delimiters=(' [', '] '))\n",
    "    \n",
    "    # 处理小红书特有格式（如[笑哭R]）\n",
    "    text = re.sub(r'\\[.*?\\]', '', text)\n",
    "    \n",
    "    return text"
   ]
  },
  {
   "cell_type": "code",
   "execution_count": null,
   "id": "b51188ef",
   "metadata": {},
   "outputs": [],
   "source": [
    "# 合并标题与正文\n",
    "def process_content(note):\n",
    "    return note['title'] + ' ' + note['note_body']\n",
    "\n",
    "# 示例处理第一条数据\n",
    "with open('contents_cooked.json') as f:\n",
    "    notes = json.load(f)\n",
    "\n",
    "sample_note = notes[0]\n",
    "combined_text = process_content(sample_note)\n",
    "\n",
    "# 清洗文本\n",
    "def clean_text(text):\n",
    "    text = re.sub(r'#\\S+', '', text)  # 移除话题标签\n",
    "    text = re.sub(r'\\[.*?\\]', '', text)  # 移除表情符号标记\n",
    "    text = re.sub(r'\\n', ' ', text)     # 换行符转空格\n",
    "    return text.strip()\n",
    "\n",
    "cleaned_text = clean_text(combined_text)"
   ]
  },
  {
   "cell_type": "code",
   "execution_count": null,
   "id": "75f9d8b6",
   "metadata": {},
   "outputs": [],
   "source": [
    "# enable jieba , and use the accurate mode \n",
    "jieba.enable_paddle()\n",
    "jieba.set_dictionary('..\\..\\Data\\processed\\dict.txt.big')\n",
    "jieba.initialize()"
   ]
  }
 ],
 "metadata": {
  "kernelspec": {
   "display_name": "torch",
   "language": "python",
   "name": "python3"
  },
  "language_info": {
   "codemirror_mode": {
    "name": "ipython",
    "version": 3
   },
   "file_extension": ".py",
   "mimetype": "text/x-python",
   "name": "python",
   "nbconvert_exporter": "python",
   "pygments_lexer": "ipython3",
   "version": "3.9.21"
  }
 },
 "nbformat": 4,
 "nbformat_minor": 5
}
