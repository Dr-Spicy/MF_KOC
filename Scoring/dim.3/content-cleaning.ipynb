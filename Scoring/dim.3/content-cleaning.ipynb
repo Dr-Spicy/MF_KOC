{
 "cells": [
  {
   "cell_type": "markdown",
   "id": "dbf04df9",
   "metadata": {},
   "source": []
  },
  {
   "cell_type": "code",
   "execution_count": 2,
   "id": "77b41847",
   "metadata": {},
   "outputs": [],
   "source": [
    "import time\n",
    "import random\n",
    "import pandas as pd\n",
    "from content_cleaning import *"
   ]
  },
  {
   "cell_type": "code",
   "execution_count": 5,
   "id": "9f23be91",
   "metadata": {},
   "outputs": [],
   "source": [
    "# 初始化处理器\n",
    "processor = XHSMixedLanguageProcessor(cache_size=2000, max_workers=12)\n",
    "# Load the cooked contents data\n",
    "cont = pd.read_json('..\\..\\Data\\processed\\contents_cooked.json')"
   ]
  },
  {
   "cell_type": "code",
   "execution_count": null,
   "id": "b9d4968f",
   "metadata": {},
   "outputs": [],
   "source": [
    "\n",
    "# # 示例笔记\n",
    "# sample_notes = [\n",
    "#     \"今天去了Dallas的鲜芋仙 #美食打卡# 这家MeetFresh真的超级好吃！The taro balls were amazing! 强烈推荐大家尝试～\",\n",
    "#     \"新开的台湾甜品店@小红书美食博主 服务态度nice，芋圆Q弹，仙草冻很香 #DFW美食# [笑哭R] 2001 Coit Rd真的很方便\",\n",
    "#     \"约上闺蜜一起去吃甜品，牛奶冰+芋圆组合👍 The dessert was incredibly refreshing on such a hot day! https://xiaohongshu.com/...\",\n",
    "#     \"今日份打卡：鲜芋仙 Park Pavillion Center，人均$15左右，店内环境整洁，服务态度很好，definitely worth the price!\",\n",
    "# ]\n",
    "\n",
    "# processed_text = processor.process_text(sample_notes[0], enable_translation=True)\n",
    "# print(\"单条处理结果:\", processed_text)\n",
    "# processed_texts = processor.batch_process(sample_notes)\n",
    "# print(\"\\n批量处理结果:\")\n",
    "# for i, text in enumerate(processed_texts):\n",
    "#     print(f\"{i+1}. {text}\")\n",
    "\n",
    "# combine the title and note_body into a single string\n",
    "def process_text(note):\n",
    "    return note['title'] + ' ' + note['note_body']\n",
    "\n",
    "# Apply the function to the DF\n",
    "cont['text'] = cont.apply(process_text, axis=1).astype(str)\n",
    "\n",
    "# Apply the batch processing function to the DF.text column\n",
    "start_time = time.time()\n",
    "processed_texts = processor.batch_process(cont['text'].tolist(), enable_translation=True)\n",
    "end_time = time.time()\n",
    "\n",
    "print(f\"批量处理耗时: {end_time - start_time:.2f}秒\")\n",
    "\n",
    "# save the processed texts to a new column in the DF\n",
    "cont['semantic_proc_text'] = processed_texts\n",
    "# remove the original text column\n",
    "cont.drop(columns=['text'], inplace=True)\n",
    "# save the processed DF to a new JSON file\n",
    "cont.to_json('..\\..\\Data\\processed\\contents_cooked_semantic.json', orient='records', lines=True, force_ascii=False)\n"
   ]
  },
  {
   "cell_type": "code",
   "execution_count": 3,
   "id": "4d858a3c",
   "metadata": {},
   "outputs": [
    {
     "data": {
      "text/plain": [
       "Index(['note_id', 'user_id', 'title', 'note_body', 'tag_list', 'image_count',\n",
       "       'content_type_video', 'hot_note', 'post_time', 'last_update_time',\n",
       "       'scraped_time', 'elapsed_time', 'liked_count', 'collected_count',\n",
       "       'comment_count', 'share_count', 'interaction_count',\n",
       "       'semantic_proc_text'],\n",
       "      dtype='object')"
      ]
     },
     "execution_count": 3,
     "metadata": {},
     "output_type": "execute_result"
    }
   ],
   "source": [
    "cont.columns"
   ]
  },
  {
   "cell_type": "code",
   "execution_count": 4,
   "id": "61cc7913",
   "metadata": {},
   "outputs": [
    {
     "data": {
      "text/plain": [
       "{'cache_size': 1965,\n",
       " 'cache_capacity': 2000,\n",
       " 'cache_hits': 176,\n",
       " 'translation_requests': 16883,\n",
       " 'cache_hit_rate': 0.01042468755552923}"
      ]
     },
     "execution_count": 4,
     "metadata": {},
     "output_type": "execute_result"
    }
   ],
   "source": [
    "processor.get_stats()"
   ]
  },
  {
   "cell_type": "code",
   "execution_count": 17,
   "id": "95c6fcf7",
   "metadata": {},
   "outputs": [
    {
     "name": "stdout",
     "output_type": "stream",
     "text": [
      "原始文本: 攻略|小众唯美的拍摄地｜融创海洋世界 趁暑期特惠好便宜的票，和小姐妹去了#融创海世界[话题]# 海洋隧道的天花板，超美！不仅适合带儿童的亲子出游，女生们来拍照都特别浪漫唯美哦[黄金薯R]\n",
      "\t\n",
      "这次我去的是无锡，南昌也有一家。\n",
      "暑假两家都有优惠，大家可以网上看看对比下票价。参考票价 成人夜场79元左右，白天170（暑假还是夜场合算 白天的话，非暑假会便宜点）\n",
      "\t\n",
      "里面不仅有海洋生物，还有各种萌宠和热带爬行动物，游乐项目大部分是免费的，没带儿童的大人都可以坐！门口有给你免费合影（送一张小张，如果洗大张要额外收费哦）\n",
      "\t\n",
      "暑假夜场票是很值得 比普通票价便宜很多，晚上时间完全够玩。\n",
      "#海洋馆[话题]##南昌融创海世界[话题]#\n",
      "\t\n",
      "#无锡融创海世界[话题]# #海洋馆拍照[话题]#\n",
      "处理后文本: 攻略 小众唯美的拍摄地 融创海洋世界 趁暑期特惠好便宜的票,和小姐妹去了融创海世界 海洋隧道的天花板,超美!不仅适合带儿童的亲子出游,女生们来拍照都特别浪漫唯美哦 这次我去的是无锡,南昌也有一家 暑假两家都有优惠,大家可以网上看看对比下票价 参考票价 成人夜场79元左右,白天170(暑假还是夜场合算 白天的话,非暑假会便宜点) 里面不仅有海洋生物,还有各种萌宠和热带爬行动物,游乐项目大部分是免费的,没带儿童的大人都可以坐!门口有给你免费合影(送一张小张,如果洗大张要额外收费哦) 暑假夜场票是很值得 比普通票价便宜很多,晚上时间完全够玩 海洋馆南昌融创海世界 无锡融创海世界 海洋馆拍照\n",
      "--------------------------------------------------------------------------------\n",
      "原始文本: 一生必去西班牙托莱多🇪🇸世界文化遗产 欧洲历史名城，梦幻中的哥特式古城，托莱多，浪漫而又神秘\n",
      "【景点攻略】\n",
      "亮点特色:\n",
      "托莱多(Toledo)是西班牙的古城。它始于罗马时期，在腓力二世前为卡斯蒂利亚王国(后西班牙王国)首都，为世界文化遗产之一。\n",
      "详细地址:\n",
      "托莱多市位于马德里以南70公里处，塔霍河环抱着半个城市，以艺术品著名。这里的雕塑品和金属饰品堪称精美。市内建筑及布局具有典型西班牙风格，被定为国家文物保护单位。托莱多为欧洲历史名城，公元前192年被罗马人占领，公元527年西哥特人统治西班牙\n",
      "依山而建，所以建议各位小仙女穿一个比较舒适的鞋子，方便游览整个古城的夜色的哦，可以玩一天，走到哪里拍到哪里的哦，西班牙的古城有一种欧洲小镇的感觉，韵味浓厚托莱多古城#西班牙[话题]# #世界文化遗产[话题]#\n",
      "处理后文本: 一生必去西班牙托莱多 世界文化遗产 欧洲历史名城,梦幻中的哥特式古城,托莱多,浪漫而又神秘 [景点攻略] 亮点特色: 托莱多(Toledo)是西班牙的古城 它始于罗马时期,在腓力二世前为卡斯蒂利亚王国(后西班牙王国)首都,为世界文化遗产之一 详细地址: 托莱多市位于马德里以南70公里处,塔霍河环抱着半个城市,以艺术品著名 这里的雕塑品和金属饰品堪称精美 市内建筑及布局具有典型西班牙风格,被定为国家文物保护单位 托莱多为欧洲历史名城,公元前192年被罗马人占领,公元527年西哥特人统治西班牙 依山而建,建议各位小仙女穿一个比较舒适的鞋子,方便游览整个古城的夜色的哦,可以玩一天,走到哪里拍到哪里的哦,西班牙的古城有一种欧洲小镇的感觉,韵味浓厚托莱多古城西班牙 世界文化遗产\n",
      "--------------------------------------------------------------------------------\n",
      "原始文本: 42岁重返美国大学校园第二周 终于结束了周五的课\n",
      "困了🥱累了😫脑子转不动了😵‍💫\n",
      "\t\n",
      "还是一如既往地每天做作业做到晚上凌晨1点左右，欠了一周的瞌睡，做作业到那么晚有几个原因：\n",
      "\t\n",
      "1.作业一般都是老师还没讲的内容，因为这个语言班学习是需要高中成绩证明的，所以默认大家都是大概学过的内容，作业对大家来说大概是回忆一下过去学的大致内容并做题，有问题第二天在课堂上给老师提出，老师就会讲解。而对中年的我来说大部分内容都是记忆里没有的，得现查资料现学，理解了以后再做题。所以我比年轻的同学们可能得多很多学习和复习的时间。（其中还包括查询各种语法、陌生单词、短语、句子结构……）\n",
      "\t\n",
      "2.这个语言班的课程设计：第二天讲课的内容就会包含头一天的作业。所以作业对我来说既是复习也是预习，如果不认真对,第二天的课程我就可能听不懂，因为是美国老师全英文教学，所以认真对待作业，即使作业做不对做不来的内容，课堂上就有可能懂了，但如果没认真对待作业，老师的快语速和快节奏我可能会跟不上。\n",
      "\t\n",
      "3.课程规模是小班教学，互动性非常强！老师有可能让每位同学到讲台上把自己的题放到幻灯机下投影给大家看你的作业答案，给大家讲你为什么这样答，也有可能分小组讨论或者找搭档互相分享自己的答案，所以对我来说认真对待作业是第二天课程的基础，我花了很多时间打这个基础。\n",
      "\t\n",
      "4.不得不承认：中年的我比起班上2005年左右出生的年轻同学们来说，脑子运转速度确实慢太多！有一天我观察到我题还没有读完，旁边的女生已经做完8道选择题了！\n",
      "\t\n",
      "但还是很开心！从第一天上课的经常听不懂加跟不上趟到现在的大多数时候听懂了、跟上趟了，进步了！\n",
      "\t\n",
      "老师也很关照我，估计我是班上年龄最大的学生，偶尔下课老师会专门喊着我的名字问我感觉怎么样？表扬肯定我做得好的地方！课上有时候看到我的眼神显得有点茫然的时候，也会停下来问我OK吗？\n",
      "\t\n",
      "同学们也很愿意帮助我，有时候听老师指令翻书没跟上趟，也会很主动地给我看他们的页数，做笔记没跟上趟，也会给我看他们的笔记，我不懂的地方，他们也在尽他们的所能给我讲解……\n",
      "\t\n",
      "总之，学英语虽然累、有困难，但也有人间温暖！一点点的进步也让自己很快乐！\n",
      "\t\n",
      "#中年重返大学校园[话题]##大学语言班[话题]#学英语#攻克语言障碍[话题]##美国大学语言班IELI[话题]#\n",
      "处理后文本: 42岁重返美国大学校园第二周 终于结束了周五的课 困了__EMOJI_yawning_face__累了__EMOJI_tired_face__脑子转不动了__EMOJI_face_with_crossed-out_eyes__ __EMOJI_dizzy__ 还是一如既往地每天做作业做到晚上凌晨1点左右,欠了一周的瞌睡,做作业到那么晚有几个原因: 1.作业一般都是老师还没讲的内容,因为语言班学习是需要高中成绩证明的,默认大家都是大概学过的内容,作业对大家来说大概是回忆一下过去学的大致内容并做题,有问题第二天在课堂上给老师提出,老师就会讲解 而对中年的我来说大部分内容都是记忆里没有的,得现查资料现学,理解了以后再做题 我比年轻的同学们可能得多很多学习和复习的时间 (其中还包括查询各种语法,陌生单词,短语,句子结构 ) 2.语言班的课程设计:第二天讲课的内容就会包含头一天的作业 作业对我来说既是复习也是预习,如果不认真对,第二天的课程我就可能听不懂,因为是美国老师全英文教学,认真对待作业,即使作业做不对做不来的内容,课堂上就有可能懂了,但如果没认真对待作业,老师的快语速和快节奏我可能会跟不上 3.课程规模是小班教学,互动性强!老师有可能让每位同学到讲台上把自己的题放到幻灯机下投影给大家看你的作业答案,给大家讲你为什么这样答,也有可能分小组讨论或者找搭档互相分享自己的答案,对我来说认真对待作业是第二天课程的基础,我花了很多时间打基础 4.不得不承认:中年的我比起班上2005年左右出生的年轻同学们来说,脑子运转速度确实慢太多!有一天我观察到我题还没有读完,旁边的女生已经做完8道选择题了! 但还是很开心!从第一天上课的经常听不懂加跟不上趟到现在的大多数时候听懂了,跟上趟了,进步了! 老师也很关照我,估计我是班上年龄最大的学生,偶尔下课老师会专门喊着我的名字问我感觉怎么样?表扬肯定我做得好的地方!课上有时候看到我的眼神显得有点茫然的时候,也会停下来问我OK吗? 同学们也很愿意帮助我,有时候听老师指令翻书没跟上趟,也会很主动地给我看他们的页数,做笔记没跟上趟,也会给我看他们的笔记,我不懂的地方,他们也在尽他们的所能给我讲解 总之,学英语虽然累,有困难,但也有人间温暖!一点点的进步也让自己很快乐! 中年重返大学校园大学语言班学英语攻克语言障碍美国大学语言班IELI\n",
      "--------------------------------------------------------------------------------\n"
     ]
    }
   ],
   "source": [
    "# 读取处理后的数据\n",
    "cont = pd.read_json('..\\..\\Data\\processed\\contents_cooked_semantic.json', lines=True)\n",
    "\n",
    "# 随机挑3个笔记输出标题+正文, 并和处理后的文本对比\n",
    "for i in range(3):\n",
    "    idx = random.randint(0, len(cont) - 1)\n",
    "    print(f\"原始文本: {cont.iloc[idx]['title']} {cont.iloc[idx]['note_body']}\")\n",
    "    print(f\"处理后文本: {cont.iloc[idx]['semantic_proc_text']}\")\n",
    "    print(\"-\" * 80)"
   ]
  },
  {
   "cell_type": "code",
   "execution_count": null,
   "id": "4cb06e3d",
   "metadata": {},
   "outputs": [],
   "source": []
  }
 ],
 "metadata": {
  "kernelspec": {
   "display_name": "torch",
   "language": "python",
   "name": "python3"
  },
  "language_info": {
   "codemirror_mode": {
    "name": "ipython",
    "version": 3
   },
   "file_extension": ".py",
   "mimetype": "text/x-python",
   "name": "python",
   "nbconvert_exporter": "python",
   "pygments_lexer": "ipython3",
   "version": "3.9.21"
  }
 },
 "nbformat": 4,
 "nbformat_minor": 5
}
