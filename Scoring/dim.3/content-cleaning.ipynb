{
 "cells": [
  {
   "cell_type": "markdown",
   "id": "dbf04df9",
   "metadata": {},
   "source": []
  },
  {
   "cell_type": "code",
   "execution_count": 1,
   "id": "77b41847",
   "metadata": {},
   "outputs": [],
   "source": [
    "import time\n",
    "import pandas as pd\n",
    "from content_cleaning import *"
   ]
  },
  {
   "cell_type": "code",
   "execution_count": 2,
   "id": "9f23be91",
   "metadata": {},
   "outputs": [
    {
     "name": "stdout",
     "output_type": "stream",
     "text": [
      "批量处理耗时: 432.16秒\n"
     ]
    }
   ],
   "source": [
    "# 初始化处理器\n",
    "processor = XHSMixedLanguageProcessor(cache_size=2000, max_workers=12)\n",
    "\n",
    "# # 示例笔记\n",
    "# sample_notes = [\n",
    "#     \"今天去了Dallas的鲜芋仙 #美食打卡# 这家MeetFresh真的超级好吃！The taro balls were amazing! 强烈推荐大家尝试～\",\n",
    "#     \"新开的台湾甜品店@小红书美食博主 服务态度nice，芋圆Q弹，仙草冻很香 #DFW美食# [笑哭R] 2001 Coit Rd真的很方便\",\n",
    "#     \"约上闺蜜一起去吃甜品，牛奶冰+芋圆组合👍 The dessert was incredibly refreshing on such a hot day! https://xiaohongshu.com/...\",\n",
    "#     \"今日份打卡：鲜芋仙 Park Pavillion Center，人均$15左右，店内环境整洁，服务态度很好，definitely worth the price!\",\n",
    "# ]\n",
    "\n",
    "# processed_text = processor.process_text(sample_notes[0], enable_translation=True)\n",
    "# print(\"单条处理结果:\", processed_text)\n",
    "# processed_texts = processor.batch_process(sample_notes)\n",
    "# print(\"\\n批量处理结果:\")\n",
    "# for i, text in enumerate(processed_texts):\n",
    "#     print(f\"{i+1}. {text}\")\n",
    "\n",
    "# Load the cooked contents data\n",
    "cont = pd.read_json('..\\..\\Data\\processed\\contents_cooked.json')\n",
    "\n",
    "# combine the title and note_body into a single string\n",
    "def process_text(note):\n",
    "    return note['title'] + ' ' + note['note_body']\n",
    "\n",
    "# Apply the function to the DF\n",
    "cont['text'] = cont.apply(process_text, axis=1).astype(str)\n",
    "\n",
    "# Apply the batch processing function to the DF.text column\n",
    "start_time = time.time()\n",
    "processed_texts = processor.batch_process(cont['text'].tolist(), enable_translation=True)\n",
    "end_time = time.time()\n",
    "\n",
    "print(f\"批量处理耗时: {end_time - start_time:.2f}秒\")\n",
    "\n",
    "# save the processed texts to a new column in the DF\n",
    "cont['semantic_proc_text'] = processed_texts\n",
    "# remove the original text column\n",
    "cont.drop(columns=['text'], inplace=True)\n",
    "# save the processed DF to a new JSON file\n",
    "cont.to_json('..\\..\\Data\\processed\\contents_cooked_semantic.json', orient='records', lines=True, force_ascii=False)\n"
   ]
  },
  {
   "cell_type": "code",
   "execution_count": 3,
   "id": "4d858a3c",
   "metadata": {},
   "outputs": [
    {
     "data": {
      "text/plain": [
       "Index(['note_id', 'user_id', 'title', 'note_body', 'tag_list', 'image_count',\n",
       "       'content_type_video', 'hot_note', 'post_time', 'last_update_time',\n",
       "       'scraped_time', 'elapsed_time', 'liked_count', 'collected_count',\n",
       "       'comment_count', 'share_count', 'interaction_count',\n",
       "       'semantic_proc_text'],\n",
       "      dtype='object')"
      ]
     },
     "execution_count": 3,
     "metadata": {},
     "output_type": "execute_result"
    }
   ],
   "source": [
    "cont.columns"
   ]
  },
  {
   "cell_type": "code",
   "execution_count": 4,
   "id": "61cc7913",
   "metadata": {},
   "outputs": [
    {
     "data": {
      "text/plain": [
       "{'cache_size': 1965,\n",
       " 'cache_capacity': 2000,\n",
       " 'cache_hits': 176,\n",
       " 'translation_requests': 16883,\n",
       " 'cache_hit_rate': 0.01042468755552923}"
      ]
     },
     "execution_count": 4,
     "metadata": {},
     "output_type": "execute_result"
    }
   ],
   "source": [
    "processor.get_stats()"
   ]
  }
 ],
 "metadata": {
  "kernelspec": {
   "display_name": "torch",
   "language": "python",
   "name": "python3"
  },
  "language_info": {
   "codemirror_mode": {
    "name": "ipython",
    "version": 3
   },
   "file_extension": ".py",
   "mimetype": "text/x-python",
   "name": "python",
   "nbconvert_exporter": "python",
   "pygments_lexer": "ipython3",
   "version": "3.9.21"
  }
 },
 "nbformat": 4,
 "nbformat_minor": 5
}
